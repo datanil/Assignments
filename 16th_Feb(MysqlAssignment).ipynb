{
  "cells": [
    {
      "cell_type": "markdown",
      "metadata": {
        "id": "view-in-github",
        "colab_type": "text"
      },
      "source": [
        "<a href=\"https://colab.research.google.com/github/datanil/Assignments/blob/main/16th_Feb(MysqlAssignment).ipynb\" target=\"_parent\"><img src=\"https://colab.research.google.com/assets/colab-badge.svg\" alt=\"Open In Colab\"/></a>"
      ]
    },
    {
      "cell_type": "markdown",
      "id": "612eb95a-f81f-4903-a5a8-dbf09490a37f",
      "metadata": {
        "id": "612eb95a-f81f-4903-a5a8-dbf09490a37f"
      },
      "source": [
        "# ___Q1. What is a database? Differentiate between SQL and NoSQL databases.___"
      ]
    },
    {
      "cell_type": "markdown",
      "id": "dc401aee-a2a4-4764-8a3c-4bfa4f8272ca",
      "metadata": {
        "id": "dc401aee-a2a4-4764-8a3c-4bfa4f8272ca"
      },
      "source": [
        "## ___Answer :___"
      ]
    },
    {
      "cell_type": "markdown",
      "id": "2e52c58f-3238-41c8-bc36-4c979cbef6ef",
      "metadata": {
        "id": "2e52c58f-3238-41c8-bc36-4c979cbef6ef"
      },
      "source": [
        "\n",
        "A __database__ is an organized collection of data that is stored and managed electronically. It is designed to store large amounts of information in a way that allows for efficient storage, retrieval, and management of data. Databases can be used for a wide variety of applications, such as managing customer information, inventory, financial records, or scientific data. They can also be used for powering websites, mobile apps, and other software applications that require the storage and management of data. A database typically consists of tables, each of which contains a set of related data that can be accessed and manipulated using a query language. The data stored in a database can be organized in various ways, including hierarchical, network, or relational structures, depending on the specific needs of the application."
      ]
    },
    {
      "cell_type": "markdown",
      "id": "90ac5b90-4d0f-4d40-9942-30d2cf036673",
      "metadata": {
        "id": "90ac5b90-4d0f-4d40-9942-30d2cf036673"
      },
      "source": [
        "__1.Type :–__\n",
        "\n",
        "SQL databases are primarily called as Relational Databases (RDBMS);\n",
        "    Whereas NoSQL database are primarily called as non-relational or distributed database.\n",
        "\n",
        "__2.Language :–__\n",
        "\n",
        "SQL databases defines and manipulates data based structured query language (SQL). Seeing from a side this language is extremely powerful. SQL is one of the most versatile and widely-used options available which makes it a safe choice especially for great complex queries. But from other side it can be restrictive. SQL requires you to use predefined schemas to determine the structure of your data before you work with it. Also all of your data must follow the same structure. This can require significant up-front preparation which means that a change in the structure would be both difficult and disruptive to your whole system.\n",
        "A NoSQL database has dynamic schema for unstructured data. Data is stored in many ways which means it can be document-oriented, column-oriented, graph-based or organized as a KeyValue store. This flexibility means that documents can be created without having defined structure first. Also each document can have its own unique structure. The syntax varies from database to database, and you can add fields as you go.\n",
        "\n",
        "__3.Scalability :–__\n",
        "\n",
        "In almost all situations SQL databases are vertically scalable. This means that you can increase the load on a single server by increasing things like RAM, CPU or SSD. But on the other hand NoSQL databases are horizontally scalable. This means that you handle more traffic by sharding, or adding more servers in your NoSQL database. It is similar to adding more floors to the same building versus adding more buildings to the neighborhood. Thus NoSQL can ultimately become larger and more powerful, making these databases the preferred choice for large or ever-changing data sets.\n",
        "\n",
        "__4. Structure :–__\n",
        "\n",
        "SQL databases are table-based on the other hand NoSQL databases are either key-value pairs, document-based, graph databases or wide-column stores. This makes relational SQL databases a better option for applications that require multi-row transactions such as an accounting system or for legacy systems that were built for a relational structure.\n",
        "\n",
        "__5. Property followed :–__\n",
        "\n",
        "SQL databases follow ACID properties (Atomicity, Consistency, Isolation and Durability) whereas the NoSQL database follows the Brewers CAP theorem (Consistency, Availability and Partition tolerance).\n",
        "\n",
        "__6. Support :–__\n",
        "\n",
        "Great support is available for all SQL database from their vendors. Also a lot of independent consultations are there who can help you with SQL database for a very large scale deployments but for some NoSQL database you still have to rely on community support and only limited outside experts are available for setting up and deploying your large scale NoSQL deployments."
      ]
    },
    {
      "cell_type": "markdown",
      "id": "a0922a03-b29e-483d-8b3e-e95d1052d014",
      "metadata": {
        "id": "a0922a03-b29e-483d-8b3e-e95d1052d014"
      },
      "source": [
        "------------------------------------------------------------------------------------------"
      ]
    },
    {
      "cell_type": "markdown",
      "id": "897a7c20-38a6-4e0c-8883-314a17f3206b",
      "metadata": {
        "id": "897a7c20-38a6-4e0c-8883-314a17f3206b"
      },
      "source": [
        "# ___Q2. What is DDL? Explain why CREATE, DROP, ALTER, and TRUNCATE are used with an example.___"
      ]
    },
    {
      "cell_type": "markdown",
      "id": "39271df1-01cf-4139-a9c6-07034262ca87",
      "metadata": {
        "id": "39271df1-01cf-4139-a9c6-07034262ca87"
      },
      "source": [
        "## ___Answer :___"
      ]
    },
    {
      "cell_type": "markdown",
      "id": "42e6b67f-85db-4810-bc84-ae8df41bfee1",
      "metadata": {
        "id": "42e6b67f-85db-4810-bc84-ae8df41bfee1"
      },
      "source": [
        "__DDL stands for Data Definition Language,__ which is a set of SQL commands used to define and manage the structure of a database. DDL commands are used to ___create, modify, and delete database objects such as tables, indexes, views, and procedures.___"
      ]
    },
    {
      "cell_type": "markdown",
      "id": "5cab33e9-f31d-4a30-9642-07258b575753",
      "metadata": {
        "id": "5cab33e9-f31d-4a30-9642-07258b575753"
      },
      "source": [
        "__CREATE:__ The CREATE command is used to create a new database object, such as a table, index, view, or procedure. For example, the CREATE TABLE command is used to create a new table in the database, with the specified columns and data types.\n",
        "\n",
        "__DROP:__ The DROP command is used to delete a database object, such as a table, index, view, or procedure. For example, the DROP TABLE command is used to delete a table from the database.\n",
        "\n",
        "__ALTER:__ The ALTER command is used to modify the structure of a database object, such as a table, index, view, or procedure. For example, the ALTER TABLE command is used to add, modify, or delete columns in a table.\n",
        "\n",
        "__TRUNCATE:__ The TRUNCATE command is used to delete all the data from a table, while keeping the table structure intact. It is a faster alternative to the DELETE command, as it removes all the data from the table in a single operation."
      ]
    },
    {
      "cell_type": "markdown",
      "id": "01376f87-0778-4be2-a342-5a3755a7b79b",
      "metadata": {
        "id": "01376f87-0778-4be2-a342-5a3755a7b79b"
      },
      "source": [
        "___Here is example showing the functions of CREATE , DROP , ALTER , and TRANCATE___"
      ]
    },
    {
      "cell_type": "markdown",
      "id": "be10fbe3-8a64-40e3-b11f-0357f29334d6",
      "metadata": {
        "id": "be10fbe3-8a64-40e3-b11f-0357f29334d6"
      },
      "source": [
        "__CREATE :__"
      ]
    },
    {
      "cell_type": "markdown",
      "id": "b4fda073-20f6-48db-a93d-7329d57f89aa",
      "metadata": {
        "id": "b4fda073-20f6-48db-a93d-7329d57f89aa"
      },
      "source": [
        "___#this creates the database named mydb___\n",
        "\n",
        "    CREATE DATABASE if not exists mydb;"
      ]
    },
    {
      "cell_type": "markdown",
      "id": "515ef5af-aa5f-49a3-901d-c84c010feef0",
      "metadata": {
        "id": "515ef5af-aa5f-49a3-901d-c84c010feef0"
      },
      "source": [
        "-----------------------------------------------------------------------------------------"
      ]
    },
    {
      "cell_type": "markdown",
      "id": "995b7906-0dcf-4c08-a1c3-dcdd26c0acb5",
      "metadata": {
        "id": "995b7906-0dcf-4c08-a1c3-dcdd26c0acb5"
      },
      "source": [
        "___#It creates the tables which contains id which is unique that is why it is said to be as primary key , name and email#___\n",
        "\n",
        "    CREATE TABLE if not exists customers(\n",
        "        id INT PRIMARY KEY,\n",
        "        name VARCHAR(50),\n",
        "        email VARCHAR(50),\n",
        "    );"
      ]
    },
    {
      "cell_type": "markdown",
      "id": "1878e3ac-d368-41e9-9bff-7ec8f02d7f56",
      "metadata": {
        "id": "1878e3ac-d368-41e9-9bff-7ec8f02d7f56"
      },
      "source": [
        "-----------------------------------------------------------------------------------------"
      ]
    },
    {
      "cell_type": "markdown",
      "id": "5e54906b-0874-4c66-b696-64a14b8fea7a",
      "metadata": {
        "id": "5e54906b-0874-4c66-b696-64a14b8fea7a"
      },
      "source": [
        "___#This will delete the specific table here , it deletes the customer table___\n",
        "\n",
        "    DROP TABLE customers;"
      ]
    },
    {
      "cell_type": "markdown",
      "id": "29028261-7507-4f08-ad1c-080790517d48",
      "metadata": {
        "id": "29028261-7507-4f08-ad1c-080790517d48"
      },
      "source": [
        "-----------------------------------------------------------------------------------------"
      ]
    },
    {
      "cell_type": "markdown",
      "id": "9e8f6cb1-767a-4e02-b280-e72ff11487b1",
      "metadata": {
        "id": "9e8f6cb1-767a-4e02-b280-e72ff11487b1"
      },
      "source": [
        "___#This command modifies the structure of the database,It will add a new coloumn called \"phone number \" to the \"customer table\" that was created earlier.___\n",
        "\n",
        "    ALTER TABLE customers ADD phone_number INT(10);  "
      ]
    },
    {
      "cell_type": "markdown",
      "id": "aaeff550-7bc8-4586-b440-20b64fc271ee",
      "metadata": {
        "id": "aaeff550-7bc8-4586-b440-20b64fc271ee"
      },
      "source": [
        "-----------------------------------------------------------------------------------------"
      ]
    },
    {
      "cell_type": "markdown",
      "id": "27ce1be5-afe8-41dc-bee0-e820bc251fc9",
      "metadata": {
        "id": "27ce1be5-afe8-41dc-bee0-e820bc251fc9"
      },
      "source": [
        "___#This will delete all the data from a table , while keeping the table intact.___\n",
        "\n",
        "    TRUNCATE TABLE customers;"
      ]
    },
    {
      "cell_type": "markdown",
      "id": "56983ad7-73dd-465f-9871-6296d860418d",
      "metadata": {
        "id": "56983ad7-73dd-465f-9871-6296d860418d"
      },
      "source": [
        "-----------------------------------------------------------------------------------------"
      ]
    },
    {
      "cell_type": "markdown",
      "id": "d64cd101-344e-4835-905e-d0a0ace8d183",
      "metadata": {
        "id": "d64cd101-344e-4835-905e-d0a0ace8d183"
      },
      "source": [
        "# ___Q3. What is DML? Explain INSERT, UPDATE, and DELETE with an example.___"
      ]
    },
    {
      "cell_type": "markdown",
      "id": "a740f410-8393-4fbc-9a45-fe3365eb1e80",
      "metadata": {
        "id": "a740f410-8393-4fbc-9a45-fe3365eb1e80"
      },
      "source": [
        "## ___Answer :___"
      ]
    },
    {
      "cell_type": "markdown",
      "id": "293f3a03-4229-467a-b14b-66d36c1eef30",
      "metadata": {
        "id": "293f3a03-4229-467a-b14b-66d36c1eef30"
      },
      "source": [
        "DML stands for Data Manipulation Language, which is a set of SQL commands used to manipulate data in a database. DML commands are used to insert, update, and delete data from tables in a database."
      ]
    },
    {
      "cell_type": "markdown",
      "id": "eaca4874-fe9d-478c-842d-44717be7ca33",
      "metadata": {
        "id": "eaca4874-fe9d-478c-842d-44717be7ca33"
      },
      "source": [
        "__INSERT:__ The INSERT command is used to insert new rows of data into a table. For example, the following SQL statement inserts a new row into the \"customers\" table with the values for the \"id\", \"name\", \"email\", and \"phone\" columns:"
      ]
    },
    {
      "cell_type": "markdown",
      "id": "614593d0-2aa8-4393-b8b8-a3dbecbcdd1d",
      "metadata": {
        "id": "614593d0-2aa8-4393-b8b8-a3dbecbcdd1d"
      },
      "source": [
        "___For example :___"
      ]
    },
    {
      "cell_type": "markdown",
      "id": "0c137c56-a910-4b8d-9cbd-254085471860",
      "metadata": {
        "id": "0c137c56-a910-4b8d-9cbd-254085471860"
      },
      "source": [
        "    INSERT INTO customers(id , name , email , phone_no)\n",
        "    VALUES(01 , 'Ramesh Sharma', 'ramesh92@gmail.com', '9088345798'),\n",
        "    (02 , 'Rohit Sen', 'rohit94@gmail.com', '9088345778');"
      ]
    },
    {
      "cell_type": "markdown",
      "id": "af88d922-0ffb-4914-8c6b-7851d2ed353b",
      "metadata": {
        "id": "af88d922-0ffb-4914-8c6b-7851d2ed353b"
      },
      "source": [
        "__UPDATE:__ The UPDATE command is used to modify existing rows of data in a table. For example, the following SQL statement updates the surname for the customer with an ID of 1 in the \"customers\" table:"
      ]
    },
    {
      "cell_type": "markdown",
      "id": "06d129d9-4dc9-4540-a1f9-50aaf2f74a2e",
      "metadata": {
        "id": "06d129d9-4dc9-4540-a1f9-50aaf2f74a2e"
      },
      "source": [
        "___For example :___"
      ]
    },
    {
      "cell_type": "markdown",
      "id": "822e3a86-63ff-4a07-a7ed-1697fb59a743",
      "metadata": {
        "id": "822e3a86-63ff-4a07-a7ed-1697fb59a743"
      },
      "source": [
        "    UPDATE customers\n",
        "    SET name = 'Ramesh Verma'\n",
        "    WHERE id = 1;"
      ]
    },
    {
      "cell_type": "markdown",
      "id": "915a6170-2786-421f-846c-4e81c2d8ed65",
      "metadata": {
        "id": "915a6170-2786-421f-846c-4e81c2d8ed65"
      },
      "source": [
        "__DELETE:__ The DELETE command is used to delete one or more rows of data from a table. For example, the following SQL statement deletes the row for the customer with an ID of 2 from the \"customers\" table:"
      ]
    },
    {
      "cell_type": "markdown",
      "id": "249e8810-a68c-4251-a95a-0a0f138328e8",
      "metadata": {
        "id": "249e8810-a68c-4251-a95a-0a0f138328e8"
      },
      "source": [
        "___For example :___"
      ]
    },
    {
      "cell_type": "markdown",
      "id": "6ad0b9cd-7fe1-49ce-952e-b29fb8babb31",
      "metadata": {
        "id": "6ad0b9cd-7fe1-49ce-952e-b29fb8babb31"
      },
      "source": [
        "    DELETE FROM customers\n",
        "    WHERE id = 2;"
      ]
    },
    {
      "cell_type": "markdown",
      "id": "ab146abf-c2ca-42f9-89cd-fdf6cc7e5cac",
      "metadata": {
        "id": "ab146abf-c2ca-42f9-89cd-fdf6cc7e5cac"
      },
      "source": [
        "-----------------------------------------------------------------------------------------"
      ]
    },
    {
      "cell_type": "markdown",
      "id": "4206fdf7-72ea-435f-9d84-0bbbeb622201",
      "metadata": {
        "id": "4206fdf7-72ea-435f-9d84-0bbbeb622201"
      },
      "source": [
        "# ___Q4. What is DQL? Explain SELECT with an example.___"
      ]
    },
    {
      "cell_type": "markdown",
      "id": "ed88dfb1-0248-4c39-9b21-3da08aee1103",
      "metadata": {
        "id": "ed88dfb1-0248-4c39-9b21-3da08aee1103"
      },
      "source": [
        "## ___Answer :___"
      ]
    },
    {
      "cell_type": "markdown",
      "id": "ebe5fa99-e345-483b-84a8-2925277f3c63",
      "metadata": {
        "id": "ebe5fa99-e345-483b-84a8-2925277f3c63"
      },
      "source": [
        "__DQL stands for Data Query Language__, which is a set of SQL commands used to retrieve data from a database. DQL commands are used to select and query data from tables in a database."
      ]
    },
    {
      "cell_type": "markdown",
      "id": "89b53465-a9a0-4345-b08e-3889fd2e993c",
      "metadata": {
        "id": "89b53465-a9a0-4345-b08e-3889fd2e993c"
      },
      "source": [
        "The SELECT statement is used in SQL to query data from one or more tables in a database. It is the most commonly used DQL (Data Query Language) command.\n",
        "\n",
        "the SELECT statement is used to retrieve data from one or more tables in a database based on specified conditions. It allows you to select specific columns from a table, as well as specify conditions for filtering the data."
      ]
    },
    {
      "cell_type": "markdown",
      "id": "fe99ad46-4c36-4245-90aa-fdd538b319ab",
      "metadata": {
        "id": "fe99ad46-4c36-4245-90aa-fdd538b319ab"
      },
      "source": [
        "___For example :___  The basic syntax for the SELECT statement is as follows:"
      ]
    },
    {
      "cell_type": "markdown",
      "id": "aa9ce9d3-414b-441d-a55c-3ee22626a75f",
      "metadata": {
        "id": "aa9ce9d3-414b-441d-a55c-3ee22626a75f"
      },
      "source": [
        "        SELECT column1, column2,\n",
        "        FROM table_name\n",
        "        WHERE condition;\n"
      ]
    },
    {
      "cell_type": "markdown",
      "id": "c4d61955-3f22-48c3-95e2-849d928dd4d6",
      "metadata": {
        "id": "c4d61955-3f22-48c3-95e2-849d928dd4d6"
      },
      "source": [
        "\"column1, column2,\" are the names of the columns that we want to retrieve data from.\n",
        "\"table_name\" is the name of the table that we want to retrieve data from.\n",
        "\"WHERE\" is an optional keyword that allows you to specify a condition for selecting data."
      ]
    },
    {
      "cell_type": "markdown",
      "id": "ded28d6f-abbf-412e-98c8-355a149c4118",
      "metadata": {
        "id": "ded28d6f-abbf-412e-98c8-355a149c4118"
      },
      "source": [
        "The SELECT statement allows you to retrieve data from a table based on specified conditions. You can select specific columns from a table, as well as specify conditions for filtering the data."
      ]
    },
    {
      "cell_type": "markdown",
      "id": "efd6cd2f-5603-44c4-9c28-ff125bf378cc",
      "metadata": {
        "id": "efd6cd2f-5603-44c4-9c28-ff125bf378cc"
      },
      "source": [
        "Here are some examples of how the SELECT statement is used in SQL:\n",
        "\n",
        "___To retrieve all columns and rows from a table, you can use the following syntax:___"
      ]
    },
    {
      "cell_type": "markdown",
      "id": "bdd4d3fd-3a6d-4631-b6ca-0c1278176b79",
      "metadata": {
        "id": "bdd4d3fd-3a6d-4631-b6ca-0c1278176b79"
      },
      "source": [
        "        SELECT *\n",
        "        FROM table_name;\n"
      ]
    },
    {
      "cell_type": "markdown",
      "id": "69c10564-dbcb-4ff4-9f9c-1f2c4628b6d7",
      "metadata": {
        "id": "69c10564-dbcb-4ff4-9f9c-1f2c4628b6d7"
      },
      "source": [
        "To retrieve specific columns from a table, you can list the column names after the SELECT keyword:"
      ]
    },
    {
      "cell_type": "markdown",
      "id": "aa3b50ae-da01-40b0-b608-1181da443e1a",
      "metadata": {
        "id": "aa3b50ae-da01-40b0-b608-1181da443e1a"
      },
      "source": [
        "        SELECT column1, column2,\n",
        "        FROM table_name;\n"
      ]
    },
    {
      "cell_type": "markdown",
      "id": "92f9f485-a375-4f8c-89a4-96fcc3d6ff9a",
      "metadata": {
        "id": "92f9f485-a375-4f8c-89a4-96fcc3d6ff9a"
      },
      "source": [
        "To filter data based on a condition, you can use the WHERE keyword followed by the condition:"
      ]
    },
    {
      "cell_type": "markdown",
      "id": "002c5377-04c5-4c87-950b-071a003f12aa",
      "metadata": {
        "id": "002c5377-04c5-4c87-950b-071a003f12aa"
      },
      "source": [
        "    SELECT column1, column2,\n",
        "    FROM table_name\n",
        "    WHERE condition;\n"
      ]
    },
    {
      "cell_type": "markdown",
      "id": "b2c3f87e-59ed-44ee-b036-0434773162f0",
      "metadata": {
        "id": "b2c3f87e-59ed-44ee-b036-0434773162f0"
      },
      "source": [
        "For example, let's say we have a table called \"employees\" with columns \"id\", \"name\", \"age\", \"salary\", and \"department\". To retrieve the names and salaries of all employees who work in the \"Sales\" department, we can use the following SQL statement:"
      ]
    },
    {
      "cell_type": "markdown",
      "id": "7c0a7cd7-391c-4ddd-9b5b-c9b146387411",
      "metadata": {
        "id": "7c0a7cd7-391c-4ddd-9b5b-c9b146387411"
      },
      "source": [
        "    SELECT name, salary\n",
        "    FROM employees\n",
        "    WHERE department = 'Sales';\n"
      ]
    },
    {
      "cell_type": "markdown",
      "id": "dcf4c543-a047-47ce-b1d8-82a2f649fc1e",
      "metadata": {
        "id": "dcf4c543-a047-47ce-b1d8-82a2f649fc1e"
      },
      "source": [
        "This SQL statement will retrieve the \"name\" and \"salary\" columns from the \"employees\" table, but only for those employees whose \"department\" column is equal to \"Sales\"."
      ]
    },
    {
      "cell_type": "markdown",
      "id": "b40d6d7b-8117-47bf-944d-04bc106e8ff5",
      "metadata": {
        "id": "b40d6d7b-8117-47bf-944d-04bc106e8ff5"
      },
      "source": [
        "-----------------------------------------------------------------------------------------"
      ]
    },
    {
      "cell_type": "markdown",
      "id": "3f4d544c-0401-48f6-ab42-af0017af5945",
      "metadata": {
        "id": "3f4d544c-0401-48f6-ab42-af0017af5945"
      },
      "source": [
        "# ___Q5. Explain Primary Key and Foreign Key.___"
      ]
    },
    {
      "cell_type": "markdown",
      "id": "eecfae57-71f9-4f58-9ad6-ec17a528be68",
      "metadata": {
        "id": "eecfae57-71f9-4f58-9ad6-ec17a528be68"
      },
      "source": [
        "## ___Answer :___"
      ]
    },
    {
      "cell_type": "markdown",
      "id": "abeabba5-d6e4-4636-8682-1fc149ead5eb",
      "metadata": {
        "id": "abeabba5-d6e4-4636-8682-1fc149ead5eb"
      },
      "source": [
        "A primary key is a unique identifier for a row of data in a table, while a foreign key is a column or set of columns that refers to the primary key of another table. They are both used to establish relationships between tables and ensure data integrity in relational databases."
      ]
    },
    {
      "cell_type": "markdown",
      "id": "fc2e5111-c890-49d6-9adc-817dc9d1d1e3",
      "metadata": {
        "id": "fc2e5111-c890-49d6-9adc-817dc9d1d1e3"
      },
      "source": [
        "__PRIMARY KEY :__\n",
        "\n",
        "A primary key is a unique identifier for a row of data in a table. It is a column or set of columns that uniquely identifies each record in the table. A primary key constraint ensures that the value in the column or set of columns is unique and cannot be null. A table can have only one primary key."
      ]
    },
    {
      "cell_type": "markdown",
      "id": "0e944312-19a1-4f2d-99bf-1f55c9e1d4cc",
      "metadata": {
        "id": "0e944312-19a1-4f2d-99bf-1f55c9e1d4cc"
      },
      "source": [
        "___For example :___"
      ]
    },
    {
      "cell_type": "markdown",
      "id": "1d3d40f4-ae9b-40e8-ad6e-8f95e41649d3",
      "metadata": {
        "id": "1d3d40f4-ae9b-40e8-ad6e-8f95e41649d3"
      },
      "source": [
        "In a table of \"employees\", the primary key may be the employee ID. Each employee in the table would have a unique employee ID, which would be used to identify them."
      ]
    },
    {
      "cell_type": "markdown",
      "id": "a6535d08-540e-4077-858b-955709c13610",
      "metadata": {
        "id": "a6535d08-540e-4077-858b-955709c13610"
      },
      "source": [
        "__FOREIGN KEY :__\n",
        "\n",
        "A foreign key is a column or set of columns in a table that refers to the primary key of another table. It establishes a relationship between two tables, where the foreign key in one table is a reference to the primary key in another table. The foreign key constraint ensures that the values in the column or set of columns match the values in the primary key of the related table."
      ]
    },
    {
      "cell_type": "markdown",
      "id": "f997bddc-148b-44cd-8a56-7cb39453a52b",
      "metadata": {
        "id": "f997bddc-148b-44cd-8a56-7cb39453a52b"
      },
      "source": [
        "___For example :___"
      ]
    },
    {
      "cell_type": "markdown",
      "id": "9360426f-02ba-46f0-b24b-d4443cb835cc",
      "metadata": {
        "id": "9360426f-02ba-46f0-b24b-d4443cb835cc"
      },
      "source": [
        "In a table of \"orders\", there may be a foreign key column that references the primary key of the \"customers\" table. This would establish a relationship between the two tables, where each order would be associated with a specific customer."
      ]
    },
    {
      "cell_type": "markdown",
      "id": "697af6a6-31e1-4d72-9ec4-12423cccd53e",
      "metadata": {
        "id": "697af6a6-31e1-4d72-9ec4-12423cccd53e"
      },
      "source": [
        "___Following example shows the implementation of PRIMARY KEY & FOREIGN KEY :___"
      ]
    },
    {
      "cell_type": "markdown",
      "id": "12ec4471-d132-4801-86de-846ab6a596ca",
      "metadata": {
        "id": "12ec4471-d132-4801-86de-846ab6a596ca"
      },
      "source": [
        "here's an example SQL command that creates the \"students\" and \"courses\" tables, establishes a primary key constraint on the \"student ID\" column in the \"students\" table, and establishes a foreign key constraint on the \"student ID\" column in the \"courses\" table:"
      ]
    },
    {
      "cell_type": "markdown",
      "id": "7007dea2-895d-46f7-bf35-b53e030840c7",
      "metadata": {
        "id": "7007dea2-895d-46f7-bf35-b53e030840c7"
      },
      "source": [
        "    CREATE TABLE students (\n",
        "      student_id INT PRIMARY KEY,\n",
        "      name VARCHAR(50),\n",
        "      email VARCHAR(50)\n",
        "    );\n",
        "\n",
        "    CREATE TABLE courses (\n",
        "      course_id INT PRIMARY KEY,\n",
        "      course_name VARCHAR(50),\n",
        "      instructor_name VARCHAR(50),\n",
        "      student_id INT,\n",
        "      FOREIGN KEY (student_id) REFERENCES students(student_id)\n",
        "    );\n"
      ]
    },
    {
      "cell_type": "markdown",
      "id": "fae50298-a13d-4dd4-84c8-4e8820fb20a3",
      "metadata": {
        "id": "fae50298-a13d-4dd4-84c8-4e8820fb20a3"
      },
      "source": [
        "In this example, the ___\"students\"___ table has a primary key constraint on the ___\"student_id\"___ column, which is specified using the __PRIMARY KEY__ keyword after the column definition.\n",
        "\n",
        "The ___\"courses\"___ table has a foreign key constraint on the ___\"student_id\"___ column, which is specified using the __FOREIGN KEY__ keyword and the __REFERENCES__ keyword to specify the referenced table and column.\n",
        "\n",
        "The __REFERENCES__ keyword is followed by the name of the referenced table and the name of the referenced column in parentheses. In this case, the referenced table is ___\"students\"___ and the referenced column is ___\"student_id\".___\n",
        "\n",
        "By using these constraints, we can ensure that data is consistent between the two tables, and that each course is associated with a valid student ID from the \"students\" table."
      ]
    },
    {
      "cell_type": "markdown",
      "id": "8ced6cec-4a23-4e89-8b4d-801679051816",
      "metadata": {
        "id": "8ced6cec-4a23-4e89-8b4d-801679051816"
      },
      "source": [
        "-----------------------------------------------------------------------------------------"
      ]
    },
    {
      "cell_type": "markdown",
      "id": "6c6375ad-0524-431f-b470-594d5ce6f25c",
      "metadata": {
        "id": "6c6375ad-0524-431f-b470-594d5ce6f25c"
      },
      "source": [
        "# ___Q6. Write a python code to connect MySQL to python. Explain the cursor() and execute() method.___"
      ]
    },
    {
      "cell_type": "markdown",
      "id": "ddc731a2-024a-4a9b-a055-49b97b745f54",
      "metadata": {
        "id": "ddc731a2-024a-4a9b-a055-49b97b745f54"
      },
      "source": [
        "## ___Answer :___"
      ]
    },
    {
      "cell_type": "code",
      "execution_count": null,
      "id": "a526c937-82c2-4131-b594-c31584ab4fe8",
      "metadata": {
        "tags": [],
        "id": "a526c937-82c2-4131-b594-c31584ab4fe8"
      },
      "outputs": [],
      "source": [
        "import mysql.connector\n",
        "# import mysql.connector\n",
        "#create user 'user'@'%' identified by 'password'\n",
        "mydb = mysql.connector.connect(\n",
        "  host=\"localhost\",\n",
        "  user=\"abc\",\n",
        "  password=\"password\"\n",
        ")\n",
        "mycursor = mydb.cursor()\n",
        "mycursor.execute(\"CREATE DATABASE if not exists test2\")\n",
        "mydb.close()"
      ]
    },
    {
      "cell_type": "markdown",
      "id": "3d918ac6-4833-42ed-bda1-112caae19535",
      "metadata": {
        "tags": [],
        "id": "3d918ac6-4833-42ed-bda1-112caae19535"
      },
      "source": [
        "![code.png](attachment:7d9302a6-990c-471e-9922-8d184f1be145.png)"
      ]
    },
    {
      "cell_type": "markdown",
      "id": "d5f86932-020a-40d6-87bf-6b64ddb46349",
      "metadata": {
        "id": "d5f86932-020a-40d6-87bf-6b64ddb46349"
      },
      "source": [
        "In Python, the cursor() and execute() methods are used to interact with databases using the database API (DB-API) that defines a standard interface for accessing relational databases. These methods are used specifically when working with database connections using the mysql-connector-python module."
      ]
    },
    {
      "cell_type": "markdown",
      "id": "c1f01589-1e96-4fbd-8ca1-abf1466dbe48",
      "metadata": {
        "id": "c1f01589-1e96-4fbd-8ca1-abf1466dbe48"
      },
      "source": [
        "__cursor() :__ The __\"cursor()\"__ method creates a cursor object which is used to execute database queries and manage transactions. Once you establish a connection to the database, you can create a cursor object using the __\"cursor()\"__ method of the __\"MySQLConnection\"__ object."
      ]
    },
    {
      "cell_type": "markdown",
      "id": "1cf8024c-03de-4811-9708-e19c1326a794",
      "metadata": {
        "id": "1cf8024c-03de-4811-9708-e19c1326a794"
      },
      "source": [
        "___For example:___"
      ]
    },
    {
      "cell_type": "code",
      "execution_count": null,
      "id": "0ec12616-ae8e-4b6c-bf16-aece5c256ca4",
      "metadata": {
        "id": "0ec12616-ae8e-4b6c-bf16-aece5c256ca4"
      },
      "outputs": [],
      "source": [
        "import mysql.connector\n",
        "\n",
        "mydb = mysql.connector.connect(\n",
        "  host=\"localhost\",\n",
        "  user=\"abc\",\n",
        "  password=\"password\"\n",
        ")\n",
        "# Create a cursor object\n",
        "mycursor = mydb.cursor()\n"
      ]
    },
    {
      "cell_type": "markdown",
      "id": "7fca7625-cd6b-421c-aead-b8f37df9e41d",
      "metadata": {
        "id": "7fca7625-cd6b-421c-aead-b8f37df9e41d"
      },
      "source": [
        "__execute() :__ The __\"execute()\"__ method is used to execute SQL queries on the database. You can call the __\"execute()\"__ method on the cursor object and pass the SQL query as a parameter to it. The __\"execute()\"__ method returns a result set object that you can use to fetch the results of the query."
      ]
    },
    {
      "cell_type": "markdown",
      "id": "e880575a-65f8-4f33-b8e0-437592dececd",
      "metadata": {
        "id": "e880575a-65f8-4f33-b8e0-437592dececd"
      },
      "source": [
        "___For example:___"
      ]
    },
    {
      "cell_type": "code",
      "execution_count": null,
      "id": "f2582302-4431-4cb4-8eee-8bc81a152e8d",
      "metadata": {
        "id": "f2582302-4431-4cb4-8eee-8bc81a152e8d"
      },
      "outputs": [],
      "source": [
        "# Execute a SELECT query\n",
        "mycursor.execute(\"select c1 , c5  from test2.test_table\")\n",
        "\n",
        "# Fetch the results of the query & Print the results\n",
        "for i in mycursor.fetchall():\n",
        "    print(i)\n",
        "mydb.close()"
      ]
    },
    {
      "cell_type": "markdown",
      "id": "5a0a2e10-0f92-42d6-8472-bdbd19927453",
      "metadata": {
        "id": "5a0a2e10-0f92-42d6-8472-bdbd19927453"
      },
      "source": [
        "![Untitled.png](attachment:2c68f5c3-d66b-40c9-b583-9c0b5ef427b1.png)"
      ]
    },
    {
      "cell_type": "markdown",
      "id": "323f0d0d-796d-43d9-996e-09baeb3d6275",
      "metadata": {
        "id": "323f0d0d-796d-43d9-996e-09baeb3d6275"
      },
      "source": [
        "-----------------------------------------------------------------------------------------"
      ]
    },
    {
      "cell_type": "markdown",
      "id": "f7edac9c-85a8-4770-b5ec-4af32767eafe",
      "metadata": {
        "id": "f7edac9c-85a8-4770-b5ec-4af32767eafe"
      },
      "source": [
        "# ___Q7. Give the order of execution of SQL clauses in an SQL query.___"
      ]
    },
    {
      "cell_type": "markdown",
      "id": "f84eb677-948c-4411-971c-462290d0e576",
      "metadata": {
        "id": "f84eb677-948c-4411-971c-462290d0e576"
      },
      "source": [
        "## ___Answer :___"
      ]
    },
    {
      "cell_type": "markdown",
      "id": "666f7d96-9f61-45dc-8791-a38782692879",
      "metadata": {
        "id": "666f7d96-9f61-45dc-8791-a38782692879"
      },
      "source": [
        "___The order of execution of SQL clauses in an SQL query is as follows:___"
      ]
    },
    {
      "cell_type": "markdown",
      "id": "9d5a1559-40f1-4756-9081-f4411a2658ef",
      "metadata": {
        "id": "9d5a1559-40f1-4756-9081-f4411a2658ef"
      },
      "source": [
        "__FROM:__ This clause specifies the table or tables from which the data will be selected.\n",
        "\n",
        "__WHERE:__ This clause filters the data based on certain conditions.\n",
        "\n",
        "__GROUP BY:__ This clause groups the data by one or more columns.\n",
        "\n",
        "__HAVING:__ This clause filters the grouped data based on certain conditions.\n",
        "\n",
        "__SELECT:__ This clause specifies the columns to be selected and displayed in the result set.\n",
        "\n",
        "__DISTINCT:__ This clause removes duplicate rows from the result set.\n",
        "\n",
        "__ORDER BY:__ This clause sorts the result set by one or more columns.\n",
        "\n",
        "__LIMIT/OFFSET:__ These clauses limit the number of rows returned and/or specify an offset for the starting row."
      ]
    },
    {
      "cell_type": "markdown",
      "id": "32fa1cd6-ea8c-499b-8c03-bb2da3925539",
      "metadata": {
        "id": "32fa1cd6-ea8c-499b-8c03-bb2da3925539"
      },
      "source": [
        "-----------------------------------------------------------------------------------------"
      ]
    },
    {
      "cell_type": "code",
      "execution_count": null,
      "id": "f822c6ca-84d7-4fef-838a-b0737878dc11",
      "metadata": {
        "id": "f822c6ca-84d7-4fef-838a-b0737878dc11"
      },
      "outputs": [],
      "source": []
    }
  ],
  "metadata": {
    "kernelspec": {
      "display_name": "Python 3 (ipykernel)",
      "language": "python",
      "name": "python3"
    },
    "language_info": {
      "codemirror_mode": {
        "name": "ipython",
        "version": 3
      },
      "file_extension": ".py",
      "mimetype": "text/x-python",
      "name": "python",
      "nbconvert_exporter": "python",
      "pygments_lexer": "ipython3",
      "version": "3.10.8"
    },
    "colab": {
      "provenance": [],
      "include_colab_link": true
    }
  },
  "nbformat": 4,
  "nbformat_minor": 5
}