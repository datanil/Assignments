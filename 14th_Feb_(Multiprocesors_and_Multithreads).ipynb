{
  "cells": [
    {
      "cell_type": "markdown",
      "metadata": {
        "id": "view-in-github",
        "colab_type": "text"
      },
      "source": [
        "<a href=\"https://colab.research.google.com/github/datanil/Assignments/blob/main/14th_Feb_(Multiprocesors_and_Multithreads).ipynb\" target=\"_parent\"><img src=\"https://colab.research.google.com/assets/colab-badge.svg\" alt=\"Open In Colab\"/></a>"
      ]
    },
    {
      "cell_type": "markdown",
      "id": "349b593a-de25-468c-8a5e-409f03f5e83c",
      "metadata": {
        "tags": [],
        "id": "349b593a-de25-468c-8a5e-409f03f5e83c"
      },
      "source": [
        "# ___Q1. What is multithreading in python? hy is it used? Name the module used to handle threads in python.___"
      ]
    },
    {
      "cell_type": "markdown",
      "id": "119fc1e5-6cbb-4437-a0a2-a7051e8dd7bd",
      "metadata": {
        "tags": [],
        "id": "119fc1e5-6cbb-4437-a0a2-a7051e8dd7bd"
      },
      "source": [
        "## ___ANSWER :___"
      ]
    },
    {
      "cell_type": "markdown",
      "id": "1d7f5473-8591-4d92-b145-2e84a9cd4f13",
      "metadata": {
        "tags": [],
        "id": "1d7f5473-8591-4d92-b145-2e84a9cd4f13"
      },
      "source": [
        " Multithreading in Python refers to the ability of a progream to execute multiple threads of execution simultaneously. A thread is a seperate flow of execution withina program , and multithreading allows multiple threads to run concurrently within a single process."
      ]
    },
    {
      "cell_type": "markdown",
      "id": "0a850c2f-e056-4545-b594-f6b4dd11cbc3",
      "metadata": {
        "id": "0a850c2f-e056-4545-b594-f6b4dd11cbc3"
      },
      "source": [
        " Multithreading is used to improve the performence of the program by allowing multiple tasks to be executed sumltenously. This can be especially useful for the tasks that involves a lot of I/O , such as reading or writing to a disk, or tasks that can be parallelized, such as processing data in batches."
      ]
    },
    {
      "cell_type": "markdown",
      "id": "5a2a3f91-1ee1-4057-873b-26d7ed3fb589",
      "metadata": {
        "id": "5a2a3f91-1ee1-4057-873b-26d7ed3fb589"
      },
      "source": [
        "The __'threading'__ module used to handle threads in python."
      ]
    },
    {
      "cell_type": "markdown",
      "id": "7facd2d8-1a68-44ec-8485-f1eb7fb99036",
      "metadata": {
        "id": "7facd2d8-1a68-44ec-8485-f1eb7fb99036"
      },
      "source": [
        "# ___Q2. Why threading module used? Write the use of the following functions :___"
      ]
    },
    {
      "cell_type": "markdown",
      "id": "f53a9a98-15d8-4f31-99eb-be62a9bdb9e0",
      "metadata": {
        "id": "f53a9a98-15d8-4f31-99eb-be62a9bdb9e0"
      },
      "source": [
        "## __1. activeCount()__"
      ]
    },
    {
      "cell_type": "markdown",
      "id": "dbe7ae4a-0e2f-4922-9118-3a9f3522dbf6",
      "metadata": {
        "id": "dbe7ae4a-0e2f-4922-9118-3a9f3522dbf6"
      },
      "source": [
        "## __2. currentThread()__"
      ]
    },
    {
      "cell_type": "markdown",
      "id": "9703fcb5-23fc-47e5-8886-eaa3f2caa6c2",
      "metadata": {
        "id": "9703fcb5-23fc-47e5-8886-eaa3f2caa6c2"
      },
      "source": [
        "## __3. enumerate()__"
      ]
    },
    {
      "cell_type": "markdown",
      "id": "5d73dcc7-49a2-40bb-a3ce-53fdf57e3f67",
      "metadata": {
        "id": "5d73dcc7-49a2-40bb-a3ce-53fdf57e3f67"
      },
      "source": [
        "## ___ANSWER :___"
      ]
    },
    {
      "cell_type": "markdown",
      "id": "25343075-8555-4072-984b-181e1cc7d712",
      "metadata": {
        "id": "25343075-8555-4072-984b-181e1cc7d712"
      },
      "source": [
        "The __'threading'__ module in Python is used to implement multithreading in a program. It provides a way to create , control, and manage in a Python program. Some of the main reasons for using the __'threading'__ module are:\n",
        "\n",
        "__1. Improved performence :__ Multithreading can improve the performence of a program by allowing it to perform multiple tasks simultenously, this can be espicially useful for tasks that involve a lot of I/O or the tasks that can be parallelized.\n",
        "\n",
        "__2. Better resource utilization :__ By using multithreading, a program can make better use of available resources, such as CPU and memory, by allowing multiple threads to execute concurrently.\n",
        "\n",
        "__3. Improved user experience :__ Multithreading can improve the user experience of an application by allowing it to respond more quickly to user input, and by allowing background tasks to execute without interrupting the main thread of execution.\n",
        "\n",
        "__4. Simplified programming :__ The threading module provides a high-level interface for creating and managing threads, which makes it easier to write multithreaded programs.\n",
        "\n",
        "\n",
        "\n",
        "\n",
        "\n",
        "\n",
        "\n",
        "\n"
      ]
    },
    {
      "cell_type": "markdown",
      "id": "93d9a49c-d855-4b13-ab90-9b60bd91ef6d",
      "metadata": {
        "id": "93d9a49c-d855-4b13-ab90-9b60bd91ef6d"
      },
      "source": [
        "USES OF THE FOLLOWING :"
      ]
    },
    {
      "cell_type": "markdown",
      "id": "5fdc75b9-bda8-45b1-b370-d8ce154325b6",
      "metadata": {
        "id": "5fdc75b9-bda8-45b1-b370-d8ce154325b6"
      },
      "source": [
        "__1. activeCount() :__ This function returns the number of active thread objects in the current thread's thread control block. It can be used to monitor the number of active threads in a program, which can be useful for debugging or optimization purposes. For example, you could use activeCount() to monitor the number of threads in a program and take action if the number exceeds a certain threshold.\n",
        "\n",
        "___For example___:"
      ]
    },
    {
      "cell_type": "code",
      "execution_count": null,
      "id": "d219acb3-25fd-4e96-aa72-5e1ab47817e1",
      "metadata": {
        "id": "d219acb3-25fd-4e96-aa72-5e1ab47817e1",
        "outputId": "c945b9a1-c6e2-448b-a106-f4922db1f5be"
      },
      "outputs": [
        {
          "name": "stdout",
          "output_type": "stream",
          "text": [
            "Thread started\n",
            "Thread ended\n",
            "Thread started\n",
            "Thread ended\n",
            "Number of active threads : 8\n"
          ]
        }
      ],
      "source": [
        "#This method is used to get the number of currently active threads in the program\n",
        "\n",
        "\n",
        "import threading\n",
        "\n",
        "def test_thread():\n",
        "    print(\"Thread started\")\n",
        "    print(\"Thread ended\")\n",
        "\n",
        "#Creating multiple threads --->\n",
        "\n",
        "t1 = threading.Thread(target= test_thread)\n",
        "t2 = threading.Thread(target= test_thread)\n",
        "\n",
        "t1.start()\n",
        "t2.start()\n",
        "\n",
        "no_of_active_threads = threading.active_count()\n",
        "print(\"Number of active threads :\" , no_of_active_threads)"
      ]
    },
    {
      "cell_type": "markdown",
      "id": "1af4704c-f9dc-4f38-9a6a-2dc9800b2c64",
      "metadata": {
        "id": "1af4704c-f9dc-4f38-9a6a-2dc9800b2c64"
      },
      "source": [
        "__2. currentThread() :__ This function returns a reference to the current thread object. It can be used to obtain information about the currently executing thread, such as its name, ID, or status. For example, you could use currentThread() to obtain the name of the thread that is currently executing and print it to the console.\n",
        "\n",
        "___For example :___"
      ]
    },
    {
      "cell_type": "code",
      "execution_count": null,
      "id": "646fb8a3-18b4-4093-935d-2c900b1e25c4",
      "metadata": {
        "id": "646fb8a3-18b4-4093-935d-2c900b1e25c4",
        "outputId": "0d53a726-a584-4ed0-ae4a-97d8a77912bc"
      },
      "outputs": [
        {
          "name": "stdout",
          "output_type": "stream",
          "text": [
            "Current active thread name :  Thread-7 (test_thread)\n",
            "Current active thread name :  Thread-8 (test_thread)\n"
          ]
        }
      ],
      "source": [
        "#This method is used to get a reference to the currently executing thread object.\n",
        "\n",
        "import threading\n",
        "\n",
        "\n",
        "def test_thread():\n",
        "    current_thread = threading.current_thread() #since currentThread() has been depreciated instead \"current_thread()\" has been used\n",
        "    print(\"Current active thread name : \" , current_thread.name) #getname() has been depreciated instead \"name\" is used\n",
        "\n",
        "t1 = threading.Thread(target=test_thread)\n",
        "t2 = threading.Thread(target = test_thread)\n",
        "t1.start()\n",
        "t2.start()"
      ]
    },
    {
      "cell_type": "markdown",
      "id": "c9f1ed8c-e055-49a5-8803-6c3f2d2175cb",
      "metadata": {
        "id": "c9f1ed8c-e055-49a5-8803-6c3f2d2175cb"
      },
      "source": [
        "__3. enumerate() :__ This function returns a list of all thread objects that are currently active. It can be used to obtain information about all of the threads that are running in a program, such as their names, IDs, or statuses. For example, you could use enumerate() to obtain a list of all active threads in a program and print their names to the console. This can be useful for debugging or monitoring purposes, or for implementing more advanced thread synchronization mechanisms.\n",
        "\n",
        "___For example :___"
      ]
    },
    {
      "cell_type": "code",
      "execution_count": null,
      "id": "f1bf721d-955c-4f50-b7ad-8568b60b0d97",
      "metadata": {
        "id": "f1bf721d-955c-4f50-b7ad-8568b60b0d97",
        "outputId": "97d6ed12-0dcf-4a0b-8b2c-0fb8a319af24"
      },
      "outputs": [
        {
          "name": "stdout",
          "output_type": "stream",
          "text": [
            "\n",
            "All active threads are :  [<_MainThread(MainThread, started 140595611379520)>, <Thread(IOPub, started daemon 140595540850240)>, <Heartbeat(Heartbeat, started daemon 140595532457536)>, <Thread(Thread-3 (_watch_pipe_fd), started daemon 140595507279424)>, <Thread(Thread-4 (_watch_pipe_fd), started daemon 140595498886720)>, <ControlThread(Control, started daemon 140595150452288)>, <HistorySavingThread(IPythonHistorySavingThread, started 140595142059584)>, <ParentPollerUnix(Thread-2, started daemon 140595133666880)>]\n"
          ]
        }
      ],
      "source": [
        "#This method is used to get a list of all active thread objects in the program.\n",
        "\n",
        "import threading\n",
        "\n",
        "def my_thread():\n",
        "    print(\"\\nThread has started\")\n",
        "    print(\"\\nThread has finished\")\n",
        "\n",
        "#creating multiple threads\n",
        "\n",
        "t1 = threading.Thread(target=my_thread)\n",
        "t2 = threading.Thread(target=my_thread)\n",
        "\n",
        "#getting the list of all the threads\n",
        "\n",
        "all_thread_list = threading.enumerate()\n",
        "print(\"\\nAll active threads are : \" , all_thread_list)"
      ]
    },
    {
      "cell_type": "code",
      "execution_count": null,
      "id": "aa6ece09-556e-419d-b881-72212898c59f",
      "metadata": {
        "id": "aa6ece09-556e-419d-b881-72212898c59f"
      },
      "outputs": [],
      "source": []
    },
    {
      "cell_type": "markdown",
      "id": "69d083c9-cddc-4f4f-b32f-6984fc02e2d8",
      "metadata": {
        "id": "69d083c9-cddc-4f4f-b32f-6984fc02e2d8"
      },
      "source": [
        "# ___Q3. Explain the following functions :___"
      ]
    },
    {
      "cell_type": "markdown",
      "id": "3467cb17-50f0-4bef-b7b4-3666afe7f028",
      "metadata": {
        "id": "3467cb17-50f0-4bef-b7b4-3666afe7f028"
      },
      "source": [
        "## __1. run()__"
      ]
    },
    {
      "cell_type": "markdown",
      "id": "657e5ce5-9bb4-4d9e-9e68-4e1f86166f5f",
      "metadata": {
        "id": "657e5ce5-9bb4-4d9e-9e68-4e1f86166f5f"
      },
      "source": [
        "## __2. start()__"
      ]
    },
    {
      "cell_type": "markdown",
      "id": "482a5fc1-66e9-4fa0-a09f-e0f40a18a63d",
      "metadata": {
        "id": "482a5fc1-66e9-4fa0-a09f-e0f40a18a63d"
      },
      "source": [
        "## __3. join()__"
      ]
    },
    {
      "cell_type": "markdown",
      "id": "73d26f11-bebf-434b-a3e5-60b52da7771e",
      "metadata": {
        "id": "73d26f11-bebf-434b-a3e5-60b52da7771e"
      },
      "source": [
        "## __4. isAlive()__"
      ]
    },
    {
      "cell_type": "markdown",
      "id": "47b3db2a-dcc5-4382-a4a1-2f55a162af8f",
      "metadata": {
        "id": "47b3db2a-dcc5-4382-a4a1-2f55a162af8f"
      },
      "source": [
        "## ___ANSWER :___"
      ]
    },
    {
      "cell_type": "markdown",
      "id": "bb2048f8-e561-4c35-9e01-7d1816ebd45e",
      "metadata": {
        "id": "bb2048f8-e561-4c35-9e01-7d1816ebd45e"
      },
      "source": [
        "__1. run() :__ This method is used to define the behavior of a thread when it starts running. It is called by the start() method of the Thread class. By default, the run() method calls the target function specified when creating the thread, but it can be overridden to customize the thread's behavior."
      ]
    },
    {
      "cell_type": "code",
      "execution_count": null,
      "id": "340de58b-37a1-402a-8f3d-8f590bbbfb69",
      "metadata": {
        "id": "340de58b-37a1-402a-8f3d-8f590bbbfb69",
        "outputId": "8c29702b-6638-4063-a829-2f58b73a7f6d"
      },
      "outputs": [
        {
          "name": "stdout",
          "output_type": "stream",
          "text": [
            "Thread started\n",
            "Thread finished\n"
          ]
        }
      ],
      "source": [
        "#run(): This method is called when a thread is started using the start() method. The run() method contains the code that will be executed in the new thread.\n",
        "\n",
        "import threading\n",
        "\n",
        "class Mythread(threading.Thread):\n",
        "    def run(self):\n",
        "        print(\"Thread started\")\n",
        "        print(\"Thread finished\")\n",
        "\n",
        "t = Mythread()\n",
        "t.start()"
      ]
    },
    {
      "cell_type": "markdown",
      "id": "ea232ba1-1fa0-47d8-9f5c-ae98cb308081",
      "metadata": {
        "id": "ea232ba1-1fa0-47d8-9f5c-ae98cb308081"
      },
      "source": [
        "__2. start() :__ This method is used to start the execution of a thread. When this method is called, a new thread of execution is created and the run() method of the thread is called."
      ]
    },
    {
      "cell_type": "code",
      "execution_count": null,
      "id": "90646289-c7c4-4e7b-8eef-c5cce357f039",
      "metadata": {
        "id": "90646289-c7c4-4e7b-8eef-c5cce357f039",
        "outputId": "0b10ae66-dc3c-4182-fcaf-e958b7f41105"
      },
      "outputs": [
        {
          "name": "stdout",
          "output_type": "stream",
          "text": [
            "thread 1 \n",
            "thread 1 terminated\n"
          ]
        }
      ],
      "source": [
        "#start(): This method is used to start a new thread of execution. When called, the start() method will call the run() method in a new thread\n",
        "\n",
        "import threading\n",
        "\n",
        "def my_fun():\n",
        "    print(\"thread 1 \")\n",
        "    print(\"thread 1 terminated\")\n",
        "\n",
        "t =  threading.Thread(target=my_fun)\n",
        "t.start()"
      ]
    },
    {
      "cell_type": "markdown",
      "id": "0ca73ae5-c45b-4b72-ab16-acb281cb8b2e",
      "metadata": {
        "id": "0ca73ae5-c45b-4b72-ab16-acb281cb8b2e"
      },
      "source": [
        "__3. join() :__ This method is used to wait for a thread to complete its execution. When called on a thread object, the calling thread will block until the thread it is called on has completed its execution. This is useful when the main thread needs to wait for other threads to finish before continuing execution"
      ]
    },
    {
      "cell_type": "code",
      "execution_count": null,
      "id": "afdf2e5f-33e8-4a4b-8c7f-b450a14c7a70",
      "metadata": {
        "id": "afdf2e5f-33e8-4a4b-8c7f-b450a14c7a70",
        "outputId": "95a2beca-9d9f-420c-f049-9b875be663c3"
      },
      "outputs": [
        {
          "name": "stdout",
          "output_type": "stream",
          "text": [
            "Here starts the thread1\n",
            "Here ends the thread1\n",
            "Here starts the thread1\n",
            "Here ends the thread1\n",
            "Here starts the thread1\n",
            "Here ends the thread1\n",
            "All the thread has finished their jobs\n"
          ]
        }
      ],
      "source": [
        "#join(): This method is used to wait for a thread to finish executing before continuing with the rest of the program. When called, the join() method will block the main thread of execution until the thread being joined completes its execution.\n",
        "\n",
        "def my_test():\n",
        "    print(\"Here starts the thread1\")\n",
        "    print(\"Here ends the thread1\")\n",
        "\n",
        "t1 = threading.Thread(target= my_test)\n",
        "t2 = threading.Thread(target = my_test)\n",
        "t3 = threading.Thread(target = my_test)\n",
        "\n",
        "t1.start()\n",
        "t2.start()\n",
        "t3.start()\n",
        "\n",
        "\n",
        "t1.join()\n",
        "t2.join()\n",
        "t3.join()\n",
        "\n",
        "print(\"All the thread has finished their jobs\")"
      ]
    },
    {
      "cell_type": "markdown",
      "id": "e5ad96e9-1567-4e94-8b9d-b46c3ec413df",
      "metadata": {
        "id": "e5ad96e9-1567-4e94-8b9d-b46c3ec413df"
      },
      "source": [
        "__4. isAlive() :__ This method is used to check if a thread is currently running. When called on a thread object, it returns a boolean value indicating whether the thread is currently executing or has completed its execution."
      ]
    },
    {
      "cell_type": "code",
      "execution_count": null,
      "id": "e48f1044-755a-4d10-8442-646cb3e08b16",
      "metadata": {
        "id": "e48f1044-755a-4d10-8442-646cb3e08b16",
        "outputId": "0d47ef86-cbf4-42be-e754-7f4ad05ddcd3"
      },
      "outputs": [
        {
          "name": "stdout",
          "output_type": "stream",
          "text": [
            "Start\n",
            "End\n",
            "Has finished\n"
          ]
        }
      ],
      "source": [
        "#sAlive(): This method is used to check if a thread is currently executing or not. When called, the isAlive() method will return True if the thread is currently executing and False otherwise.\n",
        "\n",
        "import threading\n",
        "\n",
        "def my_func():\n",
        "    print(\"Start\")\n",
        "    print(\"End\")\n",
        "\n",
        "t = threading.Thread(target= my_func)\n",
        "t.start()\n",
        "\n",
        "if t.is_alive():\n",
        "    print(\"Running\")\n",
        "else:\n",
        "    print(\"Has finished\")"
      ]
    },
    {
      "cell_type": "markdown",
      "id": "97d11e93-701c-48b7-bac9-22060823130e",
      "metadata": {
        "id": "97d11e93-701c-48b7-bac9-22060823130e"
      },
      "source": [
        "# ___Q4. Write a python program to create two threads. Thread one must print the list of squares and thread two must print the list of cubes.___"
      ]
    },
    {
      "cell_type": "markdown",
      "id": "c93ec3e7-080d-47af-b7c8-43f961c39a76",
      "metadata": {
        "id": "c93ec3e7-080d-47af-b7c8-43f961c39a76"
      },
      "source": [
        "## ___ANSWER :___"
      ]
    },
    {
      "cell_type": "code",
      "execution_count": null,
      "id": "6f2a629d-39bb-433f-91e3-95afb289e999",
      "metadata": {
        "id": "6f2a629d-39bb-433f-91e3-95afb289e999"
      },
      "outputs": [],
      "source": []
    },
    {
      "cell_type": "code",
      "execution_count": null,
      "id": "b5880f44-b751-423a-901c-b97478fa3f9f",
      "metadata": {
        "id": "b5880f44-b751-423a-901c-b97478fa3f9f"
      },
      "outputs": [],
      "source": [
        "import threading\n",
        "l = [2,4,5,6,7,8,9,24]\n",
        "l1 = []\n",
        "def squares(n):\n",
        "    print(n**2)\n",
        "\n",
        "\n",
        "def cubes(x):\n",
        "    print(x**3)\n",
        "\n",
        "t1 = [threading.Thread(target= squares , args = (i,))for i in l]\n",
        "t2 = [threading.Thread(target = cubes , args = (x,)) for x in l]"
      ]
    },
    {
      "cell_type": "code",
      "execution_count": null,
      "id": "7cf8ec96-f4ac-4880-864f-3a22d61578e0",
      "metadata": {
        "id": "7cf8ec96-f4ac-4880-864f-3a22d61578e0",
        "outputId": "2d97a245-5c65-48b9-d0b8-b19a15649f82"
      },
      "outputs": [
        {
          "name": "stdout",
          "output_type": "stream",
          "text": [
            "4\n",
            "16\n",
            "25\n",
            "36\n",
            "49\n",
            "64\n",
            "81\n",
            "576\n"
          ]
        }
      ],
      "source": [
        "for t in t1:\n",
        "    t.start()"
      ]
    },
    {
      "cell_type": "code",
      "execution_count": null,
      "id": "c1aba446-4af8-4131-9835-3dfdd790aada",
      "metadata": {
        "id": "c1aba446-4af8-4131-9835-3dfdd790aada",
        "outputId": "af7b8bfb-e6a2-4cfa-cff6-91244da1a4e8"
      },
      "outputs": [
        {
          "name": "stdout",
          "output_type": "stream",
          "text": [
            "8\n",
            "64\n",
            "125\n",
            "216\n",
            "343\n",
            "512\n",
            "729\n",
            "13824\n"
          ]
        }
      ],
      "source": [
        "for t in t2:\n",
        "    t.start()"
      ]
    },
    {
      "cell_type": "markdown",
      "id": "2044f823-ccbd-4dfb-bddf-300c1a8d908c",
      "metadata": {
        "id": "2044f823-ccbd-4dfb-bddf-300c1a8d908c"
      },
      "source": [
        "# ___Q5. State advantages and disadvantages of multithreading.___"
      ]
    },
    {
      "cell_type": "markdown",
      "id": "23fd8a56-2dab-47a9-8759-286e071c1340",
      "metadata": {
        "id": "23fd8a56-2dab-47a9-8759-286e071c1340"
      },
      "source": [
        "## ___ANSWER :___"
      ]
    },
    {
      "cell_type": "markdown",
      "id": "4cec631c-5f3b-47b4-9366-b4399eecfeea",
      "metadata": {
        "id": "4cec631c-5f3b-47b4-9366-b4399eecfeea"
      },
      "source": [
        "### __Advantages of Multithreading :__"
      ]
    },
    {
      "cell_type": "markdown",
      "id": "e806fc8b-0ae3-4acd-bcd5-358858c65892",
      "metadata": {
        "id": "e806fc8b-0ae3-4acd-bcd5-358858c65892"
      },
      "source": [
        "__1. Increased performance :__ Multithreading can improve performence by allowing multiple tasks to be executed simultenously on different CPU cores or processors.\n",
        "\n",
        "__2. Resource sharing :__ Threads can share resources, such as memory and CPU time, which can reduce th overall resource usage of a program.\n",
        "\n",
        "__3. Responsivness :__ Multithreading can improve the responsiveness of a program by allowing it to continue executing other tasks while waiting for I/O or other blocking operations.\n",
        "\n",
        "__4. Scalability :__ Multithreading can improve the sacalability of a program by allowing it to handle more users or requests concurrently."
      ]
    },
    {
      "cell_type": "markdown",
      "id": "818b34d8-440e-4c88-99ed-f07c29a58a83",
      "metadata": {
        "id": "818b34d8-440e-4c88-99ed-f07c29a58a83"
      },
      "source": [
        "### __Disadvantage of Muultithreading :__"
      ]
    },
    {
      "cell_type": "markdown",
      "id": "13d7f8b1-7633-40c9-92c9-1674efe7e2a1",
      "metadata": {
        "id": "13d7f8b1-7633-40c9-92c9-1674efe7e2a1"
      },
      "source": [
        "__1. Complexity :__ Multithreaded programs can be more complex and difficult to debug and maintain the single-threaded programs.\n",
        "\n",
        "__2. Sychrinization :__ Multithreading requires synchronization mechanisms to prevent race conditions and ensure data consistency, which can introduce additional overhead and complexity.\n",
        "\n",
        "__3. Deadlocks :__ Multithreading can result in deadlocks, where threads become blocked waiting for each other to release resources.\n",
        "\n",
        "__4. Security :__ Multithreading can introduce security risks, such as race conditions and deadlocks, which can be exploited by malicious code."
      ]
    },
    {
      "cell_type": "markdown",
      "id": "c6537037-d506-472b-8b51-2d9504910edb",
      "metadata": {
        "id": "c6537037-d506-472b-8b51-2d9504910edb"
      },
      "source": [
        "# ___Q6. Explain deadlocks and race conditions.___"
      ]
    },
    {
      "cell_type": "markdown",
      "id": "85a7bb53-5888-4439-b193-ac9f3ff8ffad",
      "metadata": {
        "id": "85a7bb53-5888-4439-b193-ac9f3ff8ffad"
      },
      "source": [
        "## ___ANSWER :___"
      ]
    },
    {
      "cell_type": "markdown",
      "id": "920e0ba5-1ce5-47a9-8120-b011931f98b5",
      "metadata": {
        "id": "920e0ba5-1ce5-47a9-8120-b011931f98b5"
      },
      "source": [
        "### __Deadlocks :__"
      ]
    },
    {
      "cell_type": "markdown",
      "id": "446687c9-f821-406d-b510-c7550ff5e82f",
      "metadata": {
        "id": "446687c9-f821-406d-b510-c7550ff5e82f"
      },
      "source": [
        " A deadlock occurs when two or more threads are blocked, waiting for each other to release resources that they hold. In other words, each thread is waiting for the other thread to finish before it can proceed, resulting in a situation where neither thread can make progress. Deadlocks can happen when multiple threads need exclusive access to shared resources, and they acquire those resources in a different order. For example, thread A may hold resource X and be waiting for resource Y, while thread B holds resource Y and is waiting for resource X. Deadlocks can be difficult to diagnose and resolve, and they can cause the program to become unresponsive or crash."
      ]
    },
    {
      "cell_type": "markdown",
      "id": "29a0b550-a679-4332-ac68-c6d72d9e2835",
      "metadata": {
        "id": "29a0b550-a679-4332-ac68-c6d72d9e2835"
      },
      "source": [
        "### __Race conditions :__"
      ]
    },
    {
      "cell_type": "markdown",
      "id": "c73a6b83-b620-46c3-a6a8-a38850a6a185",
      "metadata": {
        "id": "c73a6b83-b620-46c3-a6a8-a38850a6a185"
      },
      "source": [
        "A race condition occurs when the behavior of a program depends on the timing or order of thread execution. In other words, the output of the program can vary depending on which thread executes first or which thread is able to access a shared resource. Race conditions can happen when multiple threads access the same shared resource without proper synchronization mechanisms, such as locks or semaphores. For example, if two threads try to increment a shared variable at the same time, the final value of the variable may not be hat was expected, as the threads may overwrite each other's changes. Race conditions can be difficult to reproduce and debug, and they can lead to unpredictable behavior and data corruption."
      ]
    },
    {
      "cell_type": "markdown",
      "id": "aa897f6d-53e8-483f-9b83-f1e2ebe48d74",
      "metadata": {
        "id": "aa897f6d-53e8-483f-9b83-f1e2ebe48d74"
      },
      "source": [
        "   ___To avoid these issues, multithreaded programs need to use proper synchronization mechanisms to ensure that shared resources are accessed in a safe and controlled manner. For example, locks, semaphores, and monitors can be used to coordinate access to shared resources and prevent multiple threads from modifying the same resource at the same time. Careful design and testing can also help to prevent deadlocks and race conditions from occurring in the first place.___\n",
        "\n"
      ]
    },
    {
      "cell_type": "code",
      "execution_count": null,
      "id": "8be00372-91a7-4ce0-9da4-bcf5986e322c",
      "metadata": {
        "id": "8be00372-91a7-4ce0-9da4-bcf5986e322c"
      },
      "outputs": [],
      "source": []
    }
  ],
  "metadata": {
    "kernelspec": {
      "display_name": "Python 3 (ipykernel)",
      "language": "python",
      "name": "python3"
    },
    "language_info": {
      "codemirror_mode": {
        "name": "ipython",
        "version": 3
      },
      "file_extension": ".py",
      "mimetype": "text/x-python",
      "name": "python",
      "nbconvert_exporter": "python",
      "pygments_lexer": "ipython3",
      "version": "3.10.8"
    },
    "colab": {
      "provenance": [],
      "include_colab_link": true
    }
  },
  "nbformat": 4,
  "nbformat_minor": 5
}