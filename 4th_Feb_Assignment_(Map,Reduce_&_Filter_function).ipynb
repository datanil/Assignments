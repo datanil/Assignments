{
  "cells": [
    {
      "cell_type": "markdown",
      "metadata": {
        "id": "view-in-github",
        "colab_type": "text"
      },
      "source": [
        "<a href=\"https://colab.research.google.com/github/datanil/Assignments/blob/main/4th_Feb_Assignment_(Map%2CReduce_%26_Filter_function).ipynb\" target=\"_parent\"><img src=\"https://colab.research.google.com/assets/colab-badge.svg\" alt=\"Open In Colab\"/></a>"
      ]
    },
    {
      "cell_type": "markdown",
      "id": "ea791bb9-b4dc-4062-995b-3804fa259989",
      "metadata": {
        "id": "ea791bb9-b4dc-4062-995b-3804fa259989"
      },
      "source": [
        "**_____________________ ASSIGNMENT ON MAP, REDUCE & FILTER FUNCTIONS____________________**"
      ]
    },
    {
      "cell_type": "markdown",
      "id": "7c9ef2bc-22ce-4d4d-b0cc-862b75f5a4b2",
      "metadata": {
        "id": "7c9ef2bc-22ce-4d4d-b0cc-862b75f5a4b2"
      },
      "source": [
        "Q1. Create a python program to sort the given list of tuples based on integer value using a\n",
        "lambda function.\n",
        "\n",
        "\n",
        "[('Sachin Tendulkar', 34357), ('Ricky Ponting', 27483), ('Jack Kallis', 25534), ('Virat Kohli', 24936)]"
      ]
    },
    {
      "cell_type": "markdown",
      "id": "7f2a21cf-cc54-454f-a6e8-24fe81902ac2",
      "metadata": {
        "id": "7f2a21cf-cc54-454f-a6e8-24fe81902ac2"
      },
      "source": [
        "*ANSWER :*"
      ]
    },
    {
      "cell_type": "code",
      "execution_count": null,
      "id": "d9ebf849-70b7-4259-b3f7-88b8100aff74",
      "metadata": {
        "id": "d9ebf849-70b7-4259-b3f7-88b8100aff74"
      },
      "outputs": [],
      "source": [
        "players = [('Sachin Tendulkar', 34357), ('Ricky Ponting', 27483), ('Jack Kallis', 25534), ('Virat Kohli', 24936)]"
      ]
    },
    {
      "cell_type": "code",
      "execution_count": null,
      "id": "ca885b77-22e4-48ee-891e-65c533af5779",
      "metadata": {
        "id": "ca885b77-22e4-48ee-891e-65c533af5779"
      },
      "outputs": [],
      "source": [
        "players.sort( key = lambda players: players[1])"
      ]
    },
    {
      "cell_type": "code",
      "execution_count": null,
      "id": "fa0e8fc0-9d0d-421f-b00e-06ae4fec6274",
      "metadata": {
        "id": "fa0e8fc0-9d0d-421f-b00e-06ae4fec6274",
        "outputId": "88e99a57-f27b-4bc0-a1ac-90a191629fa1"
      },
      "outputs": [
        {
          "data": {
            "text/plain": [
              "[('Virat Kohli', 24936),\n",
              " ('Jack Kallis', 25534),\n",
              " ('Ricky Ponting', 27483),\n",
              " ('Sachin Tendulkar', 34357)]"
            ]
          },
          "execution_count": 77,
          "metadata": {},
          "output_type": "execute_result"
        }
      ],
      "source": [
        "players"
      ]
    },
    {
      "cell_type": "markdown",
      "id": "65dad297-e8a4-4afa-b133-8847143d7c90",
      "metadata": {
        "id": "65dad297-e8a4-4afa-b133-8847143d7c90"
      },
      "source": [
        "Q2. Write a Python Program to find the squares of all the numbers in the given list of integers using\n",
        "lambda and map functions.\n",
        "\n",
        "\n",
        "[1, 2, 3, 4, 5, 6, 7, 8, 9, 10]"
      ]
    },
    {
      "cell_type": "markdown",
      "id": "ff8a949a-d649-42b9-994a-bd411b75caec",
      "metadata": {
        "id": "ff8a949a-d649-42b9-994a-bd411b75caec"
      },
      "source": [
        "*ANSWER :*"
      ]
    },
    {
      "cell_type": "code",
      "execution_count": null,
      "id": "ee478c01-c732-4cba-9341-06ef0f539137",
      "metadata": {
        "id": "ee478c01-c732-4cba-9341-06ef0f539137"
      },
      "outputs": [],
      "source": [
        " sq = [1, 2, 3, 4, 5, 6, 7, 8, 9, 10]"
      ]
    },
    {
      "cell_type": "code",
      "execution_count": null,
      "id": "f77c2802-eac5-41db-a72e-2b385d6afbc1",
      "metadata": {
        "id": "f77c2802-eac5-41db-a72e-2b385d6afbc1",
        "outputId": "9e6fad6b-453f-4ff7-8241-f316d4c79f32"
      },
      "outputs": [
        {
          "data": {
            "text/plain": [
              "[1, 4, 9, 16, 25, 36, 49, 64, 81, 100]"
            ]
          },
          "execution_count": 79,
          "metadata": {},
          "output_type": "execute_result"
        }
      ],
      "source": [
        "list(map(lambda x: x**2 , sq))"
      ]
    },
    {
      "cell_type": "markdown",
      "id": "3c63316d-1c3f-4285-84e6-e26ccc7606ed",
      "metadata": {
        "id": "3c63316d-1c3f-4285-84e6-e26ccc7606ed"
      },
      "source": [
        "Q3. Write a python program to convert the given list of integers into a tuple of strings. Use map and\n",
        "lambda functions\n",
        "\n",
        "\n",
        "Given String: [1, 2, 3, 4, 5, 6, 7, 8, 9, 10]\n",
        "\n",
        "Expected output: ('1', '2', '3', '4', '5', '6', '7', '8', '9', '10')"
      ]
    },
    {
      "cell_type": "markdown",
      "id": "295f0257-5f56-4173-8772-e75f8253044f",
      "metadata": {
        "id": "295f0257-5f56-4173-8772-e75f8253044f"
      },
      "source": [
        "*ANSWER :*"
      ]
    },
    {
      "cell_type": "code",
      "execution_count": null,
      "id": "29e78ce0-1b45-4c37-b2b7-d7b7f950b131",
      "metadata": {
        "id": "29e78ce0-1b45-4c37-b2b7-d7b7f950b131"
      },
      "outputs": [],
      "source": [
        "s = [1, 2, 3, 4, 5, 6, 7, 8, 9, 10]"
      ]
    },
    {
      "cell_type": "code",
      "execution_count": null,
      "id": "cd0818e2-3558-4ede-abe9-765b2a5b9a20",
      "metadata": {
        "id": "cd0818e2-3558-4ede-abe9-765b2a5b9a20",
        "outputId": "259e3a0f-a33b-410d-f944-373bbc8a0e7f"
      },
      "outputs": [
        {
          "data": {
            "text/plain": [
              "('1', '2', '3', '4', '5', '6', '7', '8', '9', '10')"
            ]
          },
          "execution_count": 81,
          "metadata": {},
          "output_type": "execute_result"
        }
      ],
      "source": [
        "tuple(map(lambda s: str(s),s))"
      ]
    },
    {
      "cell_type": "markdown",
      "id": "ce790052-ab44-4a84-b874-e0e86e6ba385",
      "metadata": {
        "id": "ce790052-ab44-4a84-b874-e0e86e6ba385"
      },
      "source": [
        "Q4.  Write a python program using reduce function to compute the product of a list containing numbers\n",
        "from 1 to 25."
      ]
    },
    {
      "cell_type": "markdown",
      "id": "741736e0-75af-494a-94b6-8119db33ae9f",
      "metadata": {
        "id": "741736e0-75af-494a-94b6-8119db33ae9f"
      },
      "source": [
        "*ANSWER :*"
      ]
    },
    {
      "cell_type": "code",
      "execution_count": null,
      "id": "2d5b208b-f486-4a6c-a097-a5273886ab90",
      "metadata": {
        "id": "2d5b208b-f486-4a6c-a097-a5273886ab90"
      },
      "outputs": [],
      "source": [
        "product_list = list(range(1,26))"
      ]
    },
    {
      "cell_type": "code",
      "execution_count": null,
      "id": "92970ecd-28e9-4b52-a0bf-795ddc9b2591",
      "metadata": {
        "id": "92970ecd-28e9-4b52-a0bf-795ddc9b2591",
        "outputId": "95ba7bef-0a36-4fd1-e69f-26c32169de48"
      },
      "outputs": [
        {
          "data": {
            "text/plain": [
              "[1,\n",
              " 2,\n",
              " 3,\n",
              " 4,\n",
              " 5,\n",
              " 6,\n",
              " 7,\n",
              " 8,\n",
              " 9,\n",
              " 10,\n",
              " 11,\n",
              " 12,\n",
              " 13,\n",
              " 14,\n",
              " 15,\n",
              " 16,\n",
              " 17,\n",
              " 18,\n",
              " 19,\n",
              " 20,\n",
              " 21,\n",
              " 22,\n",
              " 23,\n",
              " 24,\n",
              " 25]"
            ]
          },
          "execution_count": 83,
          "metadata": {},
          "output_type": "execute_result"
        }
      ],
      "source": [
        "product_list"
      ]
    },
    {
      "cell_type": "code",
      "execution_count": null,
      "id": "31946ff5-bb25-4f5c-bd8e-7eb585e086fe",
      "metadata": {
        "id": "31946ff5-bb25-4f5c-bd8e-7eb585e086fe"
      },
      "outputs": [],
      "source": [
        "from functools import reduce"
      ]
    },
    {
      "cell_type": "code",
      "execution_count": null,
      "id": "c65af327-230f-4719-8228-0d2362ba9759",
      "metadata": {
        "id": "c65af327-230f-4719-8228-0d2362ba9759",
        "outputId": "e7839f83-6a27-47b2-d5a2-da7b7cfef233"
      },
      "outputs": [
        {
          "data": {
            "text/plain": [
              "15511210043330985984000000"
            ]
          },
          "execution_count": 85,
          "metadata": {},
          "output_type": "execute_result"
        }
      ],
      "source": [
        "reduce(lambda x,y: x*y , product_list)"
      ]
    },
    {
      "cell_type": "markdown",
      "id": "ba4423d4-8188-4354-8784-b9a25c11d989",
      "metadata": {
        "id": "ba4423d4-8188-4354-8784-b9a25c11d989"
      },
      "source": [
        "Q5. Write a python program to filter the numbers in a given list that are divisible by 2 and 3 using the\n",
        "filter function.\n",
        "\n",
        "\n",
        "[2, 3, 6, 9, 27, 60, 90, 120, 55, 46]"
      ]
    },
    {
      "cell_type": "markdown",
      "id": "de940f67-2926-4586-b864-30464d85bf50",
      "metadata": {
        "id": "de940f67-2926-4586-b864-30464d85bf50"
      },
      "source": [
        "*ANSWER :*"
      ]
    },
    {
      "cell_type": "markdown",
      "id": "8ef31591-6736-4819-8d34-9df05931edd2",
      "metadata": {
        "id": "8ef31591-6736-4819-8d34-9df05931edd2"
      },
      "source": [
        "**USING LAMBDA FUNCTION**"
      ]
    },
    {
      "cell_type": "code",
      "execution_count": null,
      "id": "c4548e57-ce04-4b31-9323-d0a29378e3ec",
      "metadata": {
        "id": "c4548e57-ce04-4b31-9323-d0a29378e3ec"
      },
      "outputs": [],
      "source": [
        "l = [2, 3, 6, 9, 27, 60, 90, 120, 55, 46]"
      ]
    },
    {
      "cell_type": "code",
      "execution_count": null,
      "id": "3b6ea39d-77d1-4f5d-837e-0569f4a5e616",
      "metadata": {
        "id": "3b6ea39d-77d1-4f5d-837e-0569f4a5e616",
        "outputId": "e4e998ef-fbbf-4eae-e013-2780767e1ae4"
      },
      "outputs": [
        {
          "data": {
            "text/plain": [
              "[6, 60, 90, 120]"
            ]
          },
          "execution_count": 89,
          "metadata": {},
          "output_type": "execute_result"
        }
      ],
      "source": [
        "list(filter(lambda x: x % 6 == 0, l))"
      ]
    },
    {
      "cell_type": "markdown",
      "id": "a72fd475-7909-46ae-8bcf-f6c6ca78e440",
      "metadata": {
        "id": "a72fd475-7909-46ae-8bcf-f6c6ca78e440"
      },
      "source": [
        "**USING EXTERNAL FUNCTION**"
      ]
    },
    {
      "cell_type": "code",
      "execution_count": null,
      "id": "5c6d6675-e69c-4f56-a9fc-9ade57ad97c0",
      "metadata": {
        "id": "5c6d6675-e69c-4f56-a9fc-9ade57ad97c0"
      },
      "outputs": [],
      "source": [
        "def div(n):\n",
        "    return n % 2 == 0 and n % 3 == 0"
      ]
    },
    {
      "cell_type": "code",
      "execution_count": null,
      "id": "baabb2b5-0a24-4e69-aa3e-c01b143271d7",
      "metadata": {
        "id": "baabb2b5-0a24-4e69-aa3e-c01b143271d7",
        "outputId": "5ce63b22-3ef7-4cca-b3a8-0f696264515e"
      },
      "outputs": [
        {
          "data": {
            "text/plain": [
              "[6, 60, 90, 120]"
            ]
          },
          "execution_count": 91,
          "metadata": {},
          "output_type": "execute_result"
        }
      ],
      "source": [
        "list(filter(div, l))"
      ]
    },
    {
      "cell_type": "markdown",
      "id": "2affbe38-0b27-430c-9275-06c5306b28c6",
      "metadata": {
        "id": "2affbe38-0b27-430c-9275-06c5306b28c6"
      },
      "source": [
        "Q6. Write a python program to find palindromes in the given list of strings using lambda and filter\n",
        "function.\n",
        "\n",
        "\n",
        "['python', 'php', 'aba', 'radar', 'level']"
      ]
    },
    {
      "cell_type": "markdown",
      "id": "6d440a34-8476-438e-a061-f6b6f687029d",
      "metadata": {
        "id": "6d440a34-8476-438e-a061-f6b6f687029d"
      },
      "source": [
        "*ANSWER :*"
      ]
    },
    {
      "cell_type": "code",
      "execution_count": null,
      "id": "3e4c3619-d4df-4a39-ae83-eb0b1e07893c",
      "metadata": {
        "id": "3e4c3619-d4df-4a39-ae83-eb0b1e07893c"
      },
      "outputs": [],
      "source": [
        "n = ['python', 'php', 'aba', 'radar', 'level']"
      ]
    },
    {
      "cell_type": "code",
      "execution_count": null,
      "id": "fbaf3990-0c51-4b80-9dfa-0cc11d4aa231",
      "metadata": {
        "id": "fbaf3990-0c51-4b80-9dfa-0cc11d4aa231",
        "outputId": "a091c7b2-74b0-43e2-b74e-771ba38ad375"
      },
      "outputs": [
        {
          "data": {
            "text/plain": [
              "['php', 'aba', 'radar', 'level']"
            ]
          },
          "execution_count": 93,
          "metadata": {},
          "output_type": "execute_result"
        }
      ],
      "source": [
        "list(filter(lambda x : x == ''.join(reversed(x)), n))"
      ]
    },
    {
      "cell_type": "markdown",
      "id": "25b7c35b-a557-4215-b82f-fd88cdb97b94",
      "metadata": {
        "id": "25b7c35b-a557-4215-b82f-fd88cdb97b94"
      },
      "source": [
        "**___________________________________________ END _________________________________________________**"
      ]
    }
  ],
  "metadata": {
    "kernelspec": {
      "display_name": "Python 3 (ipykernel)",
      "language": "python",
      "name": "python3"
    },
    "language_info": {
      "codemirror_mode": {
        "name": "ipython",
        "version": 3
      },
      "file_extension": ".py",
      "mimetype": "text/x-python",
      "name": "python",
      "nbconvert_exporter": "python",
      "pygments_lexer": "ipython3",
      "version": "3.10.8"
    },
    "colab": {
      "provenance": [],
      "include_colab_link": true
    }
  },
  "nbformat": 4,
  "nbformat_minor": 5
}