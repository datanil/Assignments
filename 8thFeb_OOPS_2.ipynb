{
  "cells": [
    {
      "cell_type": "markdown",
      "metadata": {
        "id": "view-in-github",
        "colab_type": "text"
      },
      "source": [
        "<a href=\"https://colab.research.google.com/github/datanil/Assignments/blob/main/8thFeb_OOPS_2.ipynb\" target=\"_parent\"><img src=\"https://colab.research.google.com/assets/colab-badge.svg\" alt=\"Open In Colab\"/></a>"
      ]
    },
    {
      "cell_type": "markdown",
      "id": "406d0f39-0110-4e3a-b6cf-d9d3152b9671",
      "metadata": {
        "id": "406d0f39-0110-4e3a-b6cf-d9d3152b9671"
      },
      "source": [
        "Q1. What is Abstraction in OOps? Explain with an example."
      ]
    },
    {
      "cell_type": "markdown",
      "id": "d8500535-0146-4db7-8f6f-ea7bc0d4d038",
      "metadata": {
        "id": "d8500535-0146-4db7-8f6f-ea7bc0d4d038"
      },
      "source": [
        "__ANSWER__:"
      ]
    },
    {
      "cell_type": "markdown",
      "id": "b1e0c777-fe9e-4298-ae99-0c1642322068",
      "metadata": {
        "id": "b1e0c777-fe9e-4298-ae99-0c1642322068"
      },
      "source": [
        "Abstarction is used to hide the internal functionality of the function from the users. The useres only interact with  the basic implementation if the function, but the inner working is hidden.\n",
        "\n",
        "It is used to hide the irriliavant data / class in order to reduce the time complexity, and it also enhances the appliction efficiency."
      ]
    },
    {
      "cell_type": "markdown",
      "id": "16f7bb76-f35b-49ea-8ea4-641c3ec587e3",
      "metadata": {
        "id": "16f7bb76-f35b-49ea-8ea4-641c3ec587e3"
      },
      "source": [
        "__Example :__"
      ]
    },
    {
      "cell_type": "code",
      "execution_count": null,
      "id": "954252d1-a469-4f33-8294-0c9957a7551f",
      "metadata": {
        "id": "954252d1-a469-4f33-8294-0c9957a7551f"
      },
      "outputs": [],
      "source": [
        "import abc\n",
        "class department:\n",
        "\n",
        "    @abc.abstractmethod\n",
        "    def student_details(self):\n",
        "        pass\n",
        "\n",
        "    @abc.abstractmethod\n",
        "    def student_roll(self):\n",
        "        pass\n",
        "\n",
        "\n",
        "    @abc.abstractmethod\n",
        "    def student_adress(self):\n",
        "        pass"
      ]
    },
    {
      "cell_type": "code",
      "execution_count": null,
      "id": "dc73d327-92ea-44e2-8a96-4e369013c68c",
      "metadata": {
        "id": "dc73d327-92ea-44e2-8a96-4e369013c68c"
      },
      "outputs": [],
      "source": [
        "class student_cse(department):\n",
        "    def student_details(self):\n",
        "        return \"This will return the student details of CSE\"\n",
        "\n",
        "    def student_roll(self):\n",
        "        return \" This will return the roll number of CSE students\"\n",
        "\n",
        "    def student_adress(self):\n",
        "        return \"This will the CSE student address\"\n",
        ""
      ]
    },
    {
      "cell_type": "code",
      "execution_count": null,
      "id": "c4b93203-e5c8-402d-85e3-d32f44122e49",
      "metadata": {
        "id": "c4b93203-e5c8-402d-85e3-d32f44122e49"
      },
      "outputs": [],
      "source": [
        "class student_mca(department):\n",
        "\n",
        "    def student_details(self):\n",
        "        return \"This will return the student details of MCA\"\n",
        "    def student_roll(self):\n",
        "        return \" This will return the roll number of MCA students\"\n",
        "\n",
        "    def student_adress(self):\n",
        "        return \"This will the MCA student address\""
      ]
    },
    {
      "cell_type": "code",
      "execution_count": null,
      "id": "17bab4f2-4516-4670-9084-388ca0b8c734",
      "metadata": {
        "id": "17bab4f2-4516-4670-9084-388ca0b8c734"
      },
      "outputs": [],
      "source": [
        "manoj = student_cse()"
      ]
    },
    {
      "cell_type": "code",
      "execution_count": null,
      "id": "4df318d6-d2b5-4aff-b035-a2dc965fadf8",
      "metadata": {
        "id": "4df318d6-d2b5-4aff-b035-a2dc965fadf8",
        "outputId": "d1771f01-01fe-4af4-996d-8a6f7dfd7a18"
      },
      "outputs": [
        {
          "data": {
            "text/plain": [
              "'This will return the student details of CSE'"
            ]
          },
          "execution_count": 7,
          "metadata": {},
          "output_type": "execute_result"
        }
      ],
      "source": [
        "manoj.student_details()"
      ]
    },
    {
      "cell_type": "code",
      "execution_count": null,
      "id": "f6fd4ed2-9bb6-49b7-9648-067e9ef4b0cc",
      "metadata": {
        "id": "f6fd4ed2-9bb6-49b7-9648-067e9ef4b0cc",
        "outputId": "00c17e80-2d4e-482d-da2c-10b9b5b9f4c8"
      },
      "outputs": [
        {
          "data": {
            "text/plain": [
              "' This will return the roll number of CSE students'"
            ]
          },
          "execution_count": 8,
          "metadata": {},
          "output_type": "execute_result"
        }
      ],
      "source": [
        "manoj.student_roll()"
      ]
    },
    {
      "cell_type": "code",
      "execution_count": null,
      "id": "7dbed57b-2eb2-47e4-91c9-bd836f360ea3",
      "metadata": {
        "id": "7dbed57b-2eb2-47e4-91c9-bd836f360ea3",
        "outputId": "36c48a1e-c558-4db4-b10a-c2dd0cdc4137"
      },
      "outputs": [
        {
          "data": {
            "text/plain": [
              "'This will the CSE student address'"
            ]
          },
          "execution_count": 9,
          "metadata": {},
          "output_type": "execute_result"
        }
      ],
      "source": [
        "manoj.student_adress()"
      ]
    },
    {
      "cell_type": "code",
      "execution_count": null,
      "id": "591bae06-fe8d-4e2c-af7f-090c99604012",
      "metadata": {
        "id": "591bae06-fe8d-4e2c-af7f-090c99604012"
      },
      "outputs": [],
      "source": [
        "rohan = student_mca()"
      ]
    },
    {
      "cell_type": "code",
      "execution_count": null,
      "id": "68c17da1-4210-4c6f-bb22-2a4e63ddd8c2",
      "metadata": {
        "id": "68c17da1-4210-4c6f-bb22-2a4e63ddd8c2",
        "outputId": "63c59133-0e9d-48db-9d83-52658c756901"
      },
      "outputs": [
        {
          "data": {
            "text/plain": [
              "'This will return the student details of MCA'"
            ]
          },
          "execution_count": 11,
          "metadata": {},
          "output_type": "execute_result"
        }
      ],
      "source": [
        "rohan.student_details()"
      ]
    },
    {
      "cell_type": "code",
      "execution_count": null,
      "id": "c97a1f46-9f8c-49d9-baf9-fe6bc9f6cf2d",
      "metadata": {
        "id": "c97a1f46-9f8c-49d9-baf9-fe6bc9f6cf2d",
        "outputId": "a1f8ea81-1202-4b1b-e547-b485121e1962"
      },
      "outputs": [
        {
          "data": {
            "text/plain": [
              "' This will return the roll number of MCA students'"
            ]
          },
          "execution_count": 12,
          "metadata": {},
          "output_type": "execute_result"
        }
      ],
      "source": [
        "rohan.student_roll()"
      ]
    },
    {
      "cell_type": "code",
      "execution_count": null,
      "id": "6647a920-b68b-4a69-9784-5ff0a3a9c89c",
      "metadata": {
        "id": "6647a920-b68b-4a69-9784-5ff0a3a9c89c",
        "outputId": "c0f5cefe-83d9-4e56-c268-62c4ffdc3ddd"
      },
      "outputs": [
        {
          "data": {
            "text/plain": [
              "'This will the MCA student address'"
            ]
          },
          "execution_count": 13,
          "metadata": {},
          "output_type": "execute_result"
        }
      ],
      "source": [
        "rohan.student_adress()"
      ]
    },
    {
      "cell_type": "code",
      "execution_count": null,
      "id": "197b617e-c0fe-44d8-93a8-d2482ba247fc",
      "metadata": {
        "id": "197b617e-c0fe-44d8-93a8-d2482ba247fc"
      },
      "outputs": [],
      "source": []
    },
    {
      "cell_type": "markdown",
      "id": "6f38a983-648b-4ac7-81bb-b38588776c65",
      "metadata": {
        "id": "6f38a983-648b-4ac7-81bb-b38588776c65"
      },
      "source": [
        "Q2. Differentiate between Abstraction and Encapsulation. Explain with an example."
      ]
    },
    {
      "cell_type": "markdown",
      "id": "a4a83c37-698f-4b26-9567-8e060ed81675",
      "metadata": {
        "id": "a4a83c37-698f-4b26-9567-8e060ed81675"
      },
      "source": [
        "__ANSWER__:"
      ]
    },
    {
      "cell_type": "markdown",
      "id": "e4e594a3-b492-4340-bf44-a5637d2c371e",
      "metadata": {
        "id": "e4e594a3-b492-4340-bf44-a5637d2c371e"
      },
      "source": [
        "__Abstraction :__"
      ]
    },
    {
      "cell_type": "markdown",
      "id": "0b6983c3-530b-4de1-bbf5-111537ebc149",
      "metadata": {
        "id": "0b6983c3-530b-4de1-bbf5-111537ebc149"
      },
      "source": [
        " i. Abstaction is hiding the details and implementation of the code."
      ]
    },
    {
      "cell_type": "markdown",
      "id": "77be960d-75cd-4971-8d47-93274e536de0",
      "metadata": {
        "id": "77be960d-75cd-4971-8d47-93274e536de0"
      },
      "source": [
        "ii. It is  a designed level process."
      ]
    },
    {
      "cell_type": "markdown",
      "id": "31608d27-3bac-4672-a459-149bf92edb6c",
      "metadata": {
        "id": "31608d27-3bac-4672-a459-149bf92edb6c"
      },
      "source": [
        "__Example:__"
      ]
    },
    {
      "cell_type": "code",
      "execution_count": null,
      "id": "1eea69b5-be06-46ce-9cfb-5c554fb82231",
      "metadata": {
        "id": "1eea69b5-be06-46ce-9cfb-5c554fb82231"
      },
      "outputs": [],
      "source": [
        "import abc\n",
        "\n",
        "class salary_of_employees:\n",
        "\n",
        "    @abc.abstractmethod\n",
        "    def salary_of_Group_A(self):\n",
        "        pass\n",
        "\n",
        "\n",
        "    @abc.abstractmethod\n",
        "    def salary_of_Group_B(self):\n",
        "        pass\n",
        "\n",
        "\n",
        "    @abc.abstractmethod\n",
        "    def salary_of_Group_C(self):\n",
        "        pass"
      ]
    },
    {
      "cell_type": "code",
      "execution_count": null,
      "id": "7fc9e0b0-f854-4543-a80a-30d9c8d8b9b4",
      "metadata": {
        "id": "7fc9e0b0-f854-4543-a80a-30d9c8d8b9b4"
      },
      "outputs": [],
      "source": [
        "class salary(salary_of_employees):\n",
        "\n",
        "    def salary_of_Group_A(self):\n",
        "        print(\"The group A salary will be 12lakh per annum\")\n",
        "\n",
        "    def salary_of_Group_B(self):\n",
        "        print(\"The group B salary will be 10lakh per annum\")\n",
        "\n",
        "    def salary_of_Group_C(self):\n",
        "        print(\"The Group C salary will be 9lakh per annum\")"
      ]
    },
    {
      "cell_type": "code",
      "execution_count": null,
      "id": "18e8b5a6-1093-4a89-bda0-1dbbbc8faeee",
      "metadata": {
        "id": "18e8b5a6-1093-4a89-bda0-1dbbbc8faeee"
      },
      "outputs": [],
      "source": [
        "manoj = salary()"
      ]
    },
    {
      "cell_type": "code",
      "execution_count": null,
      "id": "475ac2f6-88e8-4847-8f81-b9ebc5bf0445",
      "metadata": {
        "id": "475ac2f6-88e8-4847-8f81-b9ebc5bf0445",
        "outputId": "91986658-5c7e-4f3a-b60d-5cd7be0870f1"
      },
      "outputs": [
        {
          "name": "stdout",
          "output_type": "stream",
          "text": [
            "The group A salary will be 12lakh per annum\n"
          ]
        }
      ],
      "source": [
        "manoj.salary_of_Group_A()"
      ]
    },
    {
      "cell_type": "code",
      "execution_count": null,
      "id": "c1f31785-f8cf-4504-944c-8de17cb827b0",
      "metadata": {
        "id": "c1f31785-f8cf-4504-944c-8de17cb827b0"
      },
      "outputs": [],
      "source": [
        "shrikant = salary()"
      ]
    },
    {
      "cell_type": "code",
      "execution_count": null,
      "id": "392c71c1-0ac7-42ea-a820-5101a734f761",
      "metadata": {
        "id": "392c71c1-0ac7-42ea-a820-5101a734f761",
        "outputId": "9fa7de5d-8a41-4809-d580-f377971a9dff"
      },
      "outputs": [
        {
          "name": "stdout",
          "output_type": "stream",
          "text": [
            "The group B salary will be 10lakh per annum\n"
          ]
        }
      ],
      "source": [
        "shrikant.salary_of_Group_B()"
      ]
    },
    {
      "cell_type": "code",
      "execution_count": null,
      "id": "7ee784ef-98e2-4ff2-99bc-80cf5b7500b7",
      "metadata": {
        "id": "7ee784ef-98e2-4ff2-99bc-80cf5b7500b7"
      },
      "outputs": [],
      "source": [
        "firoj = salary()"
      ]
    },
    {
      "cell_type": "code",
      "execution_count": null,
      "id": "23545190-6c44-4ade-bd74-896224fea090",
      "metadata": {
        "id": "23545190-6c44-4ade-bd74-896224fea090",
        "outputId": "e8b837cc-ebb3-47b9-bdd6-0c8318525217"
      },
      "outputs": [
        {
          "name": "stdout",
          "output_type": "stream",
          "text": [
            "The Group C salary will be 9lakh per annum\n"
          ]
        }
      ],
      "source": [
        "firoj.salary_of_Group_C()"
      ]
    },
    {
      "cell_type": "code",
      "execution_count": null,
      "id": "1448973d-8f04-4bd4-b84e-00358182f857",
      "metadata": {
        "id": "1448973d-8f04-4bd4-b84e-00358182f857"
      },
      "outputs": [],
      "source": []
    },
    {
      "cell_type": "markdown",
      "id": "8388b7e0-2ab9-4ec4-80e8-141ceb6c46d0",
      "metadata": {
        "id": "8388b7e0-2ab9-4ec4-80e8-141ceb6c46d0"
      },
      "source": [
        "__Encapsulation:__"
      ]
    },
    {
      "cell_type": "markdown",
      "id": "964ad769-ba19-488d-88b9-82592d255f47",
      "metadata": {
        "id": "964ad769-ba19-488d-88b9-82592d255f47"
      },
      "source": [
        "i. Encapsulation is hiding the data and controlling the visibility."
      ]
    },
    {
      "cell_type": "markdown",
      "id": "4da77bf1-9375-4240-beec-fdcc36300ec4",
      "metadata": {
        "id": "4da77bf1-9375-4240-beec-fdcc36300ec4"
      },
      "source": [
        "ii. Encapsulation is hiding the data and controlling the visibility of the code."
      ]
    },
    {
      "cell_type": "markdown",
      "id": "041f92b2-a05c-4941-8337-f4e7acd07c46",
      "metadata": {
        "id": "041f92b2-a05c-4941-8337-f4e7acd07c46"
      },
      "source": [
        "__Example:__"
      ]
    },
    {
      "cell_type": "code",
      "execution_count": null,
      "id": "5b101b93-d895-4038-b8e4-506ca49a4994",
      "metadata": {
        "id": "5b101b93-d895-4038-b8e4-506ca49a4994"
      },
      "outputs": [],
      "source": [
        "class bank_account:\n",
        "    def __init__(self ,  balance):\n",
        "        self.__balance = balance\n",
        "\n",
        "    def deposit(self , amount):\n",
        "        self.__balance = self.__balance + amount\n",
        "\n",
        "    def withdraw(self , amount):\n",
        "        if self.__balance >= amount:\n",
        "            self.__balance = self.__balance - amount\n",
        "            return True\n",
        "        else:\n",
        "            return False\n",
        "    def get_balance(self):\n",
        "        return self.__balance"
      ]
    },
    {
      "cell_type": "code",
      "execution_count": null,
      "id": "9a877348-31b3-4393-a3b7-7e25921cc6bb",
      "metadata": {
        "id": "9a877348-31b3-4393-a3b7-7e25921cc6bb"
      },
      "outputs": [],
      "source": [
        "amit = bank_account(10000)"
      ]
    },
    {
      "cell_type": "code",
      "execution_count": null,
      "id": "e4c11361-27e1-4a93-a854-25988c890ebc",
      "metadata": {
        "id": "e4c11361-27e1-4a93-a854-25988c890ebc"
      },
      "outputs": [],
      "source": [
        "amit.deposit(2000)"
      ]
    },
    {
      "cell_type": "code",
      "execution_count": null,
      "id": "446b3494-792f-41a5-abdc-712f738e051f",
      "metadata": {
        "id": "446b3494-792f-41a5-abdc-712f738e051f",
        "outputId": "e19b3cd0-5f67-405d-ded6-230242cc2257"
      },
      "outputs": [
        {
          "data": {
            "text/plain": [
              "12000"
            ]
          },
          "execution_count": 25,
          "metadata": {},
          "output_type": "execute_result"
        }
      ],
      "source": [
        "amit.get_balance()\n"
      ]
    },
    {
      "cell_type": "code",
      "execution_count": null,
      "id": "6dc5f4ef-c0ed-46aa-879f-ef75e9837a2c",
      "metadata": {
        "id": "6dc5f4ef-c0ed-46aa-879f-ef75e9837a2c",
        "outputId": "d7e98024-2d05-43a8-da52-073ecc88aa82"
      },
      "outputs": [
        {
          "data": {
            "text/plain": [
              "True"
            ]
          },
          "execution_count": 26,
          "metadata": {},
          "output_type": "execute_result"
        }
      ],
      "source": [
        "amit.withdraw(7000)\n"
      ]
    },
    {
      "cell_type": "code",
      "execution_count": null,
      "id": "fe28e428-3d30-4546-afe4-96a19d7d065f",
      "metadata": {
        "id": "fe28e428-3d30-4546-afe4-96a19d7d065f",
        "outputId": "c68b9c9f-2554-45fe-c1ee-e13cff0d83eb"
      },
      "outputs": [
        {
          "data": {
            "text/plain": [
              "5000"
            ]
          },
          "execution_count": 27,
          "metadata": {},
          "output_type": "execute_result"
        }
      ],
      "source": [
        "amit.get_balance()\n"
      ]
    },
    {
      "cell_type": "markdown",
      "id": "72338407-e73f-4b5d-b4e3-bb2c730a3669",
      "metadata": {
        "id": "72338407-e73f-4b5d-b4e3-bb2c730a3669"
      },
      "source": [
        "Q3. What is abc module in python? Why is it used?"
      ]
    },
    {
      "cell_type": "markdown",
      "id": "65b3d461-3b48-42dd-ae1c-35885a89c70a",
      "metadata": {
        "id": "65b3d461-3b48-42dd-ae1c-35885a89c70a"
      },
      "source": [
        "__ANSWER__:"
      ]
    },
    {
      "cell_type": "markdown",
      "id": "e22852cd-536b-4171-bef4-d3b77efde494",
      "metadata": {
        "id": "e22852cd-536b-4171-bef4-d3b77efde494"
      },
      "source": [
        "ABC module in python provides the indrastructure for defining abstract base classes (ABCs) in python."
      ]
    },
    {
      "cell_type": "markdown",
      "id": "6aad3c43-365e-4c07-a18a-8dae414283b3",
      "metadata": {
        "id": "6aad3c43-365e-4c07-a18a-8dae414283b3"
      },
      "source": [
        "For larger projects , it is impossible to remember the class details , and also reusability of code can increse the bug. Therefore it plays a crucial role in building projects."
      ]
    },
    {
      "cell_type": "markdown",
      "id": "616c59de-8f56-45c8-8240-c5db4a8d0a50",
      "metadata": {
        "id": "616c59de-8f56-45c8-8240-c5db4a8d0a50"
      },
      "source": [
        "Python does not provide abstract classes. The \"__abc__\" module in the python library provided the infrastructure for defining custom abstract base classes."
      ]
    },
    {
      "cell_type": "markdown",
      "id": "c05db591-60de-4ff3-a4a9-1a87bdaf6db6",
      "metadata": {
        "id": "c05db591-60de-4ff3-a4a9-1a87bdaf6db6"
      },
      "source": [
        "Abstract class cannot be instatiated in python. An abstract method can be call by its subclasses"
      ]
    },
    {
      "cell_type": "code",
      "execution_count": null,
      "id": "bdd6284d-5d5c-4e07-a886-d02087229ba0",
      "metadata": {
        "id": "bdd6284d-5d5c-4e07-a886-d02087229ba0"
      },
      "outputs": [],
      "source": []
    },
    {
      "cell_type": "code",
      "execution_count": null,
      "id": "66ea3d26-366f-4322-abf7-515404839543",
      "metadata": {
        "id": "66ea3d26-366f-4322-abf7-515404839543"
      },
      "outputs": [],
      "source": []
    },
    {
      "cell_type": "markdown",
      "id": "17afa9a5-f7ba-4fbb-8ef6-3af79d80d3f4",
      "metadata": {
        "id": "17afa9a5-f7ba-4fbb-8ef6-3af79d80d3f4"
      },
      "source": [
        "Q4. How can we achieve data abstraction?"
      ]
    },
    {
      "cell_type": "markdown",
      "id": "65803d41-7402-463c-b61b-53ba40441fc5",
      "metadata": {
        "id": "65803d41-7402-463c-b61b-53ba40441fc5"
      },
      "source": [
        "__ANSWER__:"
      ]
    },
    {
      "cell_type": "markdown",
      "id": "cbcb99a7-1dc8-4fed-bfae-d9a053733c97",
      "metadata": {
        "id": "cbcb99a7-1dc8-4fed-bfae-d9a053733c97"
      },
      "source": [
        "We can achieve abstraction by using the abstract keyword for  classes method in our program"
      ]
    },
    {
      "cell_type": "code",
      "execution_count": null,
      "id": "67929cd2-c0c9-4d20-b46e-4c21a2cb00cf",
      "metadata": {
        "id": "67929cd2-c0c9-4d20-b46e-4c21a2cb00cf"
      },
      "outputs": [],
      "source": [
        "import abc"
      ]
    },
    {
      "cell_type": "markdown",
      "id": "c7a0acba-a2a3-4b53-a378-16e164f035a9",
      "metadata": {
        "id": "c7a0acba-a2a3-4b53-a378-16e164f035a9"
      },
      "source": [
        "Q5. Can we create an instance of an abstract class? Explain your answer."
      ]
    },
    {
      "cell_type": "markdown",
      "id": "6f3c2221-018c-4de8-9f73-6c785ff13d59",
      "metadata": {
        "id": "6f3c2221-018c-4de8-9f73-6c785ff13d59"
      },
      "source": [
        "__ANSWER__:"
      ]
    },
    {
      "cell_type": "markdown",
      "id": "05560c3c-4371-4422-a456-b693b41fa4d0",
      "metadata": {
        "id": "05560c3c-4371-4422-a456-b693b41fa4d0"
      },
      "source": [
        "No, abstract classes cannot be instantiated."
      ]
    },
    {
      "cell_type": "markdown",
      "id": "d028cecd-2f85-461b-b8f6-f9b0f990b00a",
      "metadata": {
        "id": "d028cecd-2f85-461b-b8f6-f9b0f990b00a"
      },
      "source": [
        "it does not have any complete implementation. An abstract class acts like a template or an empty structure."
      ]
    },
    {
      "cell_type": "markdown",
      "id": "7c4bda4c-685d-4a8d-8813-80baacc0768d",
      "metadata": {
        "id": "7c4bda4c-685d-4a8d-8813-80baacc0768d"
      },
      "source": [
        "_______________________________________END___________________________________________"
      ]
    }
  ],
  "metadata": {
    "kernelspec": {
      "display_name": "Python 3 (ipykernel)",
      "language": "python",
      "name": "python3"
    },
    "language_info": {
      "codemirror_mode": {
        "name": "ipython",
        "version": 3
      },
      "file_extension": ".py",
      "mimetype": "text/x-python",
      "name": "python",
      "nbconvert_exporter": "python",
      "pygments_lexer": "ipython3",
      "version": "3.10.8"
    },
    "colab": {
      "provenance": [],
      "include_colab_link": true
    }
  },
  "nbformat": 4,
  "nbformat_minor": 5
}