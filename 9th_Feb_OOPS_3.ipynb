{
  "cells": [
    {
      "cell_type": "markdown",
      "metadata": {
        "id": "view-in-github",
        "colab_type": "text"
      },
      "source": [
        "<a href=\"https://colab.research.google.com/github/datanil/Assignments/blob/main/9th_Feb_OOPS_3.ipynb\" target=\"_parent\"><img src=\"https://colab.research.google.com/assets/colab-badge.svg\" alt=\"Open In Colab\"/></a>"
      ]
    },
    {
      "cell_type": "markdown",
      "id": "d31e93dd-6ba4-4518-98ab-0670660a7877",
      "metadata": {
        "id": "d31e93dd-6ba4-4518-98ab-0670660a7877"
      },
      "source": [
        "Q1, Create a vehicle class with an init method having instance variables as name_of_vehicle, max_speed\n",
        "and average_of_vehicle."
      ]
    },
    {
      "cell_type": "code",
      "execution_count": null,
      "id": "b744d291-e551-4fde-ba28-a47ec833b962",
      "metadata": {
        "id": "b744d291-e551-4fde-ba28-a47ec833b962"
      },
      "outputs": [],
      "source": [
        "class vehicle:\n",
        "    def __init__(self , name_of_vehicle , max_speed , avarage_of_vehicle):\n",
        "        self.name_of_vehicle = name_of_vehicle\n",
        "        self.max_speed = max_speed\n",
        "        self.avarage_of_vehicle = avarage_of_vehicle"
      ]
    },
    {
      "cell_type": "markdown",
      "id": "27d2a77e-810a-487e-b66c-e8f4e77f05b4",
      "metadata": {
        "id": "27d2a77e-810a-487e-b66c-e8f4e77f05b4"
      },
      "source": [
        "Q2.  Create a child class car from the vehicle class created in Que 1, which will inherit the vehicle class.\n",
        "Create a method named seating_capacity which takes capacity as an argument and returns the name of\n",
        "the vehicle and its seating capacity"
      ]
    },
    {
      "cell_type": "code",
      "execution_count": null,
      "id": "f062d15f-e9a6-47ea-abf1-33ef8547a707",
      "metadata": {
        "id": "f062d15f-e9a6-47ea-abf1-33ef8547a707"
      },
      "outputs": [],
      "source": [
        "class car(vehicle):\n",
        "    def seating_capacity(self , capacity):\n",
        "        self.capacity = capacity\n",
        "        return self.name_of_vehicle , self.capacity"
      ]
    },
    {
      "cell_type": "code",
      "execution_count": null,
      "id": "d71aa148-8f43-4f13-9adb-855ce68c97ae",
      "metadata": {
        "id": "d71aa148-8f43-4f13-9adb-855ce68c97ae"
      },
      "outputs": [],
      "source": [
        "toyota = car(\"Toyota\" , 200 , 100)"
      ]
    },
    {
      "cell_type": "code",
      "execution_count": null,
      "id": "3e05034c-d9ea-4dae-947f-4fab15c8d437",
      "metadata": {
        "id": "3e05034c-d9ea-4dae-947f-4fab15c8d437",
        "outputId": "608e0570-0805-4465-e11e-2f8c463d0f01"
      },
      "outputs": [
        {
          "data": {
            "text/plain": [
              "('Toyota', 5)"
            ]
          },
          "execution_count": 5,
          "metadata": {},
          "output_type": "execute_result"
        }
      ],
      "source": [
        "toyota.seating_capacity(5)"
      ]
    },
    {
      "cell_type": "code",
      "execution_count": null,
      "id": "8e147149-7e90-4bbd-9581-c1485d384b34",
      "metadata": {
        "id": "8e147149-7e90-4bbd-9581-c1485d384b34"
      },
      "outputs": [],
      "source": []
    },
    {
      "cell_type": "code",
      "execution_count": null,
      "id": "df447c4d-04d2-4f25-a121-ef47d609e2fa",
      "metadata": {
        "id": "df447c4d-04d2-4f25-a121-ef47d609e2fa"
      },
      "outputs": [],
      "source": []
    },
    {
      "cell_type": "code",
      "execution_count": null,
      "id": "703904a5-d51d-44bc-bde0-a622f3208ceb",
      "metadata": {
        "id": "703904a5-d51d-44bc-bde0-a622f3208ceb"
      },
      "outputs": [],
      "source": []
    },
    {
      "cell_type": "markdown",
      "id": "fb7e72a2-5636-44e1-bbf2-9dd094c9eaad",
      "metadata": {
        "id": "fb7e72a2-5636-44e1-bbf2-9dd094c9eaad"
      },
      "source": [
        "Q3. What is multiple inheritance? Write a python code to demonstrate multiple inheritance."
      ]
    },
    {
      "cell_type": "markdown",
      "id": "08cd0ee8-e7d1-4bb9-8592-3a5108759a36",
      "metadata": {
        "id": "08cd0ee8-e7d1-4bb9-8592-3a5108759a36"
      },
      "source": [
        "__ANSWER:__"
      ]
    },
    {
      "cell_type": "markdown",
      "id": "4596684c-51a1-44cb-a6f1-e4b8b28a4f0e",
      "metadata": {
        "id": "4596684c-51a1-44cb-a6f1-e4b8b28a4f0e"
      },
      "source": [
        "When a class is derived from more than one class . This type of inheritance is called multiple Inheritance.  "
      ]
    },
    {
      "cell_type": "markdown",
      "id": "8eca26d1-b53b-40e9-8799-f417987fa4df",
      "metadata": {
        "id": "8eca26d1-b53b-40e9-8799-f417987fa4df"
      },
      "source": [
        "__CODE:__"
      ]
    },
    {
      "cell_type": "markdown",
      "id": "4270c5be-2b4d-43e4-8117-b7cdcd848987",
      "metadata": {
        "id": "4270c5be-2b4d-43e4-8117-b7cdcd848987"
      },
      "source": [
        "__MULTIPLE INHERITANCE :__"
      ]
    },
    {
      "cell_type": "code",
      "execution_count": null,
      "id": "aa0aa294-bcd2-49ec-a402-089bdcafc01b",
      "metadata": {
        "id": "aa0aa294-bcd2-49ec-a402-089bdcafc01b"
      },
      "outputs": [],
      "source": [
        "class class_parent_A:\n",
        "    def method_A(self):\n",
        "        print(\"This is parent class A\")"
      ]
    },
    {
      "cell_type": "code",
      "execution_count": null,
      "id": "0af91689-010e-40aa-9f5c-acbeb52e82cc",
      "metadata": {
        "id": "0af91689-010e-40aa-9f5c-acbeb52e82cc"
      },
      "outputs": [],
      "source": [
        "class class_parent_B:\n",
        "    def method_B(self):\n",
        "        print(\"This is parent class B\")"
      ]
    },
    {
      "cell_type": "code",
      "execution_count": null,
      "id": "78482e3f-feaa-4c19-a13c-b3ba624d40ad",
      "metadata": {
        "id": "78482e3f-feaa-4c19-a13c-b3ba624d40ad"
      },
      "outputs": [],
      "source": [
        "class class_parent_C(class_parent_A , class_parent_B):\n",
        "        pass"
      ]
    },
    {
      "cell_type": "code",
      "execution_count": null,
      "id": "78c29176-67cd-44d6-888e-20a1ab2ae916",
      "metadata": {
        "id": "78c29176-67cd-44d6-888e-20a1ab2ae916"
      },
      "outputs": [],
      "source": [
        "c = class_parent_C()"
      ]
    },
    {
      "cell_type": "code",
      "execution_count": null,
      "id": "21ffc9ce-ceae-4ed0-af95-584d27616721",
      "metadata": {
        "id": "21ffc9ce-ceae-4ed0-af95-584d27616721",
        "outputId": "2f5c7ead-4abe-4dcc-880f-6496962e0862"
      },
      "outputs": [
        {
          "name": "stdout",
          "output_type": "stream",
          "text": [
            "This is parent class B\n"
          ]
        }
      ],
      "source": [
        "c.method_B()"
      ]
    },
    {
      "cell_type": "code",
      "execution_count": null,
      "id": "a46ba2a1-2ec7-4288-97ae-5be2e366f6a3",
      "metadata": {
        "id": "a46ba2a1-2ec7-4288-97ae-5be2e366f6a3",
        "outputId": "700c423b-ff36-4ff2-a656-d41009968690"
      },
      "outputs": [
        {
          "name": "stdout",
          "output_type": "stream",
          "text": [
            "This is parent class A\n"
          ]
        }
      ],
      "source": [
        "c.method_A()"
      ]
    },
    {
      "cell_type": "markdown",
      "id": "83f0fec5-8d61-4572-99d8-33d00e362a9d",
      "metadata": {
        "id": "83f0fec5-8d61-4572-99d8-33d00e362a9d"
      },
      "source": [
        "Q4. What are getter and setter in python? Create a class and create a getter and a setter method in this\n",
        "class."
      ]
    },
    {
      "cell_type": "markdown",
      "id": "f6960cc6-b3ff-4258-a515-ea00848cc684",
      "metadata": {
        "id": "f6960cc6-b3ff-4258-a515-ea00848cc684"
      },
      "source": [
        "Getter and setter are basically used to add validation logics around getting and setting value.\n",
        "\n",
        "To avoid direct access of class field that is parivate variable cannot be acessed directly or modified by external users.\n",
        "\n",
        "The main purpose  of using getters and setters in object orianted programming is to ensure data encapsulation."
      ]
    },
    {
      "cell_type": "code",
      "execution_count": null,
      "id": "b30bf9a5-362c-4bd7-ab76-682360508e7c",
      "metadata": {
        "id": "b30bf9a5-362c-4bd7-ab76-682360508e7c"
      },
      "outputs": [],
      "source": [
        "class vehicle:\n",
        "    def __init__(self , name , year , model , speed):\n",
        "        self.__name = name\n",
        "        self.__year = year\n",
        "        self.__model = model\n",
        "        self.__speed  = 0\n",
        "\n",
        "    def return_vehicle_id(self):\n",
        "        return self.__name , self.__year , self.__model , self.__speed\n",
        "\n",
        "    def set_speed(self , speed):\n",
        "        self.__speed = 0 if speed < 0 else speed\n",
        "\n",
        "    def get_speed(self):\n",
        "        return self.__speed"
      ]
    },
    {
      "cell_type": "code",
      "execution_count": null,
      "id": "484a7041-029d-4e6d-8b16-d913ce474a39",
      "metadata": {
        "id": "484a7041-029d-4e6d-8b16-d913ce474a39"
      },
      "outputs": [],
      "source": [
        "toyota = vehicle(\"Toyota Innova\" , 2022 , \"XYBNQ4001\" , 0)"
      ]
    },
    {
      "cell_type": "code",
      "execution_count": null,
      "id": "35c76034-54a7-4e5f-bf8a-acbbea59941c",
      "metadata": {
        "id": "35c76034-54a7-4e5f-bf8a-acbbea59941c",
        "outputId": "feb81531-3f5f-4783-abb7-31460c3fa353"
      },
      "outputs": [
        {
          "data": {
            "text/plain": [
              "('Toyota Innova', 2022, 'XYBNQ4001', 0)"
            ]
          },
          "execution_count": 14,
          "metadata": {},
          "output_type": "execute_result"
        }
      ],
      "source": [
        "toyota.return_vehicle_id()"
      ]
    },
    {
      "cell_type": "code",
      "execution_count": null,
      "id": "25d410b1-8147-4dfb-91a4-ce22276fe1f7",
      "metadata": {
        "id": "25d410b1-8147-4dfb-91a4-ce22276fe1f7"
      },
      "outputs": [],
      "source": [
        "toyota.set_speed(-345)"
      ]
    },
    {
      "cell_type": "code",
      "execution_count": null,
      "id": "d811c7e2-4c28-4ec1-8fd4-aeb24d128b75",
      "metadata": {
        "id": "d811c7e2-4c28-4ec1-8fd4-aeb24d128b75",
        "outputId": "841ccf7e-e00b-4ec2-87fc-c8b8ca9c1ccf"
      },
      "outputs": [
        {
          "data": {
            "text/plain": [
              "0"
            ]
          },
          "execution_count": 16,
          "metadata": {},
          "output_type": "execute_result"
        }
      ],
      "source": [
        "toyota.get_speed()"
      ]
    },
    {
      "cell_type": "code",
      "execution_count": null,
      "id": "70000b00-283d-4b87-b5d0-f216160dfbde",
      "metadata": {
        "id": "70000b00-283d-4b87-b5d0-f216160dfbde"
      },
      "outputs": [],
      "source": [
        "toyota.set_speed(200)"
      ]
    },
    {
      "cell_type": "code",
      "execution_count": null,
      "id": "12055aad-cd4e-451f-a025-a6f6647947a5",
      "metadata": {
        "id": "12055aad-cd4e-451f-a025-a6f6647947a5",
        "outputId": "128cdcb9-35bc-48a9-ed1c-6e4e18e0aa15"
      },
      "outputs": [
        {
          "data": {
            "text/plain": [
              "200"
            ]
          },
          "execution_count": 18,
          "metadata": {},
          "output_type": "execute_result"
        }
      ],
      "source": [
        "toyota.get_speed()"
      ]
    },
    {
      "cell_type": "code",
      "execution_count": null,
      "id": "a18ea77a-eee3-4f3b-a76f-4752582302d2",
      "metadata": {
        "id": "a18ea77a-eee3-4f3b-a76f-4752582302d2",
        "outputId": "3f51865e-85d1-44f8-941f-570496a6860b"
      },
      "outputs": [
        {
          "data": {
            "text/plain": [
              "('Toyota Innova', 2022, 'XYBNQ4001', 200)"
            ]
          },
          "execution_count": 19,
          "metadata": {},
          "output_type": "execute_result"
        }
      ],
      "source": [
        "toyota.return_vehicle_id()"
      ]
    },
    {
      "cell_type": "code",
      "execution_count": null,
      "id": "9cc6415a-8e2d-4e3f-9d3d-d64507f0df25",
      "metadata": {
        "id": "9cc6415a-8e2d-4e3f-9d3d-d64507f0df25"
      },
      "outputs": [],
      "source": [
        "class vehicle:\n",
        "    def __init__(self , name , year , model , speed):\n",
        "        self.__name = name\n",
        "        self.__year = year\n",
        "        self.__model = model\n",
        "        self.__speed  = speed\n",
        "\n",
        "    def return_vehicle_id(self):\n",
        "        return self.__name , self.__year , self.__model , self.__speed\n",
        "\n",
        "\n",
        "    @property\n",
        "    def get_speed(self):\n",
        "        return self.__speed\n",
        "\n",
        "    @get_speed.setter\n",
        "    def set_speed(self , speed):\n",
        "        if speed <= 10:\n",
        "            self.__speed = 0\n",
        "        else:\n",
        "            speed"
      ]
    },
    {
      "cell_type": "code",
      "execution_count": null,
      "id": "7e8fcae5-31be-4f76-b92a-f86b4ece34fd",
      "metadata": {
        "id": "7e8fcae5-31be-4f76-b92a-f86b4ece34fd"
      },
      "outputs": [],
      "source": [
        "suv = vehicle(\"Toyota\" , 2021, \"Fortuner\" , 200)"
      ]
    },
    {
      "cell_type": "code",
      "execution_count": null,
      "id": "4a1f3c6c-4496-4761-b74b-70753c3ba8f3",
      "metadata": {
        "id": "4a1f3c6c-4496-4761-b74b-70753c3ba8f3",
        "outputId": "8ab0ec6f-1fe8-445e-9aa2-ab99b50843f4"
      },
      "outputs": [
        {
          "data": {
            "text/plain": [
              "('Toyota', 2021, 'Fortuner', 200)"
            ]
          },
          "execution_count": 127,
          "metadata": {},
          "output_type": "execute_result"
        }
      ],
      "source": [
        "suv.return_vehicle_id()"
      ]
    },
    {
      "cell_type": "code",
      "execution_count": null,
      "id": "405e4b7b-b57f-4ea6-877c-ecccb37513aa",
      "metadata": {
        "id": "405e4b7b-b57f-4ea6-877c-ecccb37513aa",
        "outputId": "a7e4389a-8f00-4449-bcd6-33e644b64ac2"
      },
      "outputs": [
        {
          "data": {
            "text/plain": [
              "200"
            ]
          },
          "execution_count": 128,
          "metadata": {},
          "output_type": "execute_result"
        }
      ],
      "source": [
        "suv.get_speed"
      ]
    },
    {
      "cell_type": "code",
      "execution_count": null,
      "id": "bf8ea12a-14a7-4b18-8b92-9674adca2b98",
      "metadata": {
        "id": "bf8ea12a-14a7-4b18-8b92-9674adca2b98"
      },
      "outputs": [],
      "source": [
        "suv.set_speed = 150"
      ]
    },
    {
      "cell_type": "code",
      "execution_count": null,
      "id": "218d4613-1a28-4ae2-9bc7-6aa15a73c8ab",
      "metadata": {
        "id": "218d4613-1a28-4ae2-9bc7-6aa15a73c8ab",
        "outputId": "e4837059-27c1-4ae2-bb77-2be3466ac036"
      },
      "outputs": [
        {
          "data": {
            "text/plain": [
              "200"
            ]
          },
          "execution_count": 130,
          "metadata": {},
          "output_type": "execute_result"
        }
      ],
      "source": [
        "suv.get_speed"
      ]
    },
    {
      "cell_type": "code",
      "execution_count": null,
      "id": "ee0d6d09-52af-4be2-a1ea-a471bb7f065b",
      "metadata": {
        "id": "ee0d6d09-52af-4be2-a1ea-a471bb7f065b"
      },
      "outputs": [],
      "source": [
        "suv.set_speed = 5"
      ]
    },
    {
      "cell_type": "code",
      "execution_count": null,
      "id": "7a0861cd-9aab-47e1-9e89-484f752095e6",
      "metadata": {
        "id": "7a0861cd-9aab-47e1-9e89-484f752095e6",
        "outputId": "15c7ff25-dda7-491a-e829-4f6fc462f0b4"
      },
      "outputs": [
        {
          "data": {
            "text/plain": [
              "0"
            ]
          },
          "execution_count": 132,
          "metadata": {},
          "output_type": "execute_result"
        }
      ],
      "source": [
        "suv.get_speed"
      ]
    },
    {
      "cell_type": "code",
      "execution_count": null,
      "id": "b109351c-6c2f-477c-b000-42e52ada149f",
      "metadata": {
        "id": "b109351c-6c2f-477c-b000-42e52ada149f"
      },
      "outputs": [],
      "source": []
    },
    {
      "cell_type": "markdown",
      "id": "07b61946-725a-4e01-ad31-60468cf44b36",
      "metadata": {
        "id": "07b61946-725a-4e01-ad31-60468cf44b36"
      },
      "source": [
        "Q5.What is method overriding in python? Write a python code to demonstrate method overriding"
      ]
    },
    {
      "cell_type": "markdown",
      "id": "894fb63e-b2cf-419a-8ac3-cedfccc8dc28",
      "metadata": {
        "id": "894fb63e-b2cf-419a-8ac3-cedfccc8dc28"
      },
      "source": [
        "__Method Overriding :__"
      ]
    },
    {
      "cell_type": "markdown",
      "id": "53d9706e-4a02-4b32-96eb-f4d71d0676e5",
      "metadata": {
        "id": "53d9706e-4a02-4b32-96eb-f4d71d0676e5"
      },
      "source": [
        "Method overriding is an ability that allows a child class to  provide a specific implementation of a method that is already provided by one of its parent class.\n",
        "\n",
        "When a method in a child class has the same name , same parameter or signature and same return type as a method in its super class, then the method in the child class is said to override the method in parent class."
      ]
    },
    {
      "cell_type": "code",
      "execution_count": null,
      "id": "08dc3e93-bc93-450a-877d-7360698b28b8",
      "metadata": {
        "id": "08dc3e93-bc93-450a-877d-7360698b28b8"
      },
      "outputs": [],
      "source": [
        "class parent:\n",
        "    def speed(self):\n",
        "        return \"speed is 100\""
      ]
    },
    {
      "cell_type": "code",
      "execution_count": null,
      "id": "cc05cc72-28da-46fa-a17c-03799cc0b9b0",
      "metadata": {
        "id": "cc05cc72-28da-46fa-a17c-03799cc0b9b0"
      },
      "outputs": [],
      "source": [
        "class child(parent):\n",
        "    def speed(self):\n",
        "        return \"speed is 150\""
      ]
    },
    {
      "cell_type": "code",
      "execution_count": null,
      "id": "1de41f18-6f2c-4658-ba08-b2c31bc678dd",
      "metadata": {
        "id": "1de41f18-6f2c-4658-ba08-b2c31bc678dd"
      },
      "outputs": [],
      "source": [
        "car1 = parent()\n",
        "car2 = child()"
      ]
    },
    {
      "cell_type": "code",
      "execution_count": null,
      "id": "2598ef80-f477-4876-9ba3-10e71493e4f9",
      "metadata": {
        "id": "2598ef80-f477-4876-9ba3-10e71493e4f9",
        "outputId": "3f2355e4-12d6-464d-cf67-9b37f312c7a7"
      },
      "outputs": [
        {
          "data": {
            "text/plain": [
              "'speed is 100'"
            ]
          },
          "execution_count": 13,
          "metadata": {},
          "output_type": "execute_result"
        }
      ],
      "source": [
        "car1.speed()"
      ]
    },
    {
      "cell_type": "code",
      "execution_count": null,
      "id": "42b694c7-3d4f-40a0-ba6a-6ea0603e0ff4",
      "metadata": {
        "id": "42b694c7-3d4f-40a0-ba6a-6ea0603e0ff4",
        "outputId": "333a539a-3174-409b-e0e0-9fd6e6279eb2"
      },
      "outputs": [
        {
          "data": {
            "text/plain": [
              "'speed is 150'"
            ]
          },
          "execution_count": 14,
          "metadata": {},
          "output_type": "execute_result"
        }
      ],
      "source": [
        "car2.speed()"
      ]
    },
    {
      "cell_type": "markdown",
      "id": "8d24d5b2-4158-41b7-8080-77aff2eadfe7",
      "metadata": {
        "id": "8d24d5b2-4158-41b7-8080-77aff2eadfe7"
      },
      "source": [
        "__With the help of class method__"
      ]
    },
    {
      "cell_type": "code",
      "execution_count": null,
      "id": "f3650f30-7574-44fd-b2cc-bd6a6adad845",
      "metadata": {
        "id": "f3650f30-7574-44fd-b2cc-bd6a6adad845"
      },
      "outputs": [],
      "source": [
        "class school:\n",
        "    def __init__(self , name , email ):\n",
        "        self.name = name\n",
        "        self.email = email\n",
        "\n",
        "\n",
        "    @classmethod\n",
        "    def details(cls , name ,email):\n",
        "        return cls(name , email)\n",
        "\n",
        "    def student_details(self):\n",
        "        print( self.name , self.email)"
      ]
    },
    {
      "cell_type": "code",
      "execution_count": null,
      "id": "39672f4a-a920-4072-828b-85200981a5e7",
      "metadata": {
        "id": "39672f4a-a920-4072-828b-85200981a5e7",
        "outputId": "24057e9f-1700-48a9-86d1-66b513e52d15"
      },
      "outputs": [
        {
          "data": {
            "text/plain": [
              "<__main__.school at 0x7f5b48e26230>"
            ]
          },
          "execution_count": 28,
          "metadata": {},
          "output_type": "execute_result"
        }
      ],
      "source": [
        "school.details(\"Hemant\" , \"hemant@gmail.com\")"
      ]
    },
    {
      "cell_type": "code",
      "execution_count": null,
      "id": "09ccd66c-eb5f-4e2a-99c0-24cdd7a82014",
      "metadata": {
        "id": "09ccd66c-eb5f-4e2a-99c0-24cdd7a82014"
      },
      "outputs": [],
      "source": [
        "sch = school.details(\"Hemant\" , \"hemant@gmail.com\")"
      ]
    },
    {
      "cell_type": "code",
      "execution_count": null,
      "id": "62510230-01c8-4a34-ae96-137159c8e566",
      "metadata": {
        "id": "62510230-01c8-4a34-ae96-137159c8e566",
        "outputId": "e3e6bf43-4f01-4689-9d08-606c41c56901"
      },
      "outputs": [
        {
          "data": {
            "text/plain": [
              "'Hemant'"
            ]
          },
          "execution_count": 30,
          "metadata": {},
          "output_type": "execute_result"
        }
      ],
      "source": [
        "sch.name"
      ]
    },
    {
      "cell_type": "code",
      "execution_count": null,
      "id": "83fb0ea6-e084-483a-a913-cb7100abbaaf",
      "metadata": {
        "id": "83fb0ea6-e084-483a-a913-cb7100abbaaf",
        "outputId": "1fbb2088-e155-40dd-a93f-1529f5dc6d5f"
      },
      "outputs": [
        {
          "data": {
            "text/plain": [
              "'hemant@gmail.com'"
            ]
          },
          "execution_count": 31,
          "metadata": {},
          "output_type": "execute_result"
        }
      ],
      "source": [
        "sch.email"
      ]
    },
    {
      "cell_type": "code",
      "execution_count": null,
      "id": "c1b1ba3e-c5d9-467d-873d-d51f99cee8f0",
      "metadata": {
        "id": "c1b1ba3e-c5d9-467d-873d-d51f99cee8f0",
        "outputId": "1d68ac9e-6e85-47fe-8844-98daffc7477d"
      },
      "outputs": [
        {
          "name": "stdout",
          "output_type": "stream",
          "text": [
            "Hemant hemant@gmail.com\n"
          ]
        }
      ],
      "source": [
        "sch.student_details()"
      ]
    },
    {
      "cell_type": "markdown",
      "id": "4a454edc-e2dc-4e8d-be02-520deae2c4e0",
      "metadata": {
        "id": "4a454edc-e2dc-4e8d-be02-520deae2c4e0"
      },
      "source": [
        "__Without the help of class method:__"
      ]
    },
    {
      "cell_type": "code",
      "execution_count": null,
      "id": "07b3911d-641f-4a69-9a0b-9df119da1ac8",
      "metadata": {
        "id": "07b3911d-641f-4a69-9a0b-9df119da1ac8"
      },
      "outputs": [],
      "source": [
        "sch1 =  school(\"hemant\" , \"hemant@gmail.com\")"
      ]
    },
    {
      "cell_type": "code",
      "execution_count": null,
      "id": "644816d5-8272-40ea-83be-8de16be54d9e",
      "metadata": {
        "id": "644816d5-8272-40ea-83be-8de16be54d9e",
        "outputId": "1fdf79c4-1b03-4d89-c1a4-c258d882e910"
      },
      "outputs": [
        {
          "name": "stdout",
          "output_type": "stream",
          "text": [
            "hemant hemant@gmail.com\n"
          ]
        }
      ],
      "source": [
        "sch1.student_details()"
      ]
    },
    {
      "cell_type": "code",
      "execution_count": null,
      "id": "837a332a-dae4-4e51-923e-bee470a64d02",
      "metadata": {
        "id": "837a332a-dae4-4e51-923e-bee470a64d02",
        "outputId": "c6db5ff8-b937-4a6b-b19f-7739b9c43e02"
      },
      "outputs": [
        {
          "data": {
            "text/plain": [
              "'hemant@gmail.com'"
            ]
          },
          "execution_count": 36,
          "metadata": {},
          "output_type": "execute_result"
        }
      ],
      "source": [
        "sch1.email"
      ]
    },
    {
      "cell_type": "code",
      "execution_count": null,
      "id": "ac3b4d9f-e011-4d0b-aa15-57ff6b4249b5",
      "metadata": {
        "id": "ac3b4d9f-e011-4d0b-aa15-57ff6b4249b5",
        "outputId": "8b6457e6-d4c3-4eda-a1b0-ed7ba57f91e5"
      },
      "outputs": [
        {
          "data": {
            "text/plain": [
              "'hemant'"
            ]
          },
          "execution_count": 37,
          "metadata": {},
          "output_type": "execute_result"
        }
      ],
      "source": [
        "sch1.name"
      ]
    },
    {
      "cell_type": "code",
      "execution_count": null,
      "id": "f31dc152-9131-4bd9-a33e-67628c74deb4",
      "metadata": {
        "id": "f31dc152-9131-4bd9-a33e-67628c74deb4"
      },
      "outputs": [],
      "source": []
    }
  ],
  "metadata": {
    "kernelspec": {
      "display_name": "Python 3 (ipykernel)",
      "language": "python",
      "name": "python3"
    },
    "language_info": {
      "codemirror_mode": {
        "name": "ipython",
        "version": 3
      },
      "file_extension": ".py",
      "mimetype": "text/x-python",
      "name": "python",
      "nbconvert_exporter": "python",
      "pygments_lexer": "ipython3",
      "version": "3.10.8"
    },
    "colab": {
      "provenance": [],
      "include_colab_link": true
    }
  },
  "nbformat": 4,
  "nbformat_minor": 5
}