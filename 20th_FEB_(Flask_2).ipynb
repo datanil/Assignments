{
  "cells": [
    {
      "cell_type": "markdown",
      "metadata": {
        "id": "view-in-github",
        "colab_type": "text"
      },
      "source": [
        "<a href=\"https://colab.research.google.com/github/datanil/Assignments/blob/main/20th_FEB_(Flask_2).ipynb\" target=\"_parent\"><img src=\"https://colab.research.google.com/assets/colab-badge.svg\" alt=\"Open In Colab\"/></a>"
      ]
    },
    {
      "cell_type": "markdown",
      "id": "744e78da-1b2b-446f-b3da-989f7dd33987",
      "metadata": {
        "id": "744e78da-1b2b-446f-b3da-989f7dd33987"
      },
      "source": [
        "# ___Q1. Explain GET and POST methods.___"
      ]
    },
    {
      "cell_type": "markdown",
      "id": "038621c5-d5ad-4cef-9000-eceae616d827",
      "metadata": {
        "id": "038621c5-d5ad-4cef-9000-eceae616d827"
      },
      "source": [
        "## ___ANSWER :___"
      ]
    },
    {
      "cell_type": "markdown",
      "id": "cf562b64-b241-4289-be93-877da9343a23",
      "metadata": {
        "id": "cf562b64-b241-4289-be93-877da9343a23"
      },
      "source": [
        "### __GET method :__"
      ]
    },
    {
      "cell_type": "markdown",
      "id": "c37678fa-f271-49ad-9543-3d6fb311e593",
      "metadata": {
        "id": "c37678fa-f271-49ad-9543-3d6fb311e593"
      },
      "source": [
        "The ___GET___ method is used to request data from a web server. It is a safe and idempotent method, meaning that it does not modify any data on the server and can be repeated without changing the server state.\n",
        "\n",
        "When using the GET method, data is usually sent as a query string appended to the URL. The data is visible in the URL and can be bookmarked or shared. The data is limited to a maximum length and can be cached by web browsers.\n",
        "\n",
        "Hence , it means sending a data through url.\n",
        "\n",
        "___Example:___\n",
        "\n",
        "A user visits a search engine website and types a query in the search bar. The search engine website sends a GET request to its server, which returns a list of search results."
      ]
    },
    {
      "cell_type": "markdown",
      "id": "5ab359c8-74ab-48be-9714-3f5298496f8f",
      "metadata": {
        "id": "5ab359c8-74ab-48be-9714-3f5298496f8f"
      },
      "source": [
        "### __POST method :__"
      ]
    },
    {
      "cell_type": "markdown",
      "id": "cff13514-bd7c-4a56-ad1d-a038f40887bc",
      "metadata": {
        "id": "cff13514-bd7c-4a56-ad1d-a038f40887bc"
      },
      "source": [
        "The ___POST___ method is used to send data to a web server to create or update a resource. It is not a safe and idempotent method, meaning that it can modify data on the server and cannot be repeated without changing the server state.\n",
        "\n",
        "When using the POST method, data is sent in the request body. The data is not visible in the URL and cannot be bookmarked or shared. The data has no maximum length and cannot be cached by web browsers.\n",
        "\n",
        "Hence , it means sending a data through body.\n",
        "\n",
        "___Example:___\n",
        "\n",
        "A user fills out a registration form on a website and submits the form. The website sends a POST request to its server, which creates a new user account with the provided information."
      ]
    },
    {
      "cell_type": "markdown",
      "id": "60196080-b411-40bd-b3cb-b9fe6a127f14",
      "metadata": {
        "id": "60196080-b411-40bd-b3cb-b9fe6a127f14"
      },
      "source": [
        "# ___Q2. Why is request used in Flask?___"
      ]
    },
    {
      "cell_type": "markdown",
      "id": "68d22c3d-bc44-4a20-a6de-26f5c14af966",
      "metadata": {
        "id": "68d22c3d-bc44-4a20-a6de-26f5c14af966"
      },
      "source": [
        "## ___ANSWER :___"
      ]
    },
    {
      "cell_type": "markdown",
      "id": "ea9efed1-24b1-4233-a1dd-2ebc72693c3f",
      "metadata": {
        "id": "ea9efed1-24b1-4233-a1dd-2ebc72693c3f"
      },
      "source": [
        "In Flask, the request object is used to represent an incoming HTTP request from a client. It contains all the information about the request, such as the HTTP method, URL, headers, form data, and query parameters."
      ]
    },
    {
      "cell_type": "markdown",
      "id": "02d16dd5-4965-4d1c-8f73-9d81a3e3e7d5",
      "metadata": {
        "id": "02d16dd5-4965-4d1c-8f73-9d81a3e3e7d5"
      },
      "source": [
        "___Here are some following points that describes why request is used in Flask :___"
      ]
    },
    {
      "cell_type": "markdown",
      "id": "c38da35b-2f41-4d7d-a586-eb02372ad1c1",
      "metadata": {
        "id": "c38da35b-2f41-4d7d-a586-eb02372ad1c1"
      },
      "source": [
        "__1. Retrieve Form Data:__ You can use the request object to retrieve data submitted through an HTML form in a POST request. This allows you to process the form data and perform operations on it.\n",
        "\n",
        "__2. Query Parameters:__ You can use the request object to retrieve query parameters sent in the URL. This is useful for building dynamic web pages that display different content based on the user's input.\n",
        "\n",
        "__3. Cookies:__ You can use the request object to retrieve cookies sent by the client in the request. This allows you to personalize the user's experience by storing user-specific data in cookies.\n",
        "\n",
        "__4. Authorization:__ You can use the request object to retrieve the Authorization header sent by the client in the request. This header contains authentication information that can be used to validate the user's identity and authorize access to protected resources.\n",
        "\n",
        "\n",
        "\n"
      ]
    },
    {
      "cell_type": "code",
      "execution_count": null,
      "id": "d01c6734-c500-491d-8967-2cfb302bd25e",
      "metadata": {
        "id": "d01c6734-c500-491d-8967-2cfb302bd25e"
      },
      "outputs": [],
      "source": []
    },
    {
      "cell_type": "markdown",
      "id": "5555684e-b0a4-4465-a8dd-035ef431ffbf",
      "metadata": {
        "id": "5555684e-b0a4-4465-a8dd-035ef431ffbf"
      },
      "source": [
        "# ___Q3. Why is redirect() used in Flask?___"
      ]
    },
    {
      "cell_type": "markdown",
      "id": "a08dcde4-3fce-4eb7-ab6b-74e4a456b0c7",
      "metadata": {
        "id": "a08dcde4-3fce-4eb7-ab6b-74e4a456b0c7"
      },
      "source": [
        "## ___ANSWER :___"
      ]
    },
    {
      "cell_type": "markdown",
      "id": "e897c41a-cde6-4237-a687-94f9421f48e1",
      "metadata": {
        "id": "e897c41a-cde6-4237-a687-94f9421f48e1"
      },
      "source": [
        "The __redirect()__ function in Flask is used to redirect the client to a different URL. It is a commonly used function in web development to redirect the user to a different page or route in the application."
      ]
    },
    {
      "cell_type": "markdown",
      "id": "e64a2bb9-3597-4187-ae2b-3fed8384b96a",
      "metadata": {
        "id": "e64a2bb9-3597-4187-ae2b-3fed8384b96a"
      },
      "source": [
        "___Following points shows the use of __redirect()__ in Flask :___"
      ]
    },
    {
      "cell_type": "markdown",
      "id": "60359fc5-99a5-42dc-8e7f-8f5d74271dea",
      "metadata": {
        "id": "60359fc5-99a5-42dc-8e7f-8f5d74271dea"
      },
      "source": [
        "__1. Redirecting after a form submission :__ When a user submits a form, the server may redirect the user to a different page to display the results or to confirm that the form has been submitted successfully."
      ]
    },
    {
      "cell_type": "code",
      "execution_count": null,
      "id": "3f7d2d6d-b723-4e76-8f71-51d107cd1509",
      "metadata": {
        "id": "3f7d2d6d-b723-4e76-8f71-51d107cd1509"
      },
      "outputs": [],
      "source": [
        "from flask import Flask, render_template, redirect, request\n",
        "\n",
        "app = Flask(__name__)\n",
        "\n",
        "@app.route('/form', methods=['GET', 'POST'])\n",
        "def form():\n",
        "    if request.method == 'POST':\n",
        "        # process form data here\n",
        "        return redirect('/success')\n",
        "    return render_template('form.html')\n",
        "\n",
        "@app.route('/success')\n",
        "def success():\n",
        "    return render_template('success.html')\n"
      ]
    },
    {
      "cell_type": "markdown",
      "id": "dde8987c-0a47-4363-9141-4150851a0a1a",
      "metadata": {
        "id": "dde8987c-0a47-4363-9141-4150851a0a1a"
      },
      "source": [
        "In this example, when the user submits the form, the server processes the form data and then redirects the user to the __'/success'__ URL to display a success message."
      ]
    },
    {
      "cell_type": "markdown",
      "id": "c0456914-7c30-4067-bd8b-31650edacd06",
      "metadata": {
        "id": "c0456914-7c30-4067-bd8b-31650edacd06"
      },
      "source": [
        "__2. Redirecting after a login :__ When a user logs in, the server may redirect the user to a different page to access their account or to display a welcome message."
      ]
    },
    {
      "cell_type": "code",
      "execution_count": null,
      "id": "c1b2293c-d0ca-4fc3-8de5-2a244246779b",
      "metadata": {
        "id": "c1b2293c-d0ca-4fc3-8de5-2a244246779b"
      },
      "outputs": [],
      "source": [
        "@app.route('/login', methods=['GET', 'POST'])\n",
        "def login():\n",
        "    if request.method == 'POST':\n",
        "        # process login credentials here\n",
        "        return redirect('/account')\n",
        "    return render_template('login.html')\n",
        "\n",
        "@app.route('/account')\n",
        "def account():\n",
        "    return render_template('account.html')\n"
      ]
    },
    {
      "cell_type": "markdown",
      "id": "9010ccd0-73a0-4231-8181-ce803f24e12a",
      "metadata": {
        "id": "9010ccd0-73a0-4231-8181-ce803f24e12a"
      },
      "source": [
        "In this example, when the user logs in, the server processes the login credentials and then redirects the user to the __'/account URL'__ to display their account information."
      ]
    },
    {
      "cell_type": "markdown",
      "id": "4b4bfeda-cc66-48e1-aa3f-dea3d5292a96",
      "metadata": {
        "id": "4b4bfeda-cc66-48e1-aa3f-dea3d5292a96"
      },
      "source": [
        "__3. Redirecting after a resource creation or update:__ When a new resource is created or an existing resource is updated, the server may redirect the user to a different page to view the updated resource or to confirm that the operation was successful."
      ]
    },
    {
      "cell_type": "code",
      "execution_count": null,
      "id": "f54a31e0-3157-4c04-ac6f-f2675dabf4c0",
      "metadata": {
        "id": "f54a31e0-3157-4c04-ac6f-f2675dabf4c0"
      },
      "outputs": [],
      "source": [
        "@app.route('/create', methods=['GET', 'POST'])\n",
        "def create():\n",
        "    if request.method == 'POST':\n",
        "        # create new resource here\n",
        "        return redirect('/resources')\n",
        "    return render_template('create.html')\n",
        "\n",
        "@app.route('/resources')\n",
        "def resources():\n",
        "    # display list of resources here\n",
        "    return render_template('resources.html')\n"
      ]
    },
    {
      "cell_type": "markdown",
      "id": "c5bc71eb-9885-4583-b8c0-f3090b4066fa",
      "metadata": {
        "id": "c5bc71eb-9885-4583-b8c0-f3090b4066fa"
      },
      "source": [
        "In this example, when a new resource is created, the server redirects the user to the __'/resources'__ URL to display a list of all resources, including the new one."
      ]
    },
    {
      "cell_type": "markdown",
      "id": "f142dc83-fa02-4d52-b92a-c4fbc5d93ba0",
      "metadata": {
        "id": "f142dc83-fa02-4d52-b92a-c4fbc5d93ba0"
      },
      "source": [
        "# ___Q4. What are templates in Flask? Why is the render_template() function used?___"
      ]
    },
    {
      "cell_type": "markdown",
      "id": "59b4886d-53f0-4b96-8dca-7e603993cd6d",
      "metadata": {
        "id": "59b4886d-53f0-4b96-8dca-7e603993cd6d"
      },
      "source": [
        "## ___ANSWER :___"
      ]
    },
    {
      "cell_type": "markdown",
      "id": "1f68c8f7-9862-4e31-a04a-8f4f68bb5ecf",
      "metadata": {
        "id": "1f68c8f7-9862-4e31-a04a-8f4f68bb5ecf"
      },
      "source": [
        "Templates in Flask are files that define the structure and content of the HTML pages that are returned to the client's browser. A template typically contains HTML code with placeholders that are replaced with dynamic data when the page is rendered. Templates can also include other dynamic elements such as loops, conditionals, and variables."
      ]
    },
    {
      "cell_type": "markdown",
      "id": "333e8a5f-d359-4163-a902-6ce5c38521e3",
      "metadata": {
        "id": "333e8a5f-d359-4163-a902-6ce5c38521e3"
      },
      "source": [
        "__Use of render_template() function :__ In Flask, the render_template() function is used to render templates. This function takes the name of a template file as its first argument and any number of additional keyword arguments that are used to pass data to the template."
      ]
    },
    {
      "cell_type": "markdown",
      "id": "e8093b0c-e60c-4994-8714-d79026033c85",
      "metadata": {
        "id": "e8093b0c-e60c-4994-8714-d79026033c85"
      },
      "source": [
        "___Here is an example of using templates in a Flask application :___"
      ]
    },
    {
      "cell_type": "code",
      "execution_count": null,
      "id": "ff45bc8c-4ed1-4660-8f90-c76615954a4f",
      "metadata": {
        "id": "ff45bc8c-4ed1-4660-8f90-c76615954a4f"
      },
      "outputs": [],
      "source": [
        "from flask import Flask, render_template\n",
        "\n",
        "app = Flask(__name__)\n",
        "\n",
        "@app.route('/')\n",
        "def index():\n",
        "    return render_template('index.html', title='Home', message='Welcome to my website!')\n",
        "\n",
        "if __name__ == '__main__':\n",
        "    app.run(host=0.0.0.0)\n"
      ]
    },
    {
      "cell_type": "markdown",
      "id": "ce60281a-ec34-4b7f-98e4-fe54e0a8bb28",
      "metadata": {
        "id": "ce60281a-ec34-4b7f-98e4-fe54e0a8bb28"
      },
      "source": [
        "In this example, the __'index()'__ function returns the result of calling the __'render_template()'__ function. The first argument to the function is the name of the template file, which is __'index.html'__ in this case. The additional keyword arguments are used to pass data to the template. In this example, the title and message variables are passed to the template and can be used in the HTML code. The __'render_template()'__ function uses the Jinja2 templating engine to process the template file and replace the placeholders with the dynamic data. The resulting HTML code is then sent to the client's browser as the response."
      ]
    },
    {
      "cell_type": "code",
      "execution_count": null,
      "id": "10776dc6-1e11-4bd2-ae4c-8e3f8cf97de9",
      "metadata": {
        "id": "10776dc6-1e11-4bd2-ae4c-8e3f8cf97de9"
      },
      "outputs": [],
      "source": []
    },
    {
      "cell_type": "markdown",
      "id": "d5e7deba-8b8a-4aec-937a-8b9b740db1a6",
      "metadata": {
        "tags": [],
        "id": "d5e7deba-8b8a-4aec-937a-8b9b740db1a6"
      },
      "source": [
        "# ___Q5. Create a simple API. Use Postman to test it. Attach the screenshot of the output in the Jupyter Notebook.___"
      ]
    },
    {
      "cell_type": "markdown",
      "id": "ddf9484d-e5b7-4de3-81b2-ae8e1b370cf2",
      "metadata": {
        "id": "ddf9484d-e5b7-4de3-81b2-ae8e1b370cf2"
      },
      "source": [
        "## ___ANSWER :___"
      ]
    },
    {
      "cell_type": "markdown",
      "id": "ea9b0464-37f3-4d83-85d2-95e69444a6f9",
      "metadata": {
        "id": "ea9b0464-37f3-4d83-85d2-95e69444a6f9"
      },
      "source": [
        "![postman.png](attachment:87ca59cc-c5f2-4b94-b9c5-ceaaf0a1488e.png)"
      ]
    },
    {
      "cell_type": "markdown",
      "id": "b10bd7ad-993f-42fd-8aaa-8daa80b8884e",
      "metadata": {
        "id": "b10bd7ad-993f-42fd-8aaa-8daa80b8884e"
      },
      "source": [
        "![postman2.png](attachment:a29bc269-1d7f-4f70-a167-b14a8a805798.png)"
      ]
    },
    {
      "cell_type": "code",
      "execution_count": null,
      "id": "0a03cd58-f832-4889-96d0-db609fed21a3",
      "metadata": {
        "id": "0a03cd58-f832-4889-96d0-db609fed21a3"
      },
      "outputs": [],
      "source": []
    },
    {
      "cell_type": "code",
      "execution_count": null,
      "id": "0f0f017e-35f0-4bd1-b4ef-c0cd6329f758",
      "metadata": {
        "id": "0f0f017e-35f0-4bd1-b4ef-c0cd6329f758"
      },
      "outputs": [],
      "source": []
    },
    {
      "cell_type": "code",
      "execution_count": null,
      "id": "0f40f658-5ddd-4816-bd32-90b9f41801f6",
      "metadata": {
        "id": "0f40f658-5ddd-4816-bd32-90b9f41801f6"
      },
      "outputs": [],
      "source": []
    }
  ],
  "metadata": {
    "kernelspec": {
      "display_name": "Python 3 (ipykernel)",
      "language": "python",
      "name": "python3"
    },
    "language_info": {
      "codemirror_mode": {
        "name": "ipython",
        "version": 3
      },
      "file_extension": ".py",
      "mimetype": "text/x-python",
      "name": "python",
      "nbconvert_exporter": "python",
      "pygments_lexer": "ipython3",
      "version": "3.10.8"
    },
    "colab": {
      "provenance": [],
      "include_colab_link": true
    }
  },
  "nbformat": 4,
  "nbformat_minor": 5
}