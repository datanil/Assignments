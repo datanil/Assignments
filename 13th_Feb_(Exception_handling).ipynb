{
  "cells": [
    {
      "cell_type": "markdown",
      "metadata": {
        "id": "view-in-github",
        "colab_type": "text"
      },
      "source": [
        "<a href=\"https://colab.research.google.com/github/datanil/Assignments/blob/main/13th_Feb_(Exception_handling).ipynb\" target=\"_parent\"><img src=\"https://colab.research.google.com/assets/colab-badge.svg\" alt=\"Open In Colab\"/></a>"
      ]
    },
    {
      "cell_type": "markdown",
      "id": "2e1b4784-f5f3-4276-9f81-10cfccfdcb48",
      "metadata": {
        "tags": [],
        "id": "2e1b4784-f5f3-4276-9f81-10cfccfdcb48"
      },
      "source": [
        "# ___Q1. Explain why we have to use the Exception class while creating a Custom Exception.___\n",
        "\n",
        "___Note: Here Exception class refers to the base class for all the exceptions.___"
      ]
    },
    {
      "cell_type": "markdown",
      "id": "56e40104-9de5-405e-8c86-1da84f877d78",
      "metadata": {
        "id": "56e40104-9de5-405e-8c86-1da84f877d78"
      },
      "source": [
        "___ANSWER :___"
      ]
    },
    {
      "cell_type": "markdown",
      "id": "d5be96f3-93ad-4dc4-a730-eb77e67b9ecf",
      "metadata": {
        "id": "d5be96f3-93ad-4dc4-a730-eb77e67b9ecf"
      },
      "source": [
        "When creating custom exceptions , it is recommended to inehrit from the __exceptions class__ , which is the base class for all the built-in exceptions in Python. This is because Exception provides a standard interface and behaviour for exceptions in Python.\n",
        "\n",
        "By inehriting from Exception, your custom exception will have all the same properties and methods as  the __built-in exceptions__ . This includes the ability to define custom error messages , as well as handling ans raising exceptions in a consistent manner.\n",
        "\n",
        "In additon , using the Exception class as a base for your custom exceptions allows them to be caught by any ___except___ clause that catches exceptions of type Exceptions or any of its subclasses. This means that your custom exceptions will be compatible with any code that handles exceptions using a ___try-except block___\n",
        "\n",
        "\n",
        "Hence, using the exception class as the base for your custom exceptions is good practice as it ensures that your exceptions follow the same interface and behaviour as the built-in exceptions,  making them more consistent and easier to use."
      ]
    },
    {
      "cell_type": "code",
      "execution_count": null,
      "id": "539c7efa-4ae6-4945-8b01-5fb8d6f492ab",
      "metadata": {
        "id": "539c7efa-4ae6-4945-8b01-5fb8d6f492ab"
      },
      "outputs": [],
      "source": []
    },
    {
      "cell_type": "markdown",
      "id": "afd825c0-031a-44fd-aa16-8da62ddcd2df",
      "metadata": {
        "id": "afd825c0-031a-44fd-aa16-8da62ddcd2df"
      },
      "source": [
        "# ___Q2. Write a python program to print Python Exception Hierarchy___"
      ]
    },
    {
      "cell_type": "markdown",
      "id": "22656a76-c7ee-4156-b3c6-292e08de784d",
      "metadata": {
        "id": "22656a76-c7ee-4156-b3c6-292e08de784d"
      },
      "source": [
        "___ANSWER :___"
      ]
    },
    {
      "cell_type": "markdown",
      "id": "461116d6-ae63-42b1-8b81-6b30ff2e7c25",
      "metadata": {
        "id": "461116d6-ae63-42b1-8b81-6b30ff2e7c25"
      },
      "source": [
        "Here is python program that prints the Python Exception Hierarchy :"
      ]
    },
    {
      "cell_type": "code",
      "execution_count": null,
      "id": "7a3671b7-0bb3-4ef5-9ef1-aeaf041a52b5",
      "metadata": {
        "id": "7a3671b7-0bb3-4ef5-9ef1-aeaf041a52b5",
        "outputId": "2c489a0c-3acb-4d4b-dafd-a865721cab41"
      },
      "outputs": [
        {
          "name": "stdout",
          "output_type": "stream",
          "text": [
            " BaseException\n",
            "--- Exception\n",
            "------ TypeError\n",
            "--------- FloatOperation\n",
            "--------- MultipartConversionError\n",
            "------ StopAsyncIteration\n",
            "------ StopIteration\n",
            "------ ImportError\n",
            "--------- ModuleNotFoundError\n",
            "--------- ZipImportError\n",
            "------ OSError\n",
            "--------- ConnectionError\n",
            "------------ BrokenPipeError\n",
            "------------ ConnectionAbortedError\n",
            "------------ ConnectionRefusedError\n",
            "------------ ConnectionResetError\n",
            "--------------- RemoteDisconnected\n",
            "--------- BlockingIOError\n",
            "--------- ChildProcessError\n",
            "--------- FileExistsError\n",
            "--------- FileNotFoundError\n",
            "--------- IsADirectoryError\n",
            "--------- NotADirectoryError\n",
            "--------- InterruptedError\n",
            "------------ InterruptedSystemCall\n",
            "--------- PermissionError\n",
            "--------- ProcessLookupError\n",
            "--------- TimeoutError\n",
            "--------- UnsupportedOperation\n",
            "--------- itimer_error\n",
            "--------- herror\n",
            "--------- gaierror\n",
            "--------- SSLError\n",
            "------------ SSLCertVerificationError\n",
            "------------ SSLZeroReturnError\n",
            "------------ SSLWantWriteError\n",
            "------------ SSLWantReadError\n",
            "------------ SSLSyscallError\n",
            "------------ SSLEOFError\n",
            "--------- Error\n",
            "------------ SameFileError\n",
            "--------- SpecialFileError\n",
            "--------- ExecError\n",
            "--------- ReadError\n",
            "--------- URLError\n",
            "------------ HTTPError\n",
            "------------ ContentTooShortError\n",
            "--------- BadGzipFile\n",
            "------ EOFError\n",
            "--------- IncompleteReadError\n",
            "------ RuntimeError\n",
            "--------- RecursionError\n",
            "--------- NotImplementedError\n",
            "------------ ZMQVersionError\n",
            "------------ StdinNotImplementedError\n",
            "--------- _DeadlockError\n",
            "--------- BrokenBarrierError\n",
            "--------- BrokenExecutor\n",
            "------------ BrokenThreadPool\n",
            "--------- SendfileNotAvailableError\n",
            "--------- ExtractionError\n",
            "--------- VariableError\n",
            "------ NameError\n",
            "--------- UnboundLocalError\n",
            "------ AttributeError\n",
            "--------- FrozenInstanceError\n",
            "------ SyntaxError\n",
            "--------- IndentationError\n",
            "------------ TabError\n",
            "------ LookupError\n",
            "--------- IndexError\n",
            "--------- KeyError\n",
            "------------ NoSuchKernel\n",
            "------------ UnknownBackend\n",
            "--------- CodecRegistryError\n",
            "------ ValueError\n",
            "--------- UnicodeError\n",
            "------------ UnicodeEncodeError\n",
            "------------ UnicodeDecodeError\n",
            "------------ UnicodeTranslateError\n",
            "--------- UnsupportedOperation\n",
            "--------- JSONDecodeError\n",
            "--------- SSLCertVerificationError\n",
            "--------- Error\n",
            "--------- UnsupportedDigestmodError\n",
            "--------- IllegalMonthError\n",
            "--------- IllegalWeekdayError\n",
            "--------- ParserError\n",
            "--------- ClassNotFound\n",
            "--------- ClipboardEmpty\n",
            "--------- MessageDefect\n",
            "------------ NoBoundaryInMultipartDefect\n",
            "------------ StartBoundaryNotFoundDefect\n",
            "------------ CloseBoundaryNotFoundDefect\n",
            "------------ FirstHeaderLineIsContinuationDefect\n",
            "------------ MisplacedEnvelopeHeaderDefect\n",
            "------------ MissingHeaderBodySeparatorDefect\n",
            "------------ MultipartInvariantViolationDefect\n",
            "------------ InvalidMultipartContentTransferEncodingDefect\n",
            "------------ UndecodableBytesDefect\n",
            "------------ InvalidBase64PaddingDefect\n",
            "------------ InvalidBase64CharactersDefect\n",
            "------------ InvalidBase64LengthDefect\n",
            "------------ HeaderDefect\n",
            "--------------- InvalidHeaderDefect\n",
            "--------------- HeaderMissingRequiredValue\n",
            "--------------- NonPrintableDefect\n",
            "--------------- ObsoleteHeaderDefect\n",
            "--------------- NonASCIILocalPartDefect\n",
            "--------------- InvalidDateDefect\n",
            "--------- MacroToEdit\n",
            "--------- InvalidFileException\n",
            "--------- UnequalIterablesError\n",
            "--------- InvalidVersion\n",
            "--------- _InvalidELFFileHeader\n",
            "--------- InvalidWheelFilename\n",
            "--------- InvalidSdistFilename\n",
            "--------- InvalidSpecifier\n",
            "--------- InvalidMarker\n",
            "--------- UndefinedComparison\n",
            "--------- UndefinedEnvironmentName\n",
            "--------- InvalidRequirement\n",
            "------------ RequirementParseError\n",
            "--------- InvalidVersion\n",
            "------ AssertionError\n",
            "------ ArithmeticError\n",
            "--------- FloatingPointError\n",
            "--------- OverflowError\n",
            "--------- ZeroDivisionError\n",
            "------------ DivisionByZero\n",
            "------------ DivisionUndefined\n",
            "--------- DecimalException\n",
            "------------ Clamped\n",
            "------------ Rounded\n",
            "--------------- Underflow\n",
            "--------------- Overflow\n",
            "------------ Inexact\n",
            "--------------- Underflow\n",
            "--------------- Overflow\n",
            "------------ Subnormal\n",
            "--------------- Underflow\n",
            "------------ DivisionByZero\n",
            "------------ FloatOperation\n",
            "------------ InvalidOperation\n",
            "--------------- ConversionSyntax\n",
            "--------------- DivisionImpossible\n",
            "--------------- DivisionUndefined\n",
            "--------------- InvalidContext\n",
            "------ SystemError\n",
            "--------- CodecRegistryError\n",
            "------ ReferenceError\n",
            "------ MemoryError\n",
            "------ BufferError\n",
            "------ Warning\n",
            "--------- UserWarning\n",
            "------------ GetPassWarning\n",
            "------------ FormatterWarning\n",
            "--------- EncodingWarning\n",
            "--------- DeprecationWarning\n",
            "------------ ProvisionalWarning\n",
            "--------- PendingDeprecationWarning\n",
            "--------- SyntaxWarning\n",
            "--------- RuntimeWarning\n",
            "------------ ProactorSelectorThreadWarning\n",
            "------------ UnknownTimezoneWarning\n",
            "------------ PEP440Warning\n",
            "--------- FutureWarning\n",
            "------------ ProvisionalCompleterWarning\n",
            "--------- ImportWarning\n",
            "--------- UnicodeWarning\n",
            "--------- BytesWarning\n",
            "--------- ResourceWarning\n",
            "--------- DeprecatedTzFormatWarning\n",
            "--------- PkgResourcesDeprecationWarning\n",
            "------ _OptionError\n",
            "------ _Error\n",
            "------ error\n",
            "------ Verbose\n",
            "------ Error\n",
            "------ SubprocessError\n",
            "--------- CalledProcessError\n",
            "--------- TimeoutExpired\n",
            "------ TokenError\n",
            "------ StopTokenizing\n",
            "------ ClassFoundException\n",
            "------ EndOfBlock\n",
            "------ TraitError\n",
            "------ Error\n",
            "------ Error\n",
            "--------- CancelledError\n",
            "--------- TimeoutError\n",
            "--------- InvalidStateError\n",
            "------ _GiveupOnSendfile\n",
            "------ error\n",
            "------ Incomplete\n",
            "------ TimeoutError\n",
            "------ InvalidStateError\n",
            "------ LimitOverrunError\n",
            "------ QueueEmpty\n",
            "------ QueueFull\n",
            "------ Empty\n",
            "------ Full\n",
            "------ ArgumentError\n",
            "------ ZMQBaseError\n",
            "--------- ZMQError\n",
            "------------ ContextTerminated\n",
            "------------ Again\n",
            "------------ InterruptedSystemCall\n",
            "--------- ZMQBindError\n",
            "--------- NotDone\n",
            "------ PickleError\n",
            "--------- PicklingError\n",
            "--------- UnpicklingError\n",
            "------ _Stop\n",
            "------ ArgumentError\n",
            "------ ArgumentTypeError\n",
            "------ ConfigError\n",
            "--------- ConfigLoaderError\n",
            "------------ ArgumentError\n",
            "--------- ConfigFileNotFound\n",
            "------ ConfigurableError\n",
            "--------- MultipleInstanceError\n",
            "------ ApplicationError\n",
            "------ error\n",
            "------ TimeoutError\n",
            "------ error\n",
            "------ ReturnValueIgnoredError\n",
            "------ KeyReuseError\n",
            "------ UnknownKeyError\n",
            "------ LeakedCallbackError\n",
            "------ BadYieldError\n",
            "------ ReturnValueIgnoredError\n",
            "------ Return\n",
            "------ InvalidPortNumber\n",
            "------ error\n",
            "------ LZMAError\n",
            "------ RegistryError\n",
            "------ _GiveupOnFastCopy\n",
            "------ Error\n",
            "--------- NoSectionError\n",
            "--------- DuplicateSectionError\n",
            "--------- DuplicateOptionError\n",
            "--------- NoOptionError\n",
            "--------- InterpolationError\n",
            "------------ InterpolationMissingOptionError\n",
            "------------ InterpolationSyntaxError\n",
            "------------ InterpolationDepthError\n",
            "--------- ParsingError\n",
            "------------ MissingSectionHeaderError\n",
            "------ NoIPAddresses\n",
            "------ BadZipFile\n",
            "------ LargeZipFile\n",
            "------ BadEntryPoint\n",
            "------ NoSuchEntryPoint\n",
            "------ DuplicateKernelError\n",
            "------ ErrorDuringImport\n",
            "------ NotOneValueFound\n",
            "------ CannotEval\n",
            "------ OptionError\n",
            "------ BdbQuit\n",
            "------ Restart\n",
            "------ ExceptionPexpect\n",
            "--------- EOF\n",
            "--------- TIMEOUT\n",
            "------ PtyProcessError\n",
            "------ FindCmdError\n",
            "------ HomeDirError\n",
            "------ ProfileDirError\n",
            "------ IPythonCoreError\n",
            "--------- TryNext\n",
            "--------- UsageError\n",
            "--------- StdinNotImplementedError\n",
            "------ InputRejected\n",
            "------ GetoptError\n",
            "------ ErrorToken\n",
            "------ PrefilterError\n",
            "------ AliasError\n",
            "--------- InvalidAliasError\n",
            "------ Error\n",
            "--------- InterfaceError\n",
            "--------- DatabaseError\n",
            "------------ InternalError\n",
            "------------ OperationalError\n",
            "------------ ProgrammingError\n",
            "------------ IntegrityError\n",
            "------------ DataError\n",
            "------------ NotSupportedError\n",
            "------ Warning\n",
            "------ SpaceInInput\n",
            "------ DOMException\n",
            "--------- IndexSizeErr\n",
            "--------- DomstringSizeErr\n",
            "--------- HierarchyRequestErr\n",
            "--------- WrongDocumentErr\n",
            "--------- InvalidCharacterErr\n",
            "--------- NoDataAllowedErr\n",
            "--------- NoModificationAllowedErr\n",
            "--------- NotFoundErr\n",
            "--------- NotSupportedErr\n",
            "--------- InuseAttributeErr\n",
            "--------- InvalidStateErr\n",
            "--------- SyntaxErr\n",
            "--------- InvalidModificationErr\n",
            "--------- NamespaceErr\n",
            "--------- InvalidAccessErr\n",
            "--------- ValidationErr\n",
            "------ ValidationError\n",
            "------ EditReadOnlyBuffer\n",
            "------ _Retry\n",
            "------ InvalidLayoutError\n",
            "------ HeightIsUnknownError\n",
            "------ ParserSyntaxError\n",
            "------ InternalParseError\n",
            "------ _PositionUpdatingFinished\n",
            "------ SimpleGetItemNotFound\n",
            "------ UncaughtAttributeError\n",
            "------ HasNoContext\n",
            "------ ParamIssue\n",
            "------ _JediError\n",
            "--------- InternalError\n",
            "--------- WrongVersion\n",
            "--------- RefactoringError\n",
            "------ OnErrorLeaf\n",
            "------ InvalidPythonEnvironment\n",
            "------ MessageError\n",
            "--------- MessageParseError\n",
            "------------ HeaderParseError\n",
            "------------ BoundaryError\n",
            "--------- MultipartConversionError\n",
            "--------- CharsetError\n",
            "------ Error\n",
            "------ HTTPException\n",
            "--------- NotConnected\n",
            "--------- InvalidURL\n",
            "--------- UnknownProtocol\n",
            "--------- UnknownTransferEncoding\n",
            "--------- UnimplementedFileMode\n",
            "--------- IncompleteRead\n",
            "--------- ImproperConnectionState\n",
            "------------ CannotSendRequest\n",
            "------------ CannotSendHeader\n",
            "------------ ResponseNotReady\n",
            "--------- BadStatusLine\n",
            "------------ RemoteDisconnected\n",
            "--------- LineTooLong\n",
            "------ InteractivelyDefined\n",
            "------ KillEmbedded\n",
            "------ Error\n",
            "--------- NoSuchProcess\n",
            "------------ ZombieProcess\n",
            "--------- AccessDenied\n",
            "--------- TimeoutExpired\n",
            "------ _Ipv6UnsupportedError\n",
            "------ QueueEmpty\n",
            "------ QueueFull\n",
            "------ DebuggerInitializationError\n",
            "------ ExpatError\n",
            "------ Error\n",
            "--------- ProtocolError\n",
            "--------- ResponseError\n",
            "--------- Fault\n",
            "------ ParseBaseException\n",
            "--------- ParseException\n",
            "--------- ParseFatalException\n",
            "------------ ParseSyntaxException\n",
            "------ RecursiveGrammarException\n",
            "------ ResolutionError\n",
            "--------- VersionConflict\n",
            "------------ ContextualVersionConflict\n",
            "--------- DistributionNotFound\n",
            "--------- UnknownExtra\n",
            "------ _Error\n",
            "------ UnableToResolveVariableException\n",
            "------ InvalidTypeInArgsException\n",
            "--- GeneratorExit\n",
            "--- SystemExit\n",
            "--- KeyboardInterrupt\n",
            "--- CancelledError\n",
            "--- AbortThread\n"
          ]
        }
      ],
      "source": [
        "import inspect\n",
        "\n",
        "def tree_class(cls, ind = 0):\n",
        "\n",
        "    print(\"-\" *ind , cls.__name__)\n",
        "\n",
        "    for i in cls.__subclasses__():\n",
        "        tree_class(i , ind + 3)\n",
        "\n",
        "\n",
        "inspect.getclasstree(inspect.getmro(BaseException))\n",
        "\n",
        "tree_class(BaseException)"
      ]
    },
    {
      "cell_type": "code",
      "execution_count": null,
      "id": "40f5b1b0-6a64-4164-a252-313a46992ce8",
      "metadata": {
        "id": "40f5b1b0-6a64-4164-a252-313a46992ce8"
      },
      "outputs": [],
      "source": []
    },
    {
      "cell_type": "markdown",
      "id": "aa4698c9-6f18-498d-8872-c87f7aa066f0",
      "metadata": {
        "id": "aa4698c9-6f18-498d-8872-c87f7aa066f0"
      },
      "source": [
        "# ___Q3. What errors are defined in the ArithmeticError class? Explain any two with an example___"
      ]
    },
    {
      "cell_type": "markdown",
      "id": "2f27a086-21fc-4b82-8864-2ec5718a79ae",
      "metadata": {
        "id": "2f27a086-21fc-4b82-8864-2ec5718a79ae"
      },
      "source": [
        "___ANSWER :___"
      ]
    },
    {
      "cell_type": "markdown",
      "id": "9e563372-6b47-4651-81bd-aa16ca9fea9b",
      "metadata": {
        "id": "9e563372-6b47-4651-81bd-aa16ca9fea9b"
      },
      "source": [
        "Two types of errors are defined in ArithmeticError class . They are as follows :\n",
        "\n",
        "___i. ZeroDivisionError\n",
        "  ii. OverflowError___"
      ]
    },
    {
      "cell_type": "markdown",
      "id": "d0a306ea-7fa7-415b-9aa0-30283d5fdd40",
      "metadata": {
        "id": "d0a306ea-7fa7-415b-9aa0-30283d5fdd40"
      },
      "source": [
        "___ZeroDivisionError :___\n",
        "\n",
        "This error occurs when we try to divide any number by zero. For example :"
      ]
    },
    {
      "cell_type": "markdown",
      "id": "8246b614-5d0b-4cf4-9a88-b7ae9f4e4234",
      "metadata": {
        "id": "8246b614-5d0b-4cf4-9a88-b7ae9f4e4234"
      },
      "source": [
        "This code will raise ZeroDivisionError because we cannot divide a number by zero."
      ]
    },
    {
      "cell_type": "code",
      "execution_count": null,
      "id": "29dd3561-4e09-413f-afd0-6420b72b451e",
      "metadata": {
        "tags": [],
        "id": "29dd3561-4e09-413f-afd0-6420b72b451e"
      },
      "outputs": [],
      "source": [
        "def divide(a,b):\n",
        "    return a/b"
      ]
    },
    {
      "cell_type": "code",
      "execution_count": null,
      "id": "69d061ff-322f-4e5d-82eb-fd0939eafc48",
      "metadata": {
        "id": "69d061ff-322f-4e5d-82eb-fd0939eafc48",
        "outputId": "68bc2ee6-5b9a-4c88-f2b1-57b7411b2b41"
      },
      "outputs": [
        {
          "name": "stdout",
          "output_type": "stream",
          "text": [
            "ERROR: division by zero\n"
          ]
        }
      ],
      "source": [
        "try :\n",
        "    divide(25,0)\n",
        "except ZeroDivisionError as e:\n",
        "    print(\"ERROR:\",e)\n",
        ""
      ]
    },
    {
      "cell_type": "markdown",
      "id": "d35bf025-fd99-4ad7-9e04-1e26d5e4c45e",
      "metadata": {
        "tags": [],
        "id": "d35bf025-fd99-4ad7-9e04-1e26d5e4c45e"
      },
      "source": [
        "___OverflowError :___\n",
        "\n",
        "\n",
        "This error occurs when the result of an arithmetic operation is too large to be represented by the available memory or datatype . For example :"
      ]
    },
    {
      "cell_type": "code",
      "execution_count": null,
      "id": "5be93ded-ae86-469b-8e78-96ba662c5f8b",
      "metadata": {
        "id": "5be93ded-ae86-469b-8e78-96ba662c5f8b",
        "outputId": "a4bb5dc0-6956-45b2-b2e5-b206a5f74952"
      },
      "outputs": [
        {
          "name": "stdout",
          "output_type": "stream",
          "text": [
            "ERROR :  math range error\n"
          ]
        }
      ],
      "source": [
        "import math\n",
        "\n",
        "try :\n",
        "    x = math.exp(1000)\n",
        "except OverflowError as e:\n",
        "    print(\"ERROR : \" , e)"
      ]
    },
    {
      "cell_type": "markdown",
      "id": "80e588c4-d6bf-4b2a-b65e-43338d72c7ce",
      "metadata": {
        "id": "80e588c4-d6bf-4b2a-b65e-43338d72c7ce"
      },
      "source": [
        "In this example , we are trying to calculate the exponential of large number using the __math.exp()__ function , which resultls in an __\"OverflowError\"__ exception. We catch the exception using a try-except block and print the error message.\n"
      ]
    },
    {
      "cell_type": "markdown",
      "id": "a30daf08-4bea-4e67-84f1-0264e1034d4e",
      "metadata": {
        "id": "a30daf08-4bea-4e67-84f1-0264e1034d4e"
      },
      "source": [
        "Other errors that are defined in the Arithmetic class error includes \"FloatingPointError\", \"ValueError\" , \"AssertionError\" and \"TypeError\""
      ]
    },
    {
      "cell_type": "code",
      "execution_count": null,
      "id": "1e2a4a0e-af34-4d70-8584-ad4ee53acb55",
      "metadata": {
        "id": "1e2a4a0e-af34-4d70-8584-ad4ee53acb55"
      },
      "outputs": [],
      "source": []
    },
    {
      "cell_type": "markdown",
      "id": "9be3b72d-a777-4e69-b8c9-36604da3c603",
      "metadata": {
        "id": "9be3b72d-a777-4e69-b8c9-36604da3c603"
      },
      "source": [
        "# ___Q4. Why LookupError class is used? Explain with an example KeyError and IndexError.___"
      ]
    },
    {
      "cell_type": "markdown",
      "id": "01538124-db48-401d-9da0-cdba5ff98cf3",
      "metadata": {
        "id": "01538124-db48-401d-9da0-cdba5ff98cf3"
      },
      "source": [
        "___ANSWER :___"
      ]
    },
    {
      "cell_type": "markdown",
      "id": "67dd8c6f-a011-4636-a894-c38a6977bd3b",
      "metadata": {
        "id": "67dd8c6f-a011-4636-a894-c38a6977bd3b"
      },
      "source": [
        "Lookup Error is a general class of exceptions that are raised when an index or a key is not found during a lookup operation.\n",
        "This class inherits from the built-in \"exception\" class which is the base class of all the python exceptions.\n",
        "\n",
        "Two common lookup errors that are derived from the LookupError class are :\n",
        "\n",
        "i. KeyError.\n",
        "ii. IndexError."
      ]
    },
    {
      "cell_type": "markdown",
      "id": "8595a6f0-0c97-48ef-a8a6-3246c6555905",
      "metadata": {
        "id": "8595a6f0-0c97-48ef-a8a6-3246c6555905"
      },
      "source": [
        "___KeyError :___\n",
        "\n",
        "this error occurs when we try to access a dictionary key that does not exist.\n",
        "\n",
        "For example:"
      ]
    },
    {
      "cell_type": "code",
      "execution_count": null,
      "id": "ce7cb425-d607-4527-9edf-332af0157b88",
      "metadata": {
        "id": "ce7cb425-d607-4527-9edf-332af0157b88",
        "outputId": "47786f13-d551-4b67-8144-cb0f86e7ac4e"
      },
      "outputs": [
        {
          "ename": "KeyError",
          "evalue": "'d'",
          "output_type": "error",
          "traceback": [
            "\u001b[0;31m---------------------------------------------------------------------------\u001b[0m",
            "\u001b[0;31mKeyError\u001b[0m                                  Traceback (most recent call last)",
            "Cell \u001b[0;32mIn[39], line 2\u001b[0m\n\u001b[1;32m      1\u001b[0m my_dict \u001b[38;5;241m=\u001b[39m {\u001b[38;5;124m'\u001b[39m\u001b[38;5;124ma\u001b[39m\u001b[38;5;124m'\u001b[39m : \u001b[38;5;124m\"\u001b[39m\u001b[38;5;124mData_Science\u001b[39m\u001b[38;5;124m\"\u001b[39m , \u001b[38;5;124m'\u001b[39m\u001b[38;5;124mb\u001b[39m\u001b[38;5;124m'\u001b[39m : \u001b[38;5;124m\"\u001b[39m\u001b[38;5;124mMachine_Learning\u001b[39m\u001b[38;5;124m\"\u001b[39m , \u001b[38;5;124m'\u001b[39m\u001b[38;5;124mc\u001b[39m\u001b[38;5;124m'\u001b[39m : \u001b[38;5;124m\"\u001b[39m\u001b[38;5;124mAirtificial_Intelligence\u001b[39m\u001b[38;5;124m\"\u001b[39m}\n\u001b[0;32m----> 2\u001b[0m value \u001b[38;5;241m=\u001b[39m \u001b[43mmy_dict\u001b[49m\u001b[43m[\u001b[49m\u001b[38;5;124;43m'\u001b[39;49m\u001b[38;5;124;43md\u001b[39;49m\u001b[38;5;124;43m'\u001b[39;49m\u001b[43m]\u001b[49m\n",
            "\u001b[0;31mKeyError\u001b[0m: 'd'"
          ]
        }
      ],
      "source": [
        "my_dict = {'a' : \"Data_Science\" , 'b' : \"Machine_Learning\" , 'c' : \"Airtificial_Intelligence\"}\n",
        "value = my_dict['d']"
      ]
    },
    {
      "cell_type": "markdown",
      "id": "bc94d0de-9daf-462a-9db9-3a76c771518f",
      "metadata": {
        "id": "bc94d0de-9daf-462a-9db9-3a76c771518f"
      },
      "source": [
        "This error raises a __\"KeyError\"__ because the dictionary __\"my_dict\"__ doesnot contain any key named __'d'__."
      ]
    },
    {
      "cell_type": "markdown",
      "id": "9f8bec0f-7e54-4f98-bfcc-6ceb89798444",
      "metadata": {
        "id": "9f8bec0f-7e54-4f98-bfcc-6ceb89798444"
      },
      "source": [
        "___IndexError :___\n",
        "\n",
        "This is the error occurs when you try to access a list or a tuple index that is out of range .\n",
        "\n",
        "For example :"
      ]
    },
    {
      "cell_type": "code",
      "execution_count": null,
      "id": "18123ba7-be1a-49c6-ace6-29e4174acc95",
      "metadata": {
        "id": "18123ba7-be1a-49c6-ace6-29e4174acc95",
        "outputId": "45e99445-3d7a-4ef9-ecab-290cfb660231"
      },
      "outputs": [
        {
          "ename": "IndexError",
          "evalue": "list index out of range",
          "output_type": "error",
          "traceback": [
            "\u001b[0;31m---------------------------------------------------------------------------\u001b[0m",
            "\u001b[0;31mIndexError\u001b[0m                                Traceback (most recent call last)",
            "Cell \u001b[0;32mIn[40], line 2\u001b[0m\n\u001b[1;32m      1\u001b[0m my_list \u001b[38;5;241m=\u001b[39m [\u001b[38;5;241m23\u001b[39m,\u001b[38;5;241m45\u001b[39m,\u001b[38;5;241m67\u001b[39m]\n\u001b[0;32m----> 2\u001b[0m value \u001b[38;5;241m=\u001b[39m \u001b[43mmy_list\u001b[49m\u001b[43m[\u001b[49m\u001b[38;5;241;43m3\u001b[39;49m\u001b[43m]\u001b[49m\n",
            "\u001b[0;31mIndexError\u001b[0m: list index out of range"
          ]
        }
      ],
      "source": [
        "my_list = [23,45,67]\n",
        "value = my_list[3]"
      ]
    },
    {
      "cell_type": "markdown",
      "id": "ac2ed45c-cdfc-4152-9b48-7601380c1acb",
      "metadata": {
        "id": "ac2ed45c-cdfc-4152-9b48-7601380c1acb"
      },
      "source": [
        "This code will raise an __\"IndexError\"__ because the list __'my_list'__ has only three elements starting from index 0 to 2.\n",
        "Since , in my_list we dont have index 3 so , index 3 is out of range."
      ]
    },
    {
      "cell_type": "markdown",
      "id": "08ac13fd-3524-473a-b8d4-bda81fda8c57",
      "metadata": {
        "id": "08ac13fd-3524-473a-b8d4-bda81fda8c57"
      },
      "source": [
        "Both the KeyError and the IndexError derived from the lookupError class which shares some common properties and method , and we can catch them using try-except block.\n",
        "\n",
        "An example is below:"
      ]
    },
    {
      "cell_type": "code",
      "execution_count": null,
      "id": "83ebfc00-4445-405b-9ede-c9d689097f17",
      "metadata": {
        "id": "83ebfc00-4445-405b-9ede-c9d689097f17",
        "outputId": "ae82dc56-07e0-4f78-869a-312b9dc99d05"
      },
      "outputs": [
        {
          "name": "stdout",
          "output_type": "stream",
          "text": [
            "KeyError: 'd'\n"
          ]
        }
      ],
      "source": [
        "my_dict = {'a' : \"Data_Science\" , 'b' : \"Machine_Learning\" , 'c' : \"Airtificial_Intelligence\"}\n",
        "try :\n",
        "    value = my_dict['d']\n",
        "except LookupError as e :\n",
        "    print(\"KeyError:\" , e)"
      ]
    },
    {
      "cell_type": "code",
      "execution_count": null,
      "id": "665038ac-3252-4f61-a651-1b46564d8dab",
      "metadata": {
        "id": "665038ac-3252-4f61-a651-1b46564d8dab",
        "outputId": "3ad3e775-cec9-4ab8-ffc5-6c957fc454b8"
      },
      "outputs": [
        {
          "name": "stdout",
          "output_type": "stream",
          "text": [
            "IndexError : list index out of range\n"
          ]
        }
      ],
      "source": [
        "my_list = [23,45,67]\n",
        "try :\n",
        "    value = my_list[3]\n",
        "except LookupError as e :\n",
        "    print(\"IndexError :\", e)"
      ]
    },
    {
      "cell_type": "markdown",
      "id": "d8e42662-982c-4b40-9463-5b8454831be4",
      "metadata": {
        "id": "d8e42662-982c-4b40-9463-5b8454831be4"
      },
      "source": [
        "In this example, if the __\"KeyError\"__ or __\"IndexError\"__ exception is raised, the program will catch it using the LookupError exception, and print an error message"
      ]
    },
    {
      "cell_type": "code",
      "execution_count": null,
      "id": "d6c02894-1352-4fb9-94eb-7ca53174ffac",
      "metadata": {
        "id": "d6c02894-1352-4fb9-94eb-7ca53174ffac"
      },
      "outputs": [],
      "source": []
    },
    {
      "cell_type": "markdown",
      "id": "73154ad1-4729-4289-82b8-0729d30eff08",
      "metadata": {
        "tags": [],
        "id": "73154ad1-4729-4289-82b8-0729d30eff08"
      },
      "source": [
        "# ___Q5. Explain ImportError. What is ModuleNotFoundError?___"
      ]
    },
    {
      "cell_type": "markdown",
      "id": "68447e77-af11-43a2-993d-b30059479bff",
      "metadata": {
        "id": "68447e77-af11-43a2-993d-b30059479bff"
      },
      "source": [
        "___ANSWER :___"
      ]
    },
    {
      "cell_type": "markdown",
      "id": "faea483f-67ab-45fa-bc7f-d5dbf1d578be",
      "metadata": {
        "id": "faea483f-67ab-45fa-bc7f-d5dbf1d578be"
      },
      "source": [
        "In Python, ImportError is a built-in exception that is raised when an import statement fails to import a module. This exception can occur when the specified module does not exist, or when there is an issue with the module's code that prevents it from being imported correctly.\n",
        "\n",
        "For example:\n"
      ]
    },
    {
      "cell_type": "code",
      "execution_count": null,
      "id": "890288f9-bcd2-46aa-a82a-6e3f82d3d971",
      "metadata": {
        "id": "890288f9-bcd2-46aa-a82a-6e3f82d3d971",
        "outputId": "0d708c2b-97b3-4b5e-82fb-4ea9be54a293"
      },
      "outputs": [
        {
          "ename": "ModuleNotFoundError",
          "evalue": "No module named 'datac_science'",
          "output_type": "error",
          "traceback": [
            "\u001b[0;31m---------------------------------------------------------------------------\u001b[0m",
            "\u001b[0;31mModuleNotFoundError\u001b[0m                       Traceback (most recent call last)",
            "Cell \u001b[0;32mIn[43], line 1\u001b[0m\n\u001b[0;32m----> 1\u001b[0m \u001b[38;5;28;01mimport\u001b[39;00m \u001b[38;5;21;01mdatac_science\u001b[39;00m \u001b[38;5;66;03m#Raise an ImportError\u001b[39;00m\n",
            "\u001b[0;31mModuleNotFoundError\u001b[0m: No module named 'datac_science'"
          ]
        }
      ],
      "source": [
        "import datac_science #Raise an ImportError"
      ]
    },
    {
      "cell_type": "markdown",
      "id": "ac24027c-18fa-419c-9bf2-85710ae1f5cc",
      "metadata": {
        "id": "ac24027c-18fa-419c-9bf2-85710ae1f5cc"
      },
      "source": [
        "This code will raise \"ImportError\" because the module name data_science does not exsist."
      ]
    },
    {
      "cell_type": "markdown",
      "id": "38c09239-ae94-42a0-b935-19373ec1e6b8",
      "metadata": {
        "id": "38c09239-ae94-42a0-b935-19373ec1e6b8"
      },
      "source": [
        "___ModuleNotFoundError :____\n",
        "\n",
        "Another similar exception is ModuleNotFoundError, which was introduced in Python 3.6. This exception is a subclass of ImportError and is raised when a module is not found during an import statement.\n",
        "\n",
        "For example:"
      ]
    },
    {
      "cell_type": "code",
      "execution_count": null,
      "id": "7d431d30-081a-4fe1-89ce-1e5df9b161b0",
      "metadata": {
        "id": "7d431d30-081a-4fe1-89ce-1e5df9b161b0",
        "outputId": "3f27e303-9aed-4031-ecb7-44cb41a90eab"
      },
      "outputs": [
        {
          "ename": "ModuleNotFoundError",
          "evalue": "No module named 'datac_science'",
          "output_type": "error",
          "traceback": [
            "\u001b[0;31m---------------------------------------------------------------------------\u001b[0m",
            "\u001b[0;31mModuleNotFoundError\u001b[0m                       Traceback (most recent call last)",
            "Cell \u001b[0;32mIn[44], line 1\u001b[0m\n\u001b[0;32m----> 1\u001b[0m \u001b[38;5;28;01mimport\u001b[39;00m \u001b[38;5;21;01mdatac_science\u001b[39;00m \u001b[38;5;66;03m#Raise an ImportError\u001b[39;00m\n",
            "\u001b[0;31mModuleNotFoundError\u001b[0m: No module named 'datac_science'"
          ]
        }
      ],
      "source": [
        "import datac_science #Raise an ImportError"
      ]
    },
    {
      "cell_type": "markdown",
      "id": "40055bdb-0654-492e-a16b-457484c6b3d0",
      "metadata": {
        "id": "40055bdb-0654-492e-a16b-457484c6b3d0"
      },
      "source": [
        "This code will raise a ModuleNotFoundError exception because the module non_existent_module could not be found."
      ]
    },
    {
      "cell_type": "code",
      "execution_count": null,
      "id": "37f54a36-4d95-47b8-acc5-1033dbf4a20e",
      "metadata": {
        "id": "37f54a36-4d95-47b8-acc5-1033dbf4a20e",
        "outputId": "0f38fb23-ce42-4b32-8385-abfdf2b1e633"
      },
      "outputs": [
        {
          "name": "stdout",
          "output_type": "stream",
          "text": [
            "No module named 'datac_science'\n"
          ]
        }
      ],
      "source": [
        "try :\n",
        "    import datac_science\n",
        "except ImportError as e :\n",
        "    print(e)"
      ]
    },
    {
      "cell_type": "markdown",
      "id": "c1269253-0f00-4286-b8f3-30311592a054",
      "metadata": {
        "id": "c1269253-0f00-4286-b8f3-30311592a054"
      },
      "source": [
        "With the help of try-except block we can see it raise the exception of __No module named 'datac-science'__"
      ]
    },
    {
      "cell_type": "markdown",
      "id": "33db17da-020c-48a2-a338-ee9f3ded6687",
      "metadata": {
        "id": "33db17da-020c-48a2-a338-ee9f3ded6687"
      },
      "source": [
        "# ___Q6. List down some best practices for exception handling in python.___"
      ]
    },
    {
      "cell_type": "markdown",
      "id": "87830f28-e2ea-41a5-8c5d-83f6f98cbd50",
      "metadata": {
        "id": "87830f28-e2ea-41a5-8c5d-83f6f98cbd50"
      },
      "source": [
        "___ANSWER :___"
      ]
    },
    {
      "cell_type": "markdown",
      "id": "a4ab0f2a-d31d-4676-9930-eba2c64821fe",
      "metadata": {
        "id": "a4ab0f2a-d31d-4676-9930-eba2c64821fe"
      },
      "source": [
        "Some best practices for exception handling in python are :\n",
        "\n",
        "i. Use always a specific exception.\n",
        "ii. Print always a proper message.\n",
        "iii. Always try to use a log error.\n",
        "iv. Always avoid to write a multiple exception handling.\n",
        "v. Documentation all the error , clean up all the resources.\n",
        "\n",
        "Here are some examples:\n"
      ]
    },
    {
      "cell_type": "code",
      "execution_count": null,
      "id": "7dba33d0-7248-40fd-82e4-b242a352ec00",
      "metadata": {
        "id": "7dba33d0-7248-40fd-82e4-b242a352ec00",
        "outputId": "d0afc2ca-62ae-406e-9031-3dd7e93743be"
      },
      "outputs": [
        {
          "name": "stdout",
          "output_type": "stream",
          "text": [
            "Error : division by zero\n"
          ]
        }
      ],
      "source": [
        "# Use always a specific exception.\n",
        "try :\n",
        "    10 / 0\n",
        "except ZeroDivisionError as e :\n",
        "    print(\"Error :\" , e)"
      ]
    },
    {
      "cell_type": "code",
      "execution_count": null,
      "id": "92d3b6d6-aaac-48cb-a999-ec0101ac2e87",
      "metadata": {
        "id": "92d3b6d6-aaac-48cb-a999-ec0101ac2e87",
        "outputId": "69ba1da2-e8c9-4c96-d865-431f21cc8ed4"
      },
      "outputs": [
        {
          "name": "stdout",
          "output_type": "stream",
          "text": [
            "I am trying to Zero-division error division by zero\n"
          ]
        }
      ],
      "source": [
        "# Print always a proper message.\n",
        "try :\n",
        "    10/0\n",
        "except ZeroDivisionError as e :\n",
        "    print(\"I am trying to Zero-division error\" , e)"
      ]
    },
    {
      "cell_type": "code",
      "execution_count": null,
      "id": "0521bfb5-1b1c-4892-9d37-c65941ff92da",
      "metadata": {
        "id": "0521bfb5-1b1c-4892-9d37-c65941ff92da"
      },
      "outputs": [],
      "source": [
        "# Always try to use a log error.\n",
        "import logging\n",
        "logging.basicConfig(filename = \"error.log\" , level = logging.ERROR)\n",
        "try :\n",
        "    10/0\n",
        "except ZeroDivisionError as e :\n",
        "    logging.error(\"I am trying to handle a zero division error {}\".format(e))\n",
        ""
      ]
    },
    {
      "cell_type": "code",
      "execution_count": null,
      "id": "e9360fec-315e-4758-b525-bd4041196502",
      "metadata": {
        "id": "e9360fec-315e-4758-b525-bd4041196502"
      },
      "outputs": [],
      "source": [
        "# Always avoid to write a multiple exception handling.\n",
        "try :\n",
        "    10/0\n",
        "except FileNotFoundError as e :\n",
        "    logging.error(\"I am trying to handle a File not found error {}\".format(e))\n",
        "except AttributeError as e :\n",
        "    logging.error(\"I am trying to handle an Attribute not found error {}\".format(e))\n",
        "except ZeroDivisionError as e :\n",
        "    logging.error(\"I am trying to handle an ZeroDivisionError {}\".format(e))"
      ]
    },
    {
      "cell_type": "code",
      "execution_count": null,
      "id": "3f146d8d-a5d1-485e-8333-547687c2e3ac",
      "metadata": {
        "id": "3f146d8d-a5d1-485e-8333-547687c2e3ac"
      },
      "outputs": [],
      "source": [
        "# Documentation all the error , clean up all the resources."
      ]
    },
    {
      "cell_type": "code",
      "execution_count": null,
      "id": "a01efc07-bc34-43cf-835f-97f55caf4790",
      "metadata": {
        "id": "a01efc07-bc34-43cf-835f-97f55caf4790"
      },
      "outputs": [],
      "source": [
        "try :\n",
        "    with open(\"test.txt\" , 'w') as f:\n",
        "        f.write(\"Thisis my data to file\")\n",
        "except FileNotFoundError as e :\n",
        "    logging.error(\"I am handling file not found {}\".format(e))\n",
        "finally :\n",
        "    f.close()"
      ]
    },
    {
      "cell_type": "markdown",
      "id": "5955d767-74d1-4027-bd99-c75e4f371933",
      "metadata": {
        "id": "5955d767-74d1-4027-bd99-c75e4f371933"
      },
      "source": [
        "# -----------------------___END___------------------------------"
      ]
    },
    {
      "cell_type": "code",
      "execution_count": null,
      "id": "d53bae34-bdff-498b-9111-9bf349631991",
      "metadata": {
        "id": "d53bae34-bdff-498b-9111-9bf349631991"
      },
      "outputs": [],
      "source": []
    }
  ],
  "metadata": {
    "kernelspec": {
      "display_name": "Python 3 (ipykernel)",
      "language": "python",
      "name": "python3"
    },
    "language_info": {
      "codemirror_mode": {
        "name": "ipython",
        "version": 3
      },
      "file_extension": ".py",
      "mimetype": "text/x-python",
      "name": "python",
      "nbconvert_exporter": "python",
      "pygments_lexer": "ipython3",
      "version": "3.10.8"
    },
    "colab": {
      "provenance": [],
      "include_colab_link": true
    }
  },
  "nbformat": 4,
  "nbformat_minor": 5
}