{
  "cells": [
    {
      "cell_type": "markdown",
      "metadata": {
        "id": "view-in-github",
        "colab_type": "text"
      },
      "source": [
        "<a href=\"https://colab.research.google.com/github/datanil/Assignments/blob/main/5th_Feb_OOPS_1.ipynb\" target=\"_parent\"><img src=\"https://colab.research.google.com/assets/colab-badge.svg\" alt=\"Open In Colab\"/></a>"
      ]
    },
    {
      "cell_type": "markdown",
      "id": "b8420ec1-64b4-4545-86e4-a2f8684ef0ff",
      "metadata": {
        "id": "b8420ec1-64b4-4545-86e4-a2f8684ef0ff"
      },
      "source": [
        "Q1. Explain Class and Object with respect to Object-Oriented Programming. Give a suitable example."
      ]
    },
    {
      "cell_type": "markdown",
      "id": "942bb1ec-433b-41c1-8baa-47cd62322062",
      "metadata": {
        "id": "942bb1ec-433b-41c1-8baa-47cd62322062"
      },
      "source": [
        "CLASS :\n",
        "\n",
        "    A class is a user-defined blue print or prototype from which objects are created.\n",
        "    \n",
        "    Classes are created by the keyword class.\n",
        "    \n",
        "    Attributes are the variables that belongs to a class.\n",
        "    \n",
        "    Attributes are always public and can be accessed using the dot(.) Operator.\n",
        "    \n",
        "OBJECT :\n",
        "\n",
        "    An object is an instance of a class. A class is like a blueprint whil ean instance is a copy of the class with actual values.\n",
        "    \n",
        "    Object consisits of --->\n",
        "    \n",
        "    State: It is represented by the attributes of an object. It also reflects the properties of an object.\n",
        "    \n",
        "    Behaviour : It is represented by the methods of an object. It also reflects the response of an object to the other objects.\n",
        "    \n",
        "    Identity : Ti gives a unique name to an object and enables one object to interact with other obejcts."
      ]
    },
    {
      "cell_type": "markdown",
      "id": "df4e8d7f-6353-4830-8e52-0cf3b8bf6daf",
      "metadata": {
        "id": "df4e8d7f-6353-4830-8e52-0cf3b8bf6daf"
      },
      "source": [
        "Example with code:"
      ]
    },
    {
      "cell_type": "code",
      "execution_count": null,
      "id": "abb96ec0-c92e-41a3-a652-7013338450d7",
      "metadata": {
        "id": "abb96ec0-c92e-41a3-a652-7013338450d7"
      },
      "outputs": [],
      "source": [
        "class greeting(): # class class_name(); greeting() = class_name()\n",
        "    attr1 = \"Good Morning\"\n",
        "    attr2 = \"Good Afternoon\"\n",
        "    attr3 = \"Good Evening\""
      ]
    },
    {
      "cell_type": "code",
      "execution_count": null,
      "id": "b4fbbf7f-e7f1-486e-8cdd-b460ff188def",
      "metadata": {
        "id": "b4fbbf7f-e7f1-486e-8cdd-b460ff188def"
      },
      "outputs": [],
      "source": [
        "wish = greeting() # object = class_name(); wish = object"
      ]
    },
    {
      "cell_type": "code",
      "execution_count": null,
      "id": "bd812342-e971-40a7-ba3c-29fca3e3151f",
      "metadata": {
        "id": "bd812342-e971-40a7-ba3c-29fca3e3151f",
        "outputId": "60551a34-f2c1-4157-ac81-d54ab75becab"
      },
      "outputs": [
        {
          "data": {
            "text/plain": [
              "'Good Morning'"
            ]
          },
          "execution_count": 3,
          "metadata": {},
          "output_type": "execute_result"
        }
      ],
      "source": [
        "wish.attr1"
      ]
    },
    {
      "cell_type": "code",
      "execution_count": null,
      "id": "7a3554ba-a39c-4692-bbe3-02bfaad95fbf",
      "metadata": {
        "id": "7a3554ba-a39c-4692-bbe3-02bfaad95fbf",
        "outputId": "591823a2-6091-429e-fb57-8542e476a33a"
      },
      "outputs": [
        {
          "data": {
            "text/plain": [
              "'Good Afternoon'"
            ]
          },
          "execution_count": 4,
          "metadata": {},
          "output_type": "execute_result"
        }
      ],
      "source": [
        "wish.attr2"
      ]
    },
    {
      "cell_type": "code",
      "execution_count": null,
      "id": "4b68a60b-4a18-4728-a5aa-234c8d2f977b",
      "metadata": {
        "id": "4b68a60b-4a18-4728-a5aa-234c8d2f977b",
        "outputId": "279987cd-993c-4807-8520-1eb54a395148"
      },
      "outputs": [
        {
          "data": {
            "text/plain": [
              "'Good Evening'"
            ]
          },
          "execution_count": 5,
          "metadata": {},
          "output_type": "execute_result"
        }
      ],
      "source": [
        "wish.attr3"
      ]
    },
    {
      "cell_type": "markdown",
      "id": "9d8df1bc-abcc-4299-8f85-e872ab30adad",
      "metadata": {
        "id": "9d8df1bc-abcc-4299-8f85-e872ab30adad"
      },
      "source": [
        "Q2. Name the four pillars of OOPs."
      ]
    },
    {
      "cell_type": "markdown",
      "id": "db593b6e-3a63-4ce2-8bc6-4c03cf7658fa",
      "metadata": {
        "id": "db593b6e-3a63-4ce2-8bc6-4c03cf7658fa"
      },
      "source": [
        "The Four pillars of OOPs are :\n",
        "\n",
        "    i) Inheritance\n",
        "    ii) Polymorphism\n",
        "    iii) Encapsulation\n",
        "    iv) Abstraction"
      ]
    },
    {
      "cell_type": "code",
      "execution_count": null,
      "id": "d87beb23-1034-4a69-921e-672cf2904ac2",
      "metadata": {
        "id": "d87beb23-1034-4a69-921e-672cf2904ac2"
      },
      "outputs": [],
      "source": []
    },
    {
      "cell_type": "markdown",
      "id": "5bc1f756-52ef-475f-889e-7a6add0a9094",
      "metadata": {
        "id": "5bc1f756-52ef-475f-889e-7a6add0a9094"
      },
      "source": [
        "Q3. Explain why the __ __init__ __() function is used. Give a suitable example."
      ]
    },
    {
      "cell_type": "markdown",
      "id": "ef379fad-505e-4d6e-9638-0170c2ee0453",
      "metadata": {
        "id": "ef379fad-505e-4d6e-9638-0170c2ee0453"
      },
      "source": [
        "The __ __init__ __() is similar to constructor. Constructor  are used to initialize the object state. The method is used is to do any  initialization you want to do with your object.\n",
        "\n",
        "The __ __init__ __() function to assign values to the object properties , or other operations that are necessary to do when the object is being created.\n",
        "\n",
        "The __ __init__ __() function is called automaticaly every time the class is being used to create a new  object."
      ]
    },
    {
      "cell_type": "markdown",
      "id": "af31057a-ce16-48bc-a370-39cadaaa75bd",
      "metadata": {
        "id": "af31057a-ce16-48bc-a370-39cadaaa75bd"
      },
      "source": [
        "Example :"
      ]
    },
    {
      "cell_type": "code",
      "execution_count": null,
      "id": "c2d607d3-cc78-4bf0-9a5b-c827cab58bf0",
      "metadata": {
        "id": "c2d607d3-cc78-4bf0-9a5b-c827cab58bf0"
      },
      "outputs": [],
      "source": [
        "class student_details():\n",
        "    def __init__(self, name , roll , dept):\n",
        "        self.name = name\n",
        "        self.roll = roll\n",
        "        self.dept = dept\n",
        "\n",
        "    def return_student_details(self):\n",
        "        return self.name , self.roll , self.dept"
      ]
    },
    {
      "cell_type": "code",
      "execution_count": null,
      "id": "fe622513-c814-4cb1-b921-b603f0d909ee",
      "metadata": {
        "id": "fe622513-c814-4cb1-b921-b603f0d909ee"
      },
      "outputs": [],
      "source": [
        "rohan =  student_details(\"Rohan\" , 101 , \"Computer Science\")"
      ]
    },
    {
      "cell_type": "code",
      "execution_count": null,
      "id": "9045c0e8-bc53-4ec4-987a-4747ab3b9385",
      "metadata": {
        "id": "9045c0e8-bc53-4ec4-987a-4747ab3b9385",
        "outputId": "78a0c393-9b26-433e-9e47-368717150cb9"
      },
      "outputs": [
        {
          "data": {
            "text/plain": [
              "'Computer Science'"
            ]
          },
          "execution_count": 8,
          "metadata": {},
          "output_type": "execute_result"
        }
      ],
      "source": [
        "rohan.dept"
      ]
    },
    {
      "cell_type": "code",
      "execution_count": null,
      "id": "12f01b6e-23bc-40d7-8fc8-3479107d05fa",
      "metadata": {
        "id": "12f01b6e-23bc-40d7-8fc8-3479107d05fa",
        "outputId": "72bad99b-8997-4045-850a-edeb524b5422"
      },
      "outputs": [
        {
          "data": {
            "text/plain": [
              "('Rohan', 101, 'Computer Science')"
            ]
          },
          "execution_count": 9,
          "metadata": {},
          "output_type": "execute_result"
        }
      ],
      "source": [
        "rohan.return_student_details()"
      ]
    },
    {
      "cell_type": "code",
      "execution_count": null,
      "id": "22c507be-b5d1-48f5-ad3f-dd9c0672b589",
      "metadata": {
        "id": "22c507be-b5d1-48f5-ad3f-dd9c0672b589"
      },
      "outputs": [],
      "source": [
        "gaurav = student_details(\"Gaurav\" , 102 , \"Data_Science\")"
      ]
    },
    {
      "cell_type": "code",
      "execution_count": null,
      "id": "696377c6-e883-4b78-a31b-56fbe1739043",
      "metadata": {
        "id": "696377c6-e883-4b78-a31b-56fbe1739043",
        "outputId": "addb385f-b0aa-4491-ff53-7cc851c1ee20"
      },
      "outputs": [
        {
          "data": {
            "text/plain": [
              "('Gaurav', 102, 'Data_Science')"
            ]
          },
          "execution_count": 11,
          "metadata": {},
          "output_type": "execute_result"
        }
      ],
      "source": [
        "gaurav.return_student_details()"
      ]
    },
    {
      "cell_type": "code",
      "execution_count": null,
      "id": "a1b1f8c8-9155-4708-a6cc-63afed829729",
      "metadata": {
        "id": "a1b1f8c8-9155-4708-a6cc-63afed829729",
        "outputId": "e4bf5767-3e12-4da9-b23a-edfba70d87a4"
      },
      "outputs": [
        {
          "data": {
            "text/plain": [
              "'Data_Science'"
            ]
          },
          "execution_count": 12,
          "metadata": {},
          "output_type": "execute_result"
        }
      ],
      "source": [
        "gaurav.dept"
      ]
    },
    {
      "cell_type": "markdown",
      "id": "e8d5cb0c-0f93-4e7b-a27d-71a26fd8776e",
      "metadata": {
        "id": "e8d5cb0c-0f93-4e7b-a27d-71a26fd8776e"
      },
      "source": [
        "Q4. Why self is used in OOPs?"
      ]
    },
    {
      "cell_type": "markdown",
      "id": "54843228-0666-46d4-9ddf-ac6ffd7864b1",
      "metadata": {
        "id": "54843228-0666-46d4-9ddf-ac6ffd7864b1"
      },
      "source": [
        "Self parameter is a reference of the current instances of the class, and is used to access variable that belongs to the class.\n",
        "\n",
        "It is not a reserved keyword , we can calit whatever we like , but has to be int he first parameter of any function int the class.\n",
        "\n",
        "If we gace a method that takes no arguments, we stll have one argument. This is similar to pointer .\n",
        "\n",
        "If we do not use it then we will recieve an error which will tell us like this ------>\n",
        "            \"class_name.function_inside the class() takes 0 positional arguments but 1 was given\""
      ]
    },
    {
      "cell_type": "markdown",
      "id": "d9ff5afc-c35f-4c76-95e4-3e6fcf144660",
      "metadata": {
        "id": "d9ff5afc-c35f-4c76-95e4-3e6fcf144660"
      },
      "source": [
        "__Example:__\n",
        "\n",
        "    Using without self"
      ]
    },
    {
      "cell_type": "code",
      "execution_count": null,
      "id": "c190315d-3e40-4cf6-a081-676251d61d66",
      "metadata": {
        "id": "c190315d-3e40-4cf6-a081-676251d61d66"
      },
      "outputs": [],
      "source": [
        "class greetings:\n",
        "    def welcome_msg():\n",
        "        print(\"Hello Viewers\")"
      ]
    },
    {
      "cell_type": "code",
      "execution_count": null,
      "id": "b8001e8b-cce7-491e-bcfc-6f84789e4dd9",
      "metadata": {
        "id": "b8001e8b-cce7-491e-bcfc-6f84789e4dd9"
      },
      "outputs": [],
      "source": [
        "viewers = greetings()"
      ]
    },
    {
      "cell_type": "code",
      "execution_count": null,
      "id": "3e281e9e-37b3-4a40-bd0d-e24fc6c59384",
      "metadata": {
        "id": "3e281e9e-37b3-4a40-bd0d-e24fc6c59384",
        "outputId": "360bd524-0acf-4c57-b330-609ec156fef8"
      },
      "outputs": [
        {
          "ename": "TypeError",
          "evalue": "greetings.welcome_msg() takes 0 positional arguments but 1 was given",
          "output_type": "error",
          "traceback": [
            "\u001b[0;31m---------------------------------------------------------------------------\u001b[0m",
            "\u001b[0;31mTypeError\u001b[0m                                 Traceback (most recent call last)",
            "Cell \u001b[0;32mIn[15], line 1\u001b[0m\n\u001b[0;32m----> 1\u001b[0m \u001b[43mviewers\u001b[49m\u001b[38;5;241;43m.\u001b[39;49m\u001b[43mwelcome_msg\u001b[49m\u001b[43m(\u001b[49m\u001b[43m)\u001b[49m\n",
            "\u001b[0;31mTypeError\u001b[0m: greetings.welcome_msg() takes 0 positional arguments but 1 was given"
          ]
        }
      ],
      "source": [
        "viewers.welcome_msg()"
      ]
    },
    {
      "cell_type": "markdown",
      "id": "a60ed9f8-2aea-48c7-a65f-2f297e7c2e85",
      "metadata": {
        "id": "a60ed9f8-2aea-48c7-a65f-2f297e7c2e85"
      },
      "source": [
        "    Using with self"
      ]
    },
    {
      "cell_type": "code",
      "execution_count": null,
      "id": "9ed79b82-b534-43d2-bcda-8c8cad0628f6",
      "metadata": {
        "id": "9ed79b82-b534-43d2-bcda-8c8cad0628f6"
      },
      "outputs": [],
      "source": [
        "class greetings:\n",
        "    def welcome_msg(self):\n",
        "        print(\"Hello Viewers\")"
      ]
    },
    {
      "cell_type": "code",
      "execution_count": null,
      "id": "5359a210-828a-405e-be9a-b00e421ebaff",
      "metadata": {
        "id": "5359a210-828a-405e-be9a-b00e421ebaff"
      },
      "outputs": [],
      "source": [
        "viewers = greetings()"
      ]
    },
    {
      "cell_type": "code",
      "execution_count": null,
      "id": "c832831c-0147-48ed-94cb-71aaabe3ab7e",
      "metadata": {
        "id": "c832831c-0147-48ed-94cb-71aaabe3ab7e",
        "outputId": "0cd6968e-4ab0-4b2e-b340-feeccfcfca0e"
      },
      "outputs": [
        {
          "name": "stdout",
          "output_type": "stream",
          "text": [
            "Hello Viewers\n"
          ]
        }
      ],
      "source": [
        "viewers.welcome_msg()"
      ]
    },
    {
      "cell_type": "code",
      "execution_count": null,
      "id": "75870091-839b-4db7-a8e1-af39082db3a1",
      "metadata": {
        "id": "75870091-839b-4db7-a8e1-af39082db3a1"
      },
      "outputs": [],
      "source": []
    },
    {
      "cell_type": "markdown",
      "id": "35c31d5a-9832-49d3-9e5a-c88f8cbbca96",
      "metadata": {
        "id": "35c31d5a-9832-49d3-9e5a-c88f8cbbca96"
      },
      "source": [
        "Q5. What is inheritance? Give an example for each type of inheritance."
      ]
    },
    {
      "cell_type": "markdown",
      "id": "77cea811-fad7-4711-9790-bbf6c825a24a",
      "metadata": {
        "id": "77cea811-fad7-4711-9790-bbf6c825a24a"
      },
      "source": [
        "Inheritance allows us to define a class that inehrits all the methods and properties from the other class.\n",
        "\n",
        "__Parent class__ : It is the class which is being inherited from.\n",
        "\n",
        "__Child class__ : It is the class that inherits the parent class."
      ]
    },
    {
      "cell_type": "markdown",
      "id": "84ad023b-0b27-43f1-bd06-e653d45bd939",
      "metadata": {
        "id": "84ad023b-0b27-43f1-bd06-e653d45bd939"
      },
      "source": [
        "Example :"
      ]
    },
    {
      "cell_type": "markdown",
      "id": "4b8750b0-246e-4a11-a8c7-a3cb688e6d7b",
      "metadata": {
        "id": "4b8750b0-246e-4a11-a8c7-a3cb688e6d7b"
      },
      "source": [
        "__SINGLE INHERITANCE :__"
      ]
    },
    {
      "cell_type": "markdown",
      "id": "07a7e070-cb06-4401-95ae-a4332787e0ed",
      "metadata": {
        "id": "07a7e070-cb06-4401-95ae-a4332787e0ed"
      },
      "source": [
        "Single inheritance enables a deriveed class(child) to inherit properties from a single parent class."
      ]
    },
    {
      "cell_type": "code",
      "execution_count": null,
      "id": "c56f0d75-09f4-4f83-9ce1-8619d8698c48",
      "metadata": {
        "id": "c56f0d75-09f4-4f83-9ce1-8619d8698c48"
      },
      "outputs": [],
      "source": [
        "class class_parent:\n",
        "    def method(self):\n",
        "        print(\"This a parent class\")"
      ]
    },
    {
      "cell_type": "code",
      "execution_count": null,
      "id": "27f716e2-95dd-4ac3-b006-c8abed2f06ff",
      "metadata": {
        "id": "27f716e2-95dd-4ac3-b006-c8abed2f06ff"
      },
      "outputs": [],
      "source": [
        "class class_child(class_parent):\n",
        "    pass"
      ]
    },
    {
      "cell_type": "code",
      "execution_count": null,
      "id": "0d0f44d4-6b66-457b-8e32-236d9823354c",
      "metadata": {
        "id": "0d0f44d4-6b66-457b-8e32-236d9823354c"
      },
      "outputs": [],
      "source": [
        "obj = class_child()"
      ]
    },
    {
      "cell_type": "code",
      "execution_count": null,
      "id": "64fce81b-256c-413d-94dc-b9917e7ed11c",
      "metadata": {
        "id": "64fce81b-256c-413d-94dc-b9917e7ed11c",
        "outputId": "0d3bf6c5-54f3-49e3-d53d-7e00e0fd0084"
      },
      "outputs": [
        {
          "name": "stdout",
          "output_type": "stream",
          "text": [
            "This a parent class\n"
          ]
        }
      ],
      "source": [
        "obj.method()"
      ]
    },
    {
      "cell_type": "markdown",
      "id": "958daa6b-4896-49dd-8357-6e4df095ced4",
      "metadata": {
        "id": "958daa6b-4896-49dd-8357-6e4df095ced4"
      },
      "source": [
        "__MULTIPLE INHERITANCE :__"
      ]
    },
    {
      "cell_type": "markdown",
      "id": "4384f45b-53e3-4ccd-aeac-56c623368456",
      "metadata": {
        "id": "4384f45b-53e3-4ccd-aeac-56c623368456"
      },
      "source": [
        "When a class is derived from more than one class . This type of inheritance is called multiple Inheritance.  "
      ]
    },
    {
      "cell_type": "code",
      "execution_count": null,
      "id": "e933894d-e9cf-4a7e-a5cc-bdf77d85a33d",
      "metadata": {
        "id": "e933894d-e9cf-4a7e-a5cc-bdf77d85a33d"
      },
      "outputs": [],
      "source": [
        "class class_parent_A:\n",
        "    def method_A(self):\n",
        "        print(\"This is parent class A\")"
      ]
    },
    {
      "cell_type": "code",
      "execution_count": null,
      "id": "d5a1ca05-3a5f-403d-95cc-f03a1129805a",
      "metadata": {
        "id": "d5a1ca05-3a5f-403d-95cc-f03a1129805a"
      },
      "outputs": [],
      "source": [
        "class class_parent_B:\n",
        "    def method_B(self):\n",
        "        print(\"This is parent class B\")"
      ]
    },
    {
      "cell_type": "code",
      "execution_count": null,
      "id": "1f248d6b-bfed-418c-a1ee-8a80cf72bbcb",
      "metadata": {
        "id": "1f248d6b-bfed-418c-a1ee-8a80cf72bbcb"
      },
      "outputs": [],
      "source": [
        "class class_parent_C(class_parent_A , class_parent_B):\n",
        "        pass"
      ]
    },
    {
      "cell_type": "code",
      "execution_count": null,
      "id": "53f5a57f-2c72-4654-b5ab-6ce811c42cb2",
      "metadata": {
        "id": "53f5a57f-2c72-4654-b5ab-6ce811c42cb2"
      },
      "outputs": [],
      "source": [
        "c = class_parent_C()"
      ]
    },
    {
      "cell_type": "code",
      "execution_count": null,
      "id": "c507c2dd-b4de-48c4-98e9-b8c1ee40c674",
      "metadata": {
        "id": "c507c2dd-b4de-48c4-98e9-b8c1ee40c674",
        "outputId": "78bc74c3-2fe5-4e39-cd69-fe2bf7194b5f"
      },
      "outputs": [
        {
          "name": "stdout",
          "output_type": "stream",
          "text": [
            "This is parent class A\n"
          ]
        }
      ],
      "source": [
        "c.method_A()"
      ]
    },
    {
      "cell_type": "code",
      "execution_count": null,
      "id": "0c3d705d-7415-4546-8428-da2a2cf62036",
      "metadata": {
        "id": "0c3d705d-7415-4546-8428-da2a2cf62036",
        "outputId": "a741ebbc-5cb2-4f5a-db6c-52df27e6822a"
      },
      "outputs": [
        {
          "name": "stdout",
          "output_type": "stream",
          "text": [
            "This is parent class B\n"
          ]
        }
      ],
      "source": [
        "c.method_B()"
      ]
    },
    {
      "cell_type": "markdown",
      "id": "59d2b514-6b6f-4969-b56d-a79f3c000a57",
      "metadata": {
        "id": "59d2b514-6b6f-4969-b56d-a79f3c000a57"
      },
      "source": [
        "__MULTI_LAYER INHERITANCE:__"
      ]
    },
    {
      "cell_type": "markdown",
      "id": "c394cb0e-4bb0-4f79-91a4-10e58bee51f8",
      "metadata": {
        "id": "c394cb0e-4bb0-4f79-91a4-10e58bee51f8"
      },
      "source": [
        "In multi-level Inheritance, features of the base class and the derived class are further inherited into the new derived class."
      ]
    },
    {
      "cell_type": "code",
      "execution_count": null,
      "id": "8866c768-6e10-4794-9ba8-10db85ccc9dd",
      "metadata": {
        "id": "8866c768-6e10-4794-9ba8-10db85ccc9dd"
      },
      "outputs": [],
      "source": [
        "class parent_A:\n",
        "    def method_A(self):\n",
        "        print(\"This is parent class A\")"
      ]
    },
    {
      "cell_type": "code",
      "execution_count": null,
      "id": "49b8d5fe-0cbf-42df-9e2f-058b01d6a39d",
      "metadata": {
        "id": "49b8d5fe-0cbf-42df-9e2f-058b01d6a39d"
      },
      "outputs": [],
      "source": [
        "class intermediate_B(parent_A):\n",
        "    def method_B(self):\n",
        "        print(\"This is intermediate class B\")"
      ]
    },
    {
      "cell_type": "code",
      "execution_count": null,
      "id": "074ff4eb-615e-4c94-b9b3-aadb8e05151a",
      "metadata": {
        "id": "074ff4eb-615e-4c94-b9b3-aadb8e05151a"
      },
      "outputs": [],
      "source": [
        "class derived_C(intermediate_B):\n",
        "    pass"
      ]
    },
    {
      "cell_type": "code",
      "execution_count": null,
      "id": "8e1a539f-5026-4e77-acd0-6605b593c7fe",
      "metadata": {
        "id": "8e1a539f-5026-4e77-acd0-6605b593c7fe"
      },
      "outputs": [],
      "source": [
        "c = derived_C()"
      ]
    },
    {
      "cell_type": "code",
      "execution_count": null,
      "id": "2ccaf235-addc-4851-835b-425f0502c163",
      "metadata": {
        "id": "2ccaf235-addc-4851-835b-425f0502c163",
        "outputId": "2620bac9-d49d-459c-a78c-62f8160c8a34"
      },
      "outputs": [
        {
          "data": {
            "text/plain": [
              "<bound method parent_A.method_A of <__main__.derived_C object at 0x7fbc6861edd0>>"
            ]
          },
          "execution_count": 33,
          "metadata": {},
          "output_type": "execute_result"
        }
      ],
      "source": [
        "c.method_A"
      ]
    },
    {
      "cell_type": "code",
      "execution_count": null,
      "id": "a330f046-6f78-4f0f-859b-ec7e4a7d0c80",
      "metadata": {
        "id": "a330f046-6f78-4f0f-859b-ec7e4a7d0c80",
        "outputId": "620381bc-4257-4514-f01f-c81e49b1e2cb"
      },
      "outputs": [
        {
          "name": "stdout",
          "output_type": "stream",
          "text": [
            "This is parent class A\n"
          ]
        }
      ],
      "source": [
        "c.method_A()"
      ]
    },
    {
      "cell_type": "code",
      "execution_count": null,
      "id": "9bb9beba-5784-4936-b7af-742e5d748a67",
      "metadata": {
        "id": "9bb9beba-5784-4936-b7af-742e5d748a67",
        "outputId": "df4c15e2-ba57-416a-c412-1a3815c0dc66"
      },
      "outputs": [
        {
          "name": "stdout",
          "output_type": "stream",
          "text": [
            "This is intermediate class B\n"
          ]
        }
      ],
      "source": [
        "c.method_B()"
      ]
    },
    {
      "cell_type": "code",
      "execution_count": null,
      "id": "5a101344-8514-4c2c-95ee-bfd1011a9966",
      "metadata": {
        "id": "5a101344-8514-4c2c-95ee-bfd1011a9966"
      },
      "outputs": [],
      "source": []
    }
  ],
  "metadata": {
    "kernelspec": {
      "display_name": "Python 3 (ipykernel)",
      "language": "python",
      "name": "python3"
    },
    "language_info": {
      "codemirror_mode": {
        "name": "ipython",
        "version": 3
      },
      "file_extension": ".py",
      "mimetype": "text/x-python",
      "name": "python",
      "nbconvert_exporter": "python",
      "pygments_lexer": "ipython3",
      "version": "3.10.8"
    },
    "colab": {
      "provenance": [],
      "include_colab_link": true
    }
  },
  "nbformat": 4,
  "nbformat_minor": 5
}