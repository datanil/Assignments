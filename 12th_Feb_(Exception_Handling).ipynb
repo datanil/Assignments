{
  "cells": [
    {
      "cell_type": "markdown",
      "metadata": {
        "id": "view-in-github",
        "colab_type": "text"
      },
      "source": [
        "<a href=\"https://colab.research.google.com/github/datanil/Assignments/blob/main/12th_Feb_(Exception_Handling).ipynb\" target=\"_parent\"><img src=\"https://colab.research.google.com/assets/colab-badge.svg\" alt=\"Open In Colab\"/></a>"
      ]
    },
    {
      "cell_type": "markdown",
      "id": "e91f146c-c6c2-4158-8513-c09e3338534c",
      "metadata": {
        "id": "e91f146c-c6c2-4158-8513-c09e3338534c"
      },
      "source": [
        "# _Q1. What is an Exception in python ? Write the difference between Exception and Syntax error._"
      ]
    },
    {
      "cell_type": "markdown",
      "id": "db2542b1-dcef-4364-bf18-6e94bfb04a77",
      "metadata": {
        "id": "db2542b1-dcef-4364-bf18-6e94bfb04a77"
      },
      "source": [
        "___ANSWER :___"
      ]
    },
    {
      "cell_type": "markdown",
      "id": "e0206dfc-f805-4b68-aee5-119070602845",
      "metadata": {
        "id": "e0206dfc-f805-4b68-aee5-119070602845"
      },
      "source": [
        "An exception is an event, which occurs during the execution of a program that disrupts the normal flow of the program's instructions. An exception is a Python object that represents an error. When a Python script raises an exception, it must either handle the exception immediately otherwise it terminates and quits.\n",
        "\n",
        "_Difference between Exception and syntax error :_\n",
        "\n",
        "__Syntax error:__\n",
        "\n",
        "__i.__ A syntax error is a type of error that occurs when the code violates hte grammertical rules of the programming language. It happens when the programmer writes incorrect syntax in the code,  such as a missing semicolon or a bracket , oir using the wrong keyword. These errors are detected by the interpriter when the code is being compiled or executed and they prevent the code from running.\n",
        "\n",
        "__ii.__ Syntax errors are detected during compilation.\n",
        "\n",
        "__iii.__ Syntax errors are caused by incorrect syntax.\n",
        "\n",
        "__Exception:__\n",
        "\n",
        "__i:__ An exception is a runtime error that occurs when a program is executed and encounteres a problem that it cnnot handle. Exceptions occur when a program attempts to perform an operation that is not allowed or when it encounters unexpected data or conditions. Exceptions can be caused by a variety of factors, such as dividing by zero accessing an array index out of bounds , or attempting to open a file that does not exsits.\n",
        "\n",
        "__ii.__  Exception ocuurs during program execution.\n",
        "\n",
        "__iii.___ Exception caused by unexpected or illigal program conditions.\n",
        "\n"
      ]
    },
    {
      "cell_type": "code",
      "execution_count": null,
      "id": "326bbfcc-6918-49f4-a045-85cfca3334c2",
      "metadata": {
        "id": "326bbfcc-6918-49f4-a045-85cfca3334c2"
      },
      "outputs": [],
      "source": []
    },
    {
      "cell_type": "code",
      "execution_count": null,
      "id": "2aab096e-10db-4d25-9815-0147cfa93623",
      "metadata": {
        "id": "2aab096e-10db-4d25-9815-0147cfa93623"
      },
      "outputs": [],
      "source": []
    },
    {
      "cell_type": "markdown",
      "id": "06ffc10e-4ba1-4e74-9fb3-61b50d3b7dfc",
      "metadata": {
        "id": "06ffc10e-4ba1-4e74-9fb3-61b50d3b7dfc"
      },
      "source": [
        "# _Q2. What happen when an exception is not handled? Explain with an example._"
      ]
    },
    {
      "cell_type": "markdown",
      "id": "0ed5527d-0eea-44aa-9dcf-29990c257ae1",
      "metadata": {
        "id": "0ed5527d-0eea-44aa-9dcf-29990c257ae1"
      },
      "source": [
        "___ANSWER :___"
      ]
    },
    {
      "cell_type": "markdown",
      "id": "938e38d8-fd32-4765-b88c-30e5c0f1be43",
      "metadata": {
        "id": "938e38d8-fd32-4765-b88c-30e5c0f1be43"
      },
      "source": [
        "When an exception is not handled , it will cause the program to terminate abruptly and potentially dispaly an error message to the user."
      ]
    },
    {
      "cell_type": "markdown",
      "id": "757f1c06-c924-45b8-802e-84495b9dce88",
      "metadata": {
        "id": "757f1c06-c924-45b8-802e-84495b9dce88"
      },
      "source": [
        "__Example:__"
      ]
    },
    {
      "cell_type": "code",
      "execution_count": null,
      "id": "c3d227e4-d04c-4b4a-bd7d-9460b0ff281d",
      "metadata": {
        "id": "c3d227e4-d04c-4b4a-bd7d-9460b0ff281d"
      },
      "outputs": [],
      "source": [
        "def div_num(a,b):\n",
        "    return a/b"
      ]
    },
    {
      "cell_type": "markdown",
      "id": "d741060e-1047-40d0-87f3-f22870fd16b1",
      "metadata": {
        "id": "d741060e-1047-40d0-87f3-f22870fd16b1"
      },
      "source": [
        "_If we call this function with valid input it will give us the expected result ,  shown below_"
      ]
    },
    {
      "cell_type": "code",
      "execution_count": null,
      "id": "63f393af-ecdd-44a3-a3dc-3edb62441f00",
      "metadata": {
        "id": "63f393af-ecdd-44a3-a3dc-3edb62441f00",
        "outputId": "40925e52-7ee4-4fd1-b544-9174c59acfc7"
      },
      "outputs": [
        {
          "data": {
            "text/plain": [
              "2.0"
            ]
          },
          "execution_count": 3,
          "metadata": {},
          "output_type": "execute_result"
        }
      ],
      "source": [
        "div_num(10,5)"
      ]
    },
    {
      "cell_type": "code",
      "execution_count": null,
      "id": "6b2cb95e-be3b-4797-b975-00feb8725e61",
      "metadata": {
        "id": "6b2cb95e-be3b-4797-b975-00feb8725e61"
      },
      "outputs": [],
      "source": []
    },
    {
      "cell_type": "code",
      "execution_count": null,
      "id": "7279f27d-e761-41b7-b735-bb462ebbf7f9",
      "metadata": {
        "id": "7279f27d-e761-41b7-b735-bb462ebbf7f9"
      },
      "outputs": [],
      "source": []
    },
    {
      "cell_type": "code",
      "execution_count": null,
      "id": "e78177e9-e04b-40ea-b6e8-a39b31422a49",
      "metadata": {
        "id": "e78177e9-e04b-40ea-b6e8-a39b31422a49"
      },
      "outputs": [],
      "source": []
    },
    {
      "cell_type": "markdown",
      "id": "e08089b2-dd28-44f2-9d81-1c09e7d738f9",
      "metadata": {
        "id": "e08089b2-dd28-44f2-9d81-1c09e7d738f9"
      },
      "source": [
        "_If we pass __0__ for __b__ , an exception will be raised_"
      ]
    },
    {
      "cell_type": "code",
      "execution_count": null,
      "id": "354f1b0c-b8ca-4954-84e5-2893f963b91f",
      "metadata": {
        "id": "354f1b0c-b8ca-4954-84e5-2893f963b91f",
        "outputId": "8204aff6-5084-4964-ffdf-d79a0784cc5c"
      },
      "outputs": [
        {
          "ename": "ZeroDivisionError",
          "evalue": "division by zero",
          "output_type": "error",
          "traceback": [
            "\u001b[0;31m---------------------------------------------------------------------------\u001b[0m",
            "\u001b[0;31mZeroDivisionError\u001b[0m                         Traceback (most recent call last)",
            "Cell \u001b[0;32mIn[4], line 1\u001b[0m\n\u001b[0;32m----> 1\u001b[0m \u001b[43mdiv_num\u001b[49m\u001b[43m(\u001b[49m\u001b[38;5;241;43m10\u001b[39;49m\u001b[43m \u001b[49m\u001b[43m,\u001b[49m\u001b[43m \u001b[49m\u001b[38;5;241;43m0\u001b[39;49m\u001b[43m)\u001b[49m\n",
            "Cell \u001b[0;32mIn[2], line 2\u001b[0m, in \u001b[0;36mdiv_num\u001b[0;34m(a, b)\u001b[0m\n\u001b[1;32m      1\u001b[0m \u001b[38;5;28;01mdef\u001b[39;00m \u001b[38;5;21mdiv_num\u001b[39m(a,b):\n\u001b[0;32m----> 2\u001b[0m     \u001b[38;5;28;01mreturn\u001b[39;00m \u001b[43ma\u001b[49m\u001b[38;5;241;43m/\u001b[39;49m\u001b[43mb\u001b[49m\n",
            "\u001b[0;31mZeroDivisionError\u001b[0m: division by zero"
          ]
        }
      ],
      "source": [
        "div_num(10 , 0)"
      ]
    },
    {
      "cell_type": "markdown",
      "id": "aef51a70-7959-4ba5-9fe6-db1000b042d1",
      "metadata": {
        "id": "aef51a70-7959-4ba5-9fe6-db1000b042d1"
      },
      "source": [
        "In this case, the exceptiion 8is a __\"ZeroDivisorError\"__ , indicating that we tried to divide the 10 with 0.\n",
        "\n",
        "If we don't handle this kind this exception the program will terminate and display the error message. This can be problematic if the program is running in the background or part of a larger system,  as it may cause unexpected behaviour or even data loss."
      ]
    },
    {
      "cell_type": "markdown",
      "id": "7ccf41ed-8fb6-407c-98be-7a31132a17dc",
      "metadata": {
        "id": "7ccf41ed-8fb6-407c-98be-7a31132a17dc"
      },
      "source": [
        "So therefore it is important to handle exception in our code using the __\"try\"__ and __\"except\"__ to catch the specific exceptions to handle them appropriatly.This can include displaying a user-friendly error message, logging the error, or attempting to recover from the error and continue running the program.\n",
        "\n",
        "Shown below:"
      ]
    },
    {
      "cell_type": "code",
      "execution_count": null,
      "id": "8ee09a36-ea1d-4d4d-ad7c-a76b2e6a3bde",
      "metadata": {
        "id": "8ee09a36-ea1d-4d4d-ad7c-a76b2e6a3bde",
        "outputId": "9ec2cb1d-f9bf-409b-ace1-712af05b3dbc"
      },
      "outputs": [
        {
          "name": "stdout",
          "output_type": "stream",
          "text": [
            "division by zero\n"
          ]
        }
      ],
      "source": [
        "try :\n",
        "    div_num(10,0)\n",
        "except ZeroDivisionError as e :\n",
        "    print(e)"
      ]
    },
    {
      "cell_type": "code",
      "execution_count": null,
      "id": "f161f37c-d1fa-434e-9a3e-7c7ec846a59e",
      "metadata": {
        "id": "f161f37c-d1fa-434e-9a3e-7c7ec846a59e"
      },
      "outputs": [],
      "source": []
    },
    {
      "cell_type": "code",
      "execution_count": null,
      "id": "a80de280-4abe-4f51-8466-c56b63fb35d6",
      "metadata": {
        "id": "a80de280-4abe-4f51-8466-c56b63fb35d6"
      },
      "outputs": [],
      "source": []
    },
    {
      "cell_type": "markdown",
      "id": "88256717-604d-43f3-9eca-22e3232395b8",
      "metadata": {
        "id": "88256717-604d-43f3-9eca-22e3232395b8"
      },
      "source": [
        "# _Q3. Which python statement are used to catch and handle exception ? Expalin with an example._"
      ]
    },
    {
      "cell_type": "markdown",
      "id": "f03c2272-aa5b-43c3-887a-a4db4c8effb6",
      "metadata": {
        "id": "f03c2272-aa5b-43c3-887a-a4db4c8effb6"
      },
      "source": [
        "___ANSWER :___"
      ]
    },
    {
      "cell_type": "markdown",
      "id": "b7eca878-23b4-42bc-b4c7-150d8892803d",
      "metadata": {
        "id": "b7eca878-23b4-42bc-b4c7-150d8892803d"
      },
      "source": [
        "In python __'try'__ and __'except'__ statements to catch and handle exceptions."
      ]
    },
    {
      "cell_type": "markdown",
      "id": "a3c4cc2b-c0db-41d5-87f3-31fa206a0f94",
      "metadata": {
        "id": "a3c4cc2b-c0db-41d5-87f3-31fa206a0f94"
      },
      "source": [
        "___Explanation:___"
      ]
    },
    {
      "cell_type": "code",
      "execution_count": null,
      "id": "f8dc5487-c76e-4d9e-832a-41aa7f8296ce",
      "metadata": {
        "id": "f8dc5487-c76e-4d9e-832a-41aa7f8296ce"
      },
      "outputs": [],
      "source": [
        "def div_num(a,b):\n",
        "    try :\n",
        "        result = a/b\n",
        "    except ZeroDivisionError as e:\n",
        "        print(e)\n",
        "        result = \"Not defined\"\n",
        "    return result"
      ]
    },
    {
      "cell_type": "code",
      "execution_count": null,
      "id": "38bc77ac-7349-46eb-9ae6-c24da999ee0e",
      "metadata": {
        "id": "38bc77ac-7349-46eb-9ae6-c24da999ee0e",
        "outputId": "62e65670-4aa5-4223-e23c-3d7aba019ba0"
      },
      "outputs": [
        {
          "name": "stdout",
          "output_type": "stream",
          "text": [
            "division by zero\n"
          ]
        },
        {
          "data": {
            "text/plain": [
              "'Not defined'"
            ]
          },
          "execution_count": 7,
          "metadata": {},
          "output_type": "execute_result"
        }
      ],
      "source": [
        "div_num(10,0)"
      ]
    },
    {
      "cell_type": "markdown",
      "id": "8ffb261f-3714-48b4-8435-a28212eaa27a",
      "metadata": {
        "id": "8ffb261f-3714-48b4-8435-a28212eaa27a"
      },
      "source": [
        "_In this above function we use __'try'__ block to execute the division operation operation that might raise a '__ZeroDivisionError'__ . If the exception is raised we jump to the __'except\"__ block which prints an error message and sets the result to __\"Not defined\"__ ."
      ]
    },
    {
      "cell_type": "markdown",
      "id": "e9b65c7c-1a8d-4836-9f18-36e9e01db62f",
      "metadata": {
        "id": "e9b65c7c-1a8d-4836-9f18-36e9e01db62f"
      },
      "source": [
        "_Now if call this function with the divisor of 0 , it won't raise an exception but instead handle it and return \"Not defined\"_"
      ]
    },
    {
      "cell_type": "code",
      "execution_count": null,
      "id": "c8180a6e-dd3f-4169-981b-4da746e98ed4",
      "metadata": {
        "id": "c8180a6e-dd3f-4169-981b-4da746e98ed4"
      },
      "outputs": [],
      "source": []
    },
    {
      "cell_type": "markdown",
      "id": "e42a3ca8-5b9c-42c2-a357-995f943b678b",
      "metadata": {
        "tags": [],
        "id": "e42a3ca8-5b9c-42c2-a357-995f943b678b"
      },
      "source": [
        "# ___Q4. Explain with an example___"
      ]
    },
    {
      "cell_type": "markdown",
      "id": "a6b3f08d-3182-4d68-b0cc-d417e053c05b",
      "metadata": {
        "id": "a6b3f08d-3182-4d68-b0cc-d417e053c05b"
      },
      "source": [
        "### ___a. try and else___"
      ]
    },
    {
      "cell_type": "markdown",
      "id": "deddf712-cc48-4b36-9dda-e55eafbe456d",
      "metadata": {
        "id": "deddf712-cc48-4b36-9dda-e55eafbe456d"
      },
      "source": [
        "### ___b. finally___"
      ]
    },
    {
      "cell_type": "markdown",
      "id": "9bfc9564-be66-47b2-87ef-8cb49214d692",
      "metadata": {
        "id": "9bfc9564-be66-47b2-87ef-8cb49214d692"
      },
      "source": [
        "### ___c. raise___"
      ]
    },
    {
      "cell_type": "markdown",
      "id": "030ac8d9-8022-4718-8001-f7522db90dc8",
      "metadata": {
        "id": "030ac8d9-8022-4718-8001-f7522db90dc8"
      },
      "source": [
        "# ___ANSWER :___"
      ]
    },
    {
      "cell_type": "markdown",
      "id": "9f7faa22-59df-47a7-a60f-0a375cd7b9a3",
      "metadata": {
        "id": "9f7faa22-59df-47a7-a60f-0a375cd7b9a3"
      },
      "source": [
        "_a._ __try and else :__  _\"try\"_ and _\"else\"_ are the keywords used in python to handle the exceptions."
      ]
    },
    {
      "cell_type": "markdown",
      "id": "c2b0cb16-1e90-4e77-8cb1-2281073c4ed0",
      "metadata": {
        "id": "c2b0cb16-1e90-4e77-8cb1-2281073c4ed0"
      },
      "source": [
        "___\"try\"___ block is used to enclose a section of code that might raise an exception."
      ]
    },
    {
      "cell_type": "markdown",
      "id": "2cc04874-ac0b-4300-8f36-7779702e58fd",
      "metadata": {
        "id": "2cc04874-ac0b-4300-8f36-7779702e58fd"
      },
      "source": [
        "___\"else\"____ block is optional and is excecuted if no exception is raised in the ___\"try\"___ block.\n",
        "\n",
        "Here is an example shown below:"
      ]
    },
    {
      "cell_type": "code",
      "execution_count": null,
      "id": "485ac3bd-4680-4662-8616-476a1f003c09",
      "metadata": {
        "id": "485ac3bd-4680-4662-8616-476a1f003c09",
        "outputId": "57369e05-edd8-4549-d2e9-f905b1c84d17"
      },
      "outputs": [
        {
          "name": "stdin",
          "output_type": "stream",
          "text": [
            "Enter your number :  o\n"
          ]
        },
        {
          "name": "stdout",
          "output_type": "stream",
          "text": [
            "invalid literal for int() with base 10: 'o'\n",
            "Invalid number\n"
          ]
        }
      ],
      "source": [
        "try :\n",
        "    num = int(input(\"Enter your number : \"))\n",
        "except (TypeError , ValueError) as e :\n",
        "    print(e)\n",
        "    print(\"Invalid number\")\n",
        "else:\n",
        "    print(\"Your number is \" ,  num)"
      ]
    },
    {
      "cell_type": "code",
      "execution_count": null,
      "id": "d583c717-dec2-4030-b208-212c99fcb36b",
      "metadata": {
        "id": "d583c717-dec2-4030-b208-212c99fcb36b",
        "outputId": "81cf96d9-e606-4800-fb59-f6825f2a6a86"
      },
      "outputs": [
        {
          "name": "stdin",
          "output_type": "stream",
          "text": [
            "Enter your number :  9\n"
          ]
        },
        {
          "name": "stdout",
          "output_type": "stream",
          "text": [
            "Your number is  9\n"
          ]
        }
      ],
      "source": [
        "try :\n",
        "    num = int(input(\"Enter your number : \"))\n",
        "except (TypeError , ValueError) as e :\n",
        "    print(e)\n",
        "    print(\"Invalid number\")\n",
        "else:\n",
        "    print(\"Your number is \" ,  num)"
      ]
    },
    {
      "cell_type": "markdown",
      "id": "c25695b5-92ac-435e-a2f6-ab043ee473a1",
      "metadata": {
        "id": "c25695b5-92ac-435e-a2f6-ab043ee473a1"
      },
      "source": [
        "_b._ __finally :__ It is the keyword which is used in python to define a block of code that will be executed regardless of whether an exception is raised or not.\n",
        "\n",
        "_For example :_"
      ]
    },
    {
      "cell_type": "code",
      "execution_count": null,
      "id": "34b521d1-1377-4b1a-b727-8b83cfc1321b",
      "metadata": {
        "id": "34b521d1-1377-4b1a-b727-8b83cfc1321b",
        "outputId": "28f96efb-7aac-4fa4-d94a-db236a36ea29"
      },
      "outputs": [
        {
          "name": "stdout",
          "output_type": "stream",
          "text": [
            "Finally it will execute in any situation\n"
          ]
        }
      ],
      "source": [
        "try :\n",
        "    with open(\"test.txt\" , 'r') as f:\n",
        "        f.read()\n",
        "finally :\n",
        "    print(\"Finally it will execute in any situation\")"
      ]
    },
    {
      "cell_type": "markdown",
      "id": "7e6efa16-a002-4388-a38b-5e4d5d85838b",
      "metadata": {
        "id": "7e6efa16-a002-4388-a38b-5e4d5d85838b"
      },
      "source": [
        "_c._ __raise :__ It is the keyword used in python to raise an exception."
      ]
    },
    {
      "cell_type": "markdown",
      "id": "c68f58da-558e-4a6d-8fd9-75ea88d85402",
      "metadata": {
        "id": "c68f58da-558e-4a6d-8fd9-75ea88d85402"
      },
      "source": [
        "___Example :___"
      ]
    },
    {
      "cell_type": "code",
      "execution_count": null,
      "id": "24ff8789",
      "metadata": {
        "id": "24ff8789"
      },
      "outputs": [],
      "source": [
        "class valid_age(Exception):\n",
        "\n",
        "    def __init__(self , msg):\n",
        "        self.msg = msg"
      ]
    },
    {
      "cell_type": "code",
      "execution_count": null,
      "id": "c175bf68-c9c0-4ccd-af55-6e78758de1dc",
      "metadata": {
        "id": "c175bf68-c9c0-4ccd-af55-6e78758de1dc"
      },
      "outputs": [],
      "source": [
        "def validate(age):\n",
        "    if age < 0:\n",
        "        raise valid_age(\"Entered age is Negative !! Not Valid !!\")\n",
        "    elif age > 110:\n",
        "        raise valid_age(\"Entered age is very high !! Not valid !!\")\n",
        "    else:\n",
        "        print(\"Entered age is valid : \", age)"
      ]
    },
    {
      "cell_type": "code",
      "execution_count": null,
      "id": "e2cc5f97-3127-48ab-8310-a607e69498ac",
      "metadata": {
        "id": "e2cc5f97-3127-48ab-8310-a607e69498ac",
        "outputId": "eb127aeb-eab8-414d-a025-07425bd25a20"
      },
      "outputs": [
        {
          "name": "stdin",
          "output_type": "stream",
          "text": [
            "Enter your age :  8980\n"
          ]
        },
        {
          "name": "stdout",
          "output_type": "stream",
          "text": [
            "Entered age is very high !! Not valid !!\n"
          ]
        }
      ],
      "source": [
        "try :\n",
        "    age =  int(input(\"Enter your age : \"))\n",
        "    validate(age)\n",
        "except valid_age as e :\n",
        "    print(e)\n",
        ""
      ]
    },
    {
      "cell_type": "code",
      "execution_count": null,
      "id": "1077a778-d20c-411b-aa96-0af01a32a04c",
      "metadata": {
        "id": "1077a778-d20c-411b-aa96-0af01a32a04c"
      },
      "outputs": [],
      "source": []
    },
    {
      "cell_type": "code",
      "execution_count": null,
      "id": "ec8c7f7e-036c-498f-9afc-93078de65e62",
      "metadata": {
        "id": "ec8c7f7e-036c-498f-9afc-93078de65e62"
      },
      "outputs": [],
      "source": []
    },
    {
      "cell_type": "markdown",
      "id": "b9ba4eaa-b435-4278-914f-70936559c2c0",
      "metadata": {
        "id": "b9ba4eaa-b435-4278-914f-70936559c2c0"
      },
      "source": [
        "# Q5. What are custom exceptions in python ? Why do we need custom Exception ? Explain with an example."
      ]
    },
    {
      "cell_type": "markdown",
      "id": "049fbe32-0d2c-4946-8cd4-3bc16b0b3091",
      "metadata": {
        "id": "049fbe32-0d2c-4946-8cd4-3bc16b0b3091"
      },
      "source": [
        "___ANSWER :___"
      ]
    },
    {
      "cell_type": "markdown",
      "id": "795a9e4d-1ed3-425e-8bce-be54926bdb5c",
      "metadata": {
        "id": "795a9e4d-1ed3-425e-8bce-be54926bdb5c"
      },
      "source": [
        "Custom exceptions in Pthon are user-deined exceptions that are created by the programmer to handle specific types od errors or exceptional situations that mey arise in their program."
      ]
    },
    {
      "cell_type": "markdown",
      "id": "6dce30c5-f241-4b63-84de-75891e9aa603",
      "metadata": {
        "id": "6dce30c5-f241-4b63-84de-75891e9aa603"
      },
      "source": [
        "We use custom exceptions when we want to create more meaningful and specific errors messages that will help us to understand what went wrong in the program. They also povide a better way to handle the errors and exceptions , as we can catch and handle them in more  effucient and customized way."
      ]
    },
    {
      "cell_type": "markdown",
      "id": "d77b05d8-b4dc-42b2-b74e-834317b1e678",
      "metadata": {
        "id": "d77b05d8-b4dc-42b2-b74e-834317b1e678"
      },
      "source": [
        "_Considering an example_ :"
      ]
    },
    {
      "cell_type": "code",
      "execution_count": null,
      "id": "e37a0521-72cc-488c-b661-781ca98b8a5c",
      "metadata": {
        "id": "e37a0521-72cc-488c-b661-781ca98b8a5c"
      },
      "outputs": [],
      "source": [
        "class NegativeError(Exception):\n",
        "\n",
        "\n",
        "    def __init__(self , value):\n",
        "        self.value = value"
      ]
    },
    {
      "cell_type": "code",
      "execution_count": null,
      "id": "f5ba4ab4-6860-4f61-bae7-a3a4e23bb2ee",
      "metadata": {
        "id": "f5ba4ab4-6860-4f61-bae7-a3a4e23bb2ee"
      },
      "outputs": [],
      "source": [
        "def sq_root(x):\n",
        "    if x < 0 :\n",
        "        raise NegativeError(\"Entered number is negative \" )\n",
        "    else :\n",
        "        return x**0.5"
      ]
    },
    {
      "cell_type": "code",
      "execution_count": null,
      "id": "44f3e698-da06-4ed1-9ecd-810a50f937f3",
      "metadata": {
        "id": "44f3e698-da06-4ed1-9ecd-810a50f937f3",
        "outputId": "72c88461-e610-48b2-e45a-2a0b64ed72dc"
      },
      "outputs": [
        {
          "data": {
            "text/plain": [
              "5.0"
            ]
          },
          "execution_count": 16,
          "metadata": {},
          "output_type": "execute_result"
        }
      ],
      "source": [
        "sq_root(25)"
      ]
    },
    {
      "cell_type": "code",
      "execution_count": null,
      "id": "b8a599b1-a5b1-4b62-879e-425ebcd38dc4",
      "metadata": {
        "id": "b8a599b1-a5b1-4b62-879e-425ebcd38dc4",
        "outputId": "e4366593-2ce0-47bf-88c0-21ea540c6dec"
      },
      "outputs": [
        {
          "name": "stdout",
          "output_type": "stream",
          "text": [
            "2.23606797749979\n"
          ]
        }
      ],
      "source": [
        "try :\n",
        "    print(sq_root(5))\n",
        "except NegativeError as e :\n",
        "    print(e)"
      ]
    },
    {
      "cell_type": "markdown",
      "id": "1f6f8b66-50b9-46b1-8645-36a5d5804543",
      "metadata": {
        "id": "1f6f8b66-50b9-46b1-8645-36a5d5804543"
      },
      "source": [
        "In this above example , we have defined a custom exception class \"__NegativeError__\" that is raised whenever a negative number is passed as an argument to the __\"sq_root\"__ function . Since here we have put  a valid input which gives us a valid output ."
      ]
    },
    {
      "cell_type": "code",
      "execution_count": null,
      "id": "fbefcb84-9c86-46bb-86e9-c14b4083c709",
      "metadata": {
        "id": "fbefcb84-9c86-46bb-86e9-c14b4083c709",
        "outputId": "a4f5abd8-f8b8-4276-897e-0d90ff1d37c1"
      },
      "outputs": [
        {
          "name": "stdout",
          "output_type": "stream",
          "text": [
            "Entered number is negative \n"
          ]
        }
      ],
      "source": [
        "try :\n",
        "    print(sq_root(-5))\n",
        "except NegativeError as e :\n",
        "    print(e)"
      ]
    },
    {
      "cell_type": "markdown",
      "id": "418de877-3849-4dbf-ba83-20d64eb83b70",
      "metadata": {
        "id": "418de877-3849-4dbf-ba83-20d64eb83b70"
      },
      "source": [
        "In this example , we have defined a custom excepetion \"__NegativeError\"__ that is raised whenever a negative number is passed as an argument to the __\"sq_root\"__ function. Now, here when the '__sq_root__'  function is called with a negative number , it raises the \"__NegativeError\"__ exception with the value of input."
      ]
    },
    {
      "cell_type": "markdown",
      "id": "106a86d0-e037-45ed-9d0d-36f953bbb90d",
      "metadata": {
        "id": "106a86d0-e037-45ed-9d0d-36f953bbb90d"
      },
      "source": [
        "And hence we can catch this custom exception using __try-except__ block.\n"
      ]
    },
    {
      "cell_type": "markdown",
      "id": "fec6dafb-b593-4e83-943b-731e0a341544",
      "metadata": {
        "id": "fec6dafb-b593-4e83-943b-731e0a341544"
      },
      "source": [
        "# Q6. Create a custom exception class. Use this class to handle an exception."
      ]
    },
    {
      "cell_type": "markdown",
      "id": "e21f6e4f-a063-4d97-9a40-91aa328ae95c",
      "metadata": {
        "id": "e21f6e4f-a063-4d97-9a40-91aa328ae95c"
      },
      "source": [
        "___ANSWER :___"
      ]
    },
    {
      "cell_type": "code",
      "execution_count": null,
      "id": "eea7ea24-23e9-4475-be58-8371c3182196",
      "metadata": {
        "id": "eea7ea24-23e9-4475-be58-8371c3182196"
      },
      "outputs": [],
      "source": [
        "class valid_age(Exception):\n",
        "\n",
        "    def __init__(self , msg):\n",
        "        self.msg = msg"
      ]
    },
    {
      "cell_type": "code",
      "execution_count": null,
      "id": "7b30075e-5b82-4b06-93f2-8cde101c2429",
      "metadata": {
        "id": "7b30075e-5b82-4b06-93f2-8cde101c2429"
      },
      "outputs": [],
      "source": [
        "def validate(age):\n",
        "    if age < 0:\n",
        "        raise valid_age(\"Entered age is Negative !! Not Valid !!\")\n",
        "    elif age > 110:\n",
        "        raise valid_age(\"Entered age is very high !! Not valid !!\")\n",
        "    else:\n",
        "        print(\"Entered age is valid : \", age)"
      ]
    },
    {
      "cell_type": "code",
      "execution_count": null,
      "id": "e1495180-19c6-422b-86b4-7791bf3b9655",
      "metadata": {
        "id": "e1495180-19c6-422b-86b4-7791bf3b9655",
        "outputId": "d047e880-4b13-435b-a41f-1684e25b7c29"
      },
      "outputs": [
        {
          "name": "stdin",
          "output_type": "stream",
          "text": [
            "Enter your age :  -09\n"
          ]
        },
        {
          "name": "stdout",
          "output_type": "stream",
          "text": [
            "Entered age is Negative !! Not Valid !!\n"
          ]
        }
      ],
      "source": [
        "try :\n",
        "    age =  int(input(\"Enter your age : \"))\n",
        "    validate(age)\n",
        "except valid_age as e :\n",
        "    print(e)\n",
        ""
      ]
    },
    {
      "cell_type": "code",
      "execution_count": null,
      "id": "259ed55d-5a91-4111-9594-870062096f1d",
      "metadata": {
        "id": "259ed55d-5a91-4111-9594-870062096f1d"
      },
      "outputs": [],
      "source": []
    }
  ],
  "metadata": {
    "kernelspec": {
      "display_name": "Python 3 (ipykernel)",
      "language": "python",
      "name": "python3"
    },
    "language_info": {
      "codemirror_mode": {
        "name": "ipython",
        "version": 3
      },
      "file_extension": ".py",
      "mimetype": "text/x-python",
      "name": "python",
      "nbconvert_exporter": "python",
      "pygments_lexer": "ipython3",
      "version": "3.10.8"
    },
    "colab": {
      "provenance": [],
      "include_colab_link": true
    }
  },
  "nbformat": 4,
  "nbformat_minor": 5
}