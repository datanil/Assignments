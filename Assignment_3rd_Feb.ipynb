{
  "cells": [
    {
      "cell_type": "markdown",
      "metadata": {
        "id": "view-in-github",
        "colab_type": "text"
      },
      "source": [
        "<a href=\"https://colab.research.google.com/github/datanil/Assignments/blob/main/Assignment_3rd_Feb.ipynb\" target=\"_parent\"><img src=\"https://colab.research.google.com/assets/colab-badge.svg\" alt=\"Open In Colab\"/></a>"
      ]
    },
    {
      "cell_type": "markdown",
      "id": "4dfc0109-5a6f-4ef7-be22-e6baad8bbec0",
      "metadata": {
        "id": "4dfc0109-5a6f-4ef7-be22-e6baad8bbec0"
      },
      "source": [
        "Q1. Which keyword is used to create a function? Create a function to return a list of odd numbers in the\n",
        "range of 1 to 25."
      ]
    },
    {
      "cell_type": "markdown",
      "id": "7c319248-8f6d-4ba3-972f-3ce91774ad0f",
      "metadata": {
        "id": "7c319248-8f6d-4ba3-972f-3ce91774ad0f"
      },
      "source": [
        "Answer:"
      ]
    },
    {
      "cell_type": "markdown",
      "id": "8d42d188-5e75-4e45-90a9-aeeb7d348a5e",
      "metadata": {
        "id": "8d42d188-5e75-4e45-90a9-aeeb7d348a5e"
      },
      "source": [
        "\"def\" is the keyword which is  used to create functon."
      ]
    },
    {
      "cell_type": "code",
      "execution_count": null,
      "id": "27434fa3-b5c9-430b-ac7d-40497807134f",
      "metadata": {
        "id": "27434fa3-b5c9-430b-ac7d-40497807134f",
        "outputId": "9a918c52-061a-40af-febd-6d9d00839473"
      },
      "outputs": [
        {
          "data": {
            "text/plain": [
              "[1, 3, 5, 7, 9, 11, 13, 15, 17, 19, 21, 23, 25]"
            ]
          },
          "execution_count": 54,
          "metadata": {},
          "output_type": "execute_result"
        }
      ],
      "source": [
        "def even_fuckTheCode(n):\n",
        "    l1 =[]\n",
        "    for i in n :\n",
        "        if i%2 == 0:\n",
        "            l1.append(i)\n",
        "    return l1\n",
        "\n",
        "even_fuckTheCode(list(range(1,30))) #Range for 1-25"
      ]
    },
    {
      "cell_type": "markdown",
      "id": "27cba24d-78e9-4452-be66-b1d6c2c52489",
      "metadata": {
        "id": "27cba24d-78e9-4452-be66-b1d6c2c52489"
      },
      "source": [
        "Q2. Why *args and **kwargs is used in some functions? Create a function each for *args and **kwargs\n",
        "to demonstrate their use."
      ]
    },
    {
      "cell_type": "markdown",
      "id": "c843d015-0238-479d-86e3-20a45e635aaf",
      "metadata": {
        "id": "c843d015-0238-479d-86e3-20a45e635aaf"
      },
      "source": [
        "Answer:"
      ]
    },
    {
      "cell_type": "markdown",
      "id": "939eab33-ea5d-4d42-a15d-795be1a3ad9a",
      "metadata": {
        "id": "939eab33-ea5d-4d42-a15d-795be1a3ad9a"
      },
      "source": [
        " *args passes variable number of non-keyworded arguments and on which operation of the tuple can be performed i.e, when number of arguments are unknown to us to pass into the function we use *args or * before the parameter name into the function defination.\n",
        "\n",
        "This way function will recieve a tuple of arguments and can acess the argument accordingly.\n",
        "\n",
        "**kwargs passes variable number of keyword arguments dictionary to function on which operation of a dictionary can be performed i.e, when number of argument is unkown to us tp pass into the function we use ** before the parameter name into the functon definamtion or **kwargs.\n",
        "\n",
        "This way function will recieve a dictionary of arguments and can acess the items accordingly.\n",
        "\n",
        " *args and **kwargs make the function flexible."
      ]
    },
    {
      "cell_type": "markdown",
      "id": "ed4bed5d-f1bd-4b00-82ea-ad0e2bc6f777",
      "metadata": {
        "id": "ed4bed5d-f1bd-4b00-82ea-ad0e2bc6f777"
      },
      "source": [
        "Explaination for *args"
      ]
    },
    {
      "cell_type": "code",
      "execution_count": null,
      "id": "74ca53c6-0cfd-491a-b575-de9faef612f6",
      "metadata": {
        "id": "74ca53c6-0cfd-491a-b575-de9faef612f6",
        "outputId": "f4720f89-3bc7-4a4d-dc23-ec6060422b5f"
      },
      "outputs": [
        {
          "data": {
            "text/plain": [
              "(1, 3, 4, 5, 66, 7, 9, 'Data Scince', 'PWskills')"
            ]
          },
          "execution_count": 55,
          "metadata": {},
          "output_type": "execute_result"
        }
      ],
      "source": [
        "# Function for *args\n",
        "\n",
        "def test(*args): #When number of argument is unknown we use *args\n",
        "    return args\n",
        "\n",
        "test(1,3,4,5,66,7,9, \"Data Scince\",  \"PWskills\") #here multiple number of arguments are used to pass in the function"
      ]
    },
    {
      "cell_type": "code",
      "execution_count": null,
      "id": "353fc6b3-b3ef-4a2e-8949-b692f0c72607",
      "metadata": {
        "id": "353fc6b3-b3ef-4a2e-8949-b692f0c72607",
        "outputId": "b7b2a90e-70bb-45ba-d2de-ede12b0761af"
      },
      "outputs": [
        {
          "data": {
            "text/plain": [
              "tuple"
            ]
          },
          "execution_count": 56,
          "metadata": {},
          "output_type": "execute_result"
        }
      ],
      "source": [
        "type(test()) # this shows the type of the function using *args"
      ]
    },
    {
      "cell_type": "code",
      "execution_count": null,
      "id": "3d457619-b6d7-467f-adc7-eb42344c0488",
      "metadata": {
        "id": "3d457619-b6d7-467f-adc7-eb42344c0488",
        "outputId": "9e3cbee9-625a-4274-ec52-d561cbb2ba7d"
      },
      "outputs": [
        {
          "data": {
            "text/plain": [
              "(1, 2, 3, 4, 'Niladri', 'Pwskills', 'Data Science')"
            ]
          },
          "execution_count": 57,
          "metadata": {},
          "output_type": "execute_result"
        }
      ],
      "source": [
        "def test(*nil): #add * before the paremeter name in the function defination\n",
        "    return nil\n",
        "test(1,2,3,4, \"Niladri\" , \"Pwskills\" , \"Data Science\")"
      ]
    },
    {
      "cell_type": "markdown",
      "id": "74f3d686-b006-4af5-a102-44ed68dfeab8",
      "metadata": {
        "id": "74f3d686-b006-4af5-a102-44ed68dfeab8"
      },
      "source": [
        "Explanation for **kwargs"
      ]
    },
    {
      "cell_type": "code",
      "execution_count": null,
      "id": "ba046115-2d96-44a7-aee0-a6afea48f5eb",
      "metadata": {
        "id": "ba046115-2d96-44a7-aee0-a6afea48f5eb"
      },
      "outputs": [],
      "source": [
        "\n",
        "#Function for **kwargs\n",
        "\n",
        "def test1(**kwargs): #add ** before the parameter name in the function defination\n",
        "    return kwargs\n"
      ]
    },
    {
      "cell_type": "code",
      "execution_count": null,
      "id": "b475429f-1c9d-43e0-8a81-5c684463d812",
      "metadata": {
        "id": "b475429f-1c9d-43e0-8a81-5c684463d812",
        "outputId": "66c15789-3b67-4b8f-9f2e-10d1b1d84584"
      },
      "outputs": [
        {
          "data": {
            "text/plain": [
              "{}"
            ]
          },
          "execution_count": 59,
          "metadata": {},
          "output_type": "execute_result"
        }
      ],
      "source": [
        "test1() #shows it creates dictionary"
      ]
    },
    {
      "cell_type": "code",
      "execution_count": null,
      "id": "3c769e13-a340-4aed-9312-56f00da10211",
      "metadata": {
        "id": "3c769e13-a340-4aed-9312-56f00da10211",
        "outputId": "310fd91e-77a3-47da-8e7f-e379f2fff702"
      },
      "outputs": [
        {
          "data": {
            "text/plain": [
              "dict"
            ]
          },
          "execution_count": 60,
          "metadata": {},
          "output_type": "execute_result"
        }
      ],
      "source": [
        "type(test1()) #shows the type is dictionary"
      ]
    },
    {
      "cell_type": "code",
      "execution_count": null,
      "id": "2213a9ee-37d9-44c8-bcc3-5aaecdf4f080",
      "metadata": {
        "id": "2213a9ee-37d9-44c8-bcc3-5aaecdf4f080",
        "outputId": "e3fb4001-3807-402b-cd39-ef5864237b66"
      },
      "outputs": [
        {
          "data": {
            "text/plain": [
              "{'name': ['Niladri', 'Amal', 'Ram'],\n",
              " 'email': ['niladri@gmail.com', 'amal@gmai.com', 'rahul@gmail.com'],\n",
              " 'dept': 'Data Science',\n",
              " 'avg_marks': 75}"
            ]
          },
          "execution_count": 61,
          "metadata": {},
          "output_type": "execute_result"
        }
      ],
      "source": [
        "test1( name  = [\"Niladri\",\"Amal\",\"Ram\"] , email = [\"niladri@gmail.com\",\"amal@gmai.com\",\"rahul@gmail.com\"] , dept = \"Data Science\" , avg_marks = 75)"
      ]
    },
    {
      "cell_type": "markdown",
      "id": "a7fa94b9-73f6-4f77-bf2f-cbaf393e472f",
      "metadata": {
        "id": "a7fa94b9-73f6-4f77-bf2f-cbaf393e472f"
      },
      "source": [
        "Q3.  What is an iterator in python? Name the method used to initialise the iterator object and the method\n",
        "used for iteration. Use these methods to print the first five elements of the given list [2, 4, 6, 8, 10, 12, 14,\n",
        "16, 18, 20]"
      ]
    },
    {
      "cell_type": "markdown",
      "id": "60f4b456-a846-477b-9b6d-e6a2648405e7",
      "metadata": {
        "id": "60f4b456-a846-477b-9b6d-e6a2648405e7"
      },
      "source": [
        "Answer:"
      ]
    },
    {
      "cell_type": "markdown",
      "id": "c6b7c35f-078d-4b92-b664-3951f21d82d6",
      "metadata": {
        "id": "c6b7c35f-078d-4b92-b664-3951f21d82d6"
      },
      "source": [
        "Iterator in Python : Iterator in python is an object which used to iterate over an iterable object such as list, tuple, dictionaries and sets.\n",
        "\n",
        "\"iter()\" is the method which is used to initialise / initialization of an iterator.\n",
        "\"next()\" is the method which is used for iteration. It returns the next value for the iterable."
      ]
    },
    {
      "cell_type": "code",
      "execution_count": null,
      "id": "9218bb65-2ec3-43a4-825a-053122b6ad76",
      "metadata": {
        "id": "9218bb65-2ec3-43a4-825a-053122b6ad76",
        "outputId": "d7432b94-57ab-4dff-c7c4-db0ec8935c13"
      },
      "outputs": [
        {
          "data": {
            "text/plain": [
              "<list_iterator at 0x7f1861b4a500>"
            ]
          },
          "execution_count": 63,
          "metadata": {},
          "output_type": "execute_result"
        }
      ],
      "source": [
        "l = [2, 4, 6, 8, 10, 12, 14, 16, 18, 20]\n",
        "iter(l)"
      ]
    },
    {
      "cell_type": "code",
      "execution_count": null,
      "id": "88cf0961-611d-4f60-a123-893943d088be",
      "metadata": {
        "id": "88cf0961-611d-4f60-a123-893943d088be"
      },
      "outputs": [],
      "source": [
        "l1 = iter(l)"
      ]
    },
    {
      "cell_type": "code",
      "execution_count": null,
      "id": "8501e528-c63c-48e2-8d85-48944faa020a",
      "metadata": {
        "id": "8501e528-c63c-48e2-8d85-48944faa020a",
        "outputId": "fd69566a-d9c8-42c6-8563-688e320439b6"
      },
      "outputs": [
        {
          "data": {
            "text/plain": [
              "2"
            ]
          },
          "execution_count": 65,
          "metadata": {},
          "output_type": "execute_result"
        }
      ],
      "source": [
        "next(l1)"
      ]
    },
    {
      "cell_type": "code",
      "execution_count": null,
      "id": "8609e5ec-5345-404b-b813-470cd3033721",
      "metadata": {
        "id": "8609e5ec-5345-404b-b813-470cd3033721",
        "outputId": "94e790e0-6e60-44e8-b844-35df503f04ed"
      },
      "outputs": [
        {
          "data": {
            "text/plain": [
              "4"
            ]
          },
          "execution_count": 66,
          "metadata": {},
          "output_type": "execute_result"
        }
      ],
      "source": [
        "next(l1)"
      ]
    },
    {
      "cell_type": "code",
      "execution_count": null,
      "id": "ee47cb3e-5067-4544-ac64-bf127e6c03a7",
      "metadata": {
        "id": "ee47cb3e-5067-4544-ac64-bf127e6c03a7",
        "outputId": "9523b1bf-6dcc-4a9d-d928-5262bb704f0c"
      },
      "outputs": [
        {
          "data": {
            "text/plain": [
              "6"
            ]
          },
          "execution_count": 67,
          "metadata": {},
          "output_type": "execute_result"
        }
      ],
      "source": [
        "next(l1)"
      ]
    },
    {
      "cell_type": "code",
      "execution_count": null,
      "id": "6f17c10d-c557-447b-b807-60ad16275eff",
      "metadata": {
        "id": "6f17c10d-c557-447b-b807-60ad16275eff",
        "outputId": "fbca1abd-daf5-44dc-9771-67e9a9a7fc3f"
      },
      "outputs": [
        {
          "data": {
            "text/plain": [
              "8"
            ]
          },
          "execution_count": 68,
          "metadata": {},
          "output_type": "execute_result"
        }
      ],
      "source": [
        "next(l1)"
      ]
    },
    {
      "cell_type": "code",
      "execution_count": null,
      "id": "ff8bfc89-4d52-446f-92ce-4705ba2bf16e",
      "metadata": {
        "tags": [],
        "id": "ff8bfc89-4d52-446f-92ce-4705ba2bf16e",
        "outputId": "ee41560d-93d2-4c16-fcd1-77584c5b1f95"
      },
      "outputs": [
        {
          "data": {
            "text/plain": [
              "10"
            ]
          },
          "execution_count": 69,
          "metadata": {},
          "output_type": "execute_result"
        }
      ],
      "source": [
        "next(l1)"
      ]
    },
    {
      "cell_type": "markdown",
      "id": "57728fd4-1dc7-4d03-885f-d04b10c99f68",
      "metadata": {
        "id": "57728fd4-1dc7-4d03-885f-d04b10c99f68"
      },
      "source": [
        "Q4.  What is a generator function in python? Why yield keyword is used? Give an example of a generator\n",
        "function"
      ]
    },
    {
      "cell_type": "markdown",
      "id": "ebc9cd68-0d62-4896-82d7-7573fca7a988",
      "metadata": {
        "id": "ebc9cd68-0d62-4896-82d7-7573fca7a988"
      },
      "source": [
        "Answer:"
      ]
    },
    {
      "cell_type": "markdown",
      "id": "45f4519e-bfe0-4e2a-8036-df81ee4e8ed3",
      "metadata": {
        "id": "45f4519e-bfe0-4e2a-8036-df81ee4e8ed3"
      },
      "source": [
        "When the body of a def contains \"yield\" keyword then the function becomes generator function.\n",
        "\n",
        "yield keyword is used as it is highly memory efficient , since the execution happens only when the caller iterates over the object."
      ]
    },
    {
      "cell_type": "code",
      "execution_count": null,
      "id": "214cb5aa-8865-446b-ba25-6722558ab474",
      "metadata": {
        "id": "214cb5aa-8865-446b-ba25-6722558ab474",
        "outputId": "e39f66ac-c25d-40fa-be7f-922dad1bb57e"
      },
      "outputs": [
        {
          "name": "stdout",
          "output_type": "stream",
          "text": [
            "[0, 1, 1, 2, 3, 5, 8, 13, 21, 34]\n"
          ]
        }
      ],
      "source": [
        "#Example of a generator function\n",
        "#Fibonacci series using for loop\n",
        "\n",
        "def fib(n):\n",
        "    a , b = 0,1\n",
        "    for i in range(n):\n",
        "        yield a\n",
        "        a , b =  b , a+b\n",
        "print(list(fib(10)))"
      ]
    },
    {
      "cell_type": "markdown",
      "id": "50c5f077-4bdf-4707-ad6b-57e633953576",
      "metadata": {
        "id": "50c5f077-4bdf-4707-ad6b-57e633953576"
      },
      "source": [
        "Q5. Create a generator function for prime numbers less than 1000. Use the next() method to print the\n",
        "first 20 prime numbers."
      ]
    },
    {
      "cell_type": "markdown",
      "id": "4296fdf7-3fe9-4971-97e2-8b7fcf50e66c",
      "metadata": {
        "id": "4296fdf7-3fe9-4971-97e2-8b7fcf50e66c"
      },
      "source": [
        "Answer:"
      ]
    },
    {
      "cell_type": "code",
      "execution_count": null,
      "id": "61bd1bd3-1a26-480e-b864-dbb8fe5bcd8e",
      "metadata": {
        "id": "61bd1bd3-1a26-480e-b864-dbb8fe5bcd8e"
      },
      "outputs": [],
      "source": [
        "############### GENERATOR FUNCTION FOR PRIME NUMBER LESS THAN 1000 ####################\n",
        "#______________________________________________________________________________________#\n",
        "\n",
        "#Detecting if a number is prime\n",
        "\n",
        "def is_prime(n):\n",
        "    if n <= 1:\n",
        "        return False\n",
        "    if n == 2:\n",
        "        return True\n",
        "    if n % 2 == 0:\n",
        "        return False\n",
        "    i = 3\n",
        "    while i <= n **(1/2):\n",
        "        if n % i == 0:\n",
        "            return False\n",
        "        i += 2\n",
        "    return True\n",
        ""
      ]
    },
    {
      "cell_type": "code",
      "execution_count": null,
      "id": "e0112330-9d0a-4d41-8d6f-5119678c1bc4",
      "metadata": {
        "id": "e0112330-9d0a-4d41-8d6f-5119678c1bc4"
      },
      "outputs": [],
      "source": [
        "#Now generating prime numbers with the generator function\n",
        "\n",
        "def prime_generator():\n",
        "    n = 1\n",
        "    while n < 1000:  #using condition for generating prime number less than 1000\n",
        "        n += 1\n",
        "        if is_prime(n):\n",
        "            yield n"
      ]
    },
    {
      "cell_type": "code",
      "execution_count": null,
      "id": "cd0906f5-6e48-4331-a02b-e28cca1c9424",
      "metadata": {
        "id": "cd0906f5-6e48-4331-a02b-e28cca1c9424",
        "outputId": "f579978f-2938-4d68-da70-4f57f228de3d"
      },
      "outputs": [
        {
          "name": "stdout",
          "output_type": "stream",
          "text": [
            "2\n",
            "3\n",
            "5\n",
            "7\n",
            "11\n",
            "13\n",
            "17\n",
            "19\n",
            "23\n",
            "29\n",
            "31\n",
            "37\n",
            "41\n",
            "43\n",
            "47\n",
            "53\n",
            "59\n",
            "61\n",
            "67\n",
            "71\n",
            "73\n",
            "79\n",
            "83\n",
            "89\n",
            "97\n",
            "101\n",
            "103\n",
            "107\n",
            "109\n",
            "113\n",
            "127\n",
            "131\n",
            "137\n",
            "139\n",
            "149\n",
            "151\n",
            "157\n",
            "163\n",
            "167\n",
            "173\n",
            "179\n",
            "181\n",
            "191\n",
            "193\n",
            "197\n",
            "199\n",
            "211\n",
            "223\n",
            "227\n",
            "229\n",
            "233\n",
            "239\n",
            "241\n",
            "251\n",
            "257\n",
            "263\n",
            "269\n",
            "271\n",
            "277\n",
            "281\n",
            "283\n",
            "293\n",
            "307\n",
            "311\n",
            "313\n",
            "317\n",
            "331\n",
            "337\n",
            "347\n",
            "349\n",
            "353\n",
            "359\n",
            "367\n",
            "373\n",
            "379\n",
            "383\n",
            "389\n",
            "397\n",
            "401\n",
            "409\n",
            "419\n",
            "421\n",
            "431\n",
            "433\n",
            "439\n",
            "443\n",
            "449\n",
            "457\n",
            "461\n",
            "463\n",
            "467\n",
            "479\n",
            "487\n",
            "491\n",
            "499\n",
            "503\n",
            "509\n",
            "521\n",
            "523\n",
            "541\n",
            "547\n",
            "557\n",
            "563\n",
            "569\n",
            "571\n",
            "577\n",
            "587\n",
            "593\n",
            "599\n",
            "601\n",
            "607\n",
            "613\n",
            "617\n",
            "619\n",
            "631\n",
            "641\n",
            "643\n",
            "647\n",
            "653\n",
            "659\n",
            "661\n",
            "673\n",
            "677\n",
            "683\n",
            "691\n",
            "701\n",
            "709\n",
            "719\n",
            "727\n",
            "733\n",
            "739\n",
            "743\n",
            "751\n",
            "757\n",
            "761\n",
            "769\n",
            "773\n",
            "787\n",
            "797\n",
            "809\n",
            "811\n",
            "821\n",
            "823\n",
            "827\n",
            "829\n",
            "839\n",
            "853\n",
            "857\n",
            "859\n",
            "863\n",
            "877\n",
            "881\n",
            "883\n",
            "887\n",
            "907\n",
            "911\n",
            "919\n",
            "929\n",
            "937\n",
            "941\n",
            "947\n",
            "953\n",
            "967\n",
            "971\n",
            "977\n",
            "983\n",
            "991\n",
            "997\n"
          ]
        }
      ],
      "source": [
        "for i in prime_generator(): # prime numbers less than 1000\n",
        "    print(i)"
      ]
    },
    {
      "cell_type": "code",
      "execution_count": null,
      "id": "267a2306-5582-4109-bacd-d8bb4ca34048",
      "metadata": {
        "id": "267a2306-5582-4109-bacd-d8bb4ca34048",
        "outputId": "4290d2fb-dc26-495c-8392-81c05e29f6f4"
      },
      "outputs": [
        {
          "name": "stdout",
          "output_type": "stream",
          "text": [
            "2\n",
            "3\n",
            "5\n",
            "7\n",
            "11\n",
            "13\n",
            "17\n",
            "19\n",
            "23\n",
            "29\n",
            "31\n",
            "37\n",
            "41\n",
            "43\n",
            "47\n",
            "53\n",
            "59\n",
            "61\n",
            "67\n",
            "71\n"
          ]
        }
      ],
      "source": [
        "############  Using the next() method to print the first 20 prime numbers. #############\n",
        "#______________________________________________________________________________________#\n",
        "\n",
        "prime = prime_generator()\n",
        "for i in range(20):\n",
        "    print(next(prime))"
      ]
    },
    {
      "cell_type": "markdown",
      "id": "7e3acc35-99e4-435e-b727-a742f1e29654",
      "metadata": {
        "id": "7e3acc35-99e4-435e-b727-a742f1e29654"
      },
      "source": [
        "Q6. Write a python program to print the first 10 Fibonacci numbers using a while loop."
      ]
    },
    {
      "cell_type": "markdown",
      "id": "f27e8dc1-42a2-42eb-b94e-e0a59a22085b",
      "metadata": {
        "id": "f27e8dc1-42a2-42eb-b94e-e0a59a22085b"
      },
      "source": [
        "Answer:"
      ]
    },
    {
      "cell_type": "code",
      "execution_count": null,
      "id": "dc887c1d-2ced-4f96-8086-d4e940ed5f25",
      "metadata": {
        "id": "dc887c1d-2ced-4f96-8086-d4e940ed5f25",
        "outputId": "338a139e-7f87-488d-8371-e0399dc0bce7"
      },
      "outputs": [
        {
          "name": "stdout",
          "output_type": "stream",
          "text": [
            "0\n",
            "1\n",
            "1\n",
            "2\n",
            "3\n",
            "5\n",
            "8\n",
            "13\n",
            "21\n",
            "34\n"
          ]
        }
      ],
      "source": [
        "#First 10 fibonacci numbers using while loop\n",
        "\n",
        "def fib(n):\n",
        "    counter = 0\n",
        "    a , b = 0 , 1\n",
        "    while counter < n:\n",
        "        print(a)\n",
        "        c = a+b\n",
        "        a = b\n",
        "        b = c\n",
        "        counter += 1\n",
        "\n",
        "fib(10)\n",
        ""
      ]
    },
    {
      "cell_type": "markdown",
      "id": "83611f7c-fa41-4b24-8e70-2c15adeb9cea",
      "metadata": {
        "id": "83611f7c-fa41-4b24-8e70-2c15adeb9cea"
      },
      "source": [
        "Q7. Write a List Comprehension to iterate through the given string: ‘pwskills’.\n",
        "\n",
        "Expected output: ['p', 'w', 's', 'k', 'i', 'l', 'l', 's']"
      ]
    },
    {
      "cell_type": "markdown",
      "id": "65562eed-645b-48a3-bff8-1c1b31761eb3",
      "metadata": {
        "id": "65562eed-645b-48a3-bff8-1c1b31761eb3"
      },
      "source": [
        "Answer:"
      ]
    },
    {
      "cell_type": "code",
      "execution_count": null,
      "id": "e59f8fa8-1dfc-4fb2-81a7-15f2ed4d102b",
      "metadata": {
        "id": "e59f8fa8-1dfc-4fb2-81a7-15f2ed4d102b",
        "outputId": "4e989ab4-4fef-4f9b-f2a2-f132326725df"
      },
      "outputs": [
        {
          "data": {
            "text/plain": [
              "['p', 'w', 's', 'k', 'i', 'l', 'l', 's']"
            ]
          },
          "execution_count": 76,
          "metadata": {},
          "output_type": "execute_result"
        }
      ],
      "source": [
        "s = 'pwskills'\n",
        "[i for i in s]"
      ]
    },
    {
      "cell_type": "markdown",
      "id": "955d4858-22c2-4568-9640-085374ddb4c4",
      "metadata": {
        "id": "955d4858-22c2-4568-9640-085374ddb4c4"
      },
      "source": [
        "Q8. Write a python program to check whether a given number is Palindrome or not using a while loop."
      ]
    },
    {
      "cell_type": "markdown",
      "id": "ba713ddf-4d7b-4c26-a74a-9089090eb245",
      "metadata": {
        "id": "ba713ddf-4d7b-4c26-a74a-9089090eb245"
      },
      "source": [
        "Answer:"
      ]
    },
    {
      "cell_type": "code",
      "execution_count": null,
      "id": "f01e2699-f594-4cd1-bf7c-0d3e4153fb43",
      "metadata": {
        "id": "f01e2699-f594-4cd1-bf7c-0d3e4153fb43",
        "outputId": "4361a4dd-1e4d-4e0b-b746-0d6452b4a4a0"
      },
      "outputs": [
        {
          "name": "stdout",
          "output_type": "stream",
          "text": [
            "Enter the number :  1221\n"
          ]
        },
        {
          "name": "stdout",
          "output_type": "stream",
          "text": [
            " The number 1221 is Palindrome !\n"
          ]
        }
      ],
      "source": [
        "num = int(input(\"Enter the number : \"))\n",
        "temp = num\n",
        "def palindrome(num):\n",
        "    rev = 0\n",
        "    while num > 0:\n",
        "        digit = num % 10\n",
        "        rev = rev*10 + digit\n",
        "        num = num //10\n",
        "    return rev\n",
        "palindrome = palindrome(num)\n",
        "\n",
        "if temp == palindrome:\n",
        "    print(f\" The number {temp} is Palindrome !\")\n",
        "else:\n",
        "    print(f\" The number {temp} is {rev} not a Palindrome\")"
      ]
    },
    {
      "cell_type": "markdown",
      "id": "e2e612b6-52a7-4635-8333-c29b7fb9318a",
      "metadata": {
        "id": "e2e612b6-52a7-4635-8333-c29b7fb9318a"
      },
      "source": [
        "Q9. Write a code to print odd numbers from 1 to 100 using list comprehension.\n",
        "\n",
        "Note: Use a list comprehension to create a list from 1 to 100 and use another List comprehension to filter\n",
        "out odd numbers"
      ]
    },
    {
      "cell_type": "markdown",
      "id": "0b65eb02-fc36-4ad6-aa6a-36b8bd15bbd5",
      "metadata": {
        "id": "0b65eb02-fc36-4ad6-aa6a-36b8bd15bbd5"
      },
      "source": [
        "Answer:"
      ]
    },
    {
      "cell_type": "code",
      "execution_count": null,
      "id": "50379101-2431-481e-b3e4-a55ae42312ec",
      "metadata": {
        "id": "50379101-2431-481e-b3e4-a55ae42312ec",
        "outputId": "5b1ceb88-81f2-4b84-c529-84367f7384ac"
      },
      "outputs": [
        {
          "data": {
            "text/plain": [
              "[1,\n",
              " 3,\n",
              " 5,\n",
              " 7,\n",
              " 9,\n",
              " 11,\n",
              " 13,\n",
              " 15,\n",
              " 17,\n",
              " 19,\n",
              " 21,\n",
              " 23,\n",
              " 25,\n",
              " 27,\n",
              " 29,\n",
              " 31,\n",
              " 33,\n",
              " 35,\n",
              " 37,\n",
              " 39,\n",
              " 41,\n",
              " 43,\n",
              " 45,\n",
              " 47,\n",
              " 49,\n",
              " 51,\n",
              " 53,\n",
              " 55,\n",
              " 57,\n",
              " 59,\n",
              " 61,\n",
              " 63,\n",
              " 65,\n",
              " 67,\n",
              " 69,\n",
              " 71,\n",
              " 73,\n",
              " 75,\n",
              " 77,\n",
              " 79,\n",
              " 81,\n",
              " 83,\n",
              " 85,\n",
              " 87,\n",
              " 89,\n",
              " 91,\n",
              " 93,\n",
              " 95,\n",
              " 97,\n",
              " 99]"
            ]
          },
          "execution_count": 79,
          "metadata": {},
          "output_type": "execute_result"
        }
      ],
      "source": [
        "a = [i for i in range(1,101)]\n",
        "[j for j in a if j % 2 != 0]"
      ]
    }
  ],
  "metadata": {
    "kernelspec": {
      "display_name": "Python 3",
      "language": "python",
      "name": "python3"
    },
    "language_info": {
      "codemirror_mode": {
        "name": "ipython",
        "version": 3
      },
      "file_extension": ".py",
      "mimetype": "text/x-python",
      "name": "python",
      "nbconvert_exporter": "python",
      "pygments_lexer": "ipython3",
      "version": "3.9.13"
    },
    "vscode": {
      "interpreter": {
        "hash": "051bb4b69f6dfe7b8a42847327c70d860feaaf9e87968e606dbbc74e071809b6"
      }
    },
    "colab": {
      "provenance": [],
      "include_colab_link": true
    }
  },
  "nbformat": 4,
  "nbformat_minor": 5
}