{
  "cells": [
    {
      "cell_type": "markdown",
      "metadata": {
        "id": "view-in-github",
        "colab_type": "text"
      },
      "source": [
        "<a href=\"https://colab.research.google.com/github/datanil/Assignments/blob/main/19th_Feb_(Flask).ipynb\" target=\"_parent\"><img src=\"https://colab.research.google.com/assets/colab-badge.svg\" alt=\"Open In Colab\"/></a>"
      ]
    },
    {
      "cell_type": "markdown",
      "id": "ff7b9473-5b94-4661-89f4-9dc0e287ceb2",
      "metadata": {
        "id": "ff7b9473-5b94-4661-89f4-9dc0e287ceb2"
      },
      "source": [
        "# ___Q1. What is Flask Framework? What are the advantages of Flask Framework?___"
      ]
    },
    {
      "cell_type": "markdown",
      "id": "f49af493-794d-44a4-a669-e12658317bf0",
      "metadata": {
        "id": "f49af493-794d-44a4-a669-e12658317bf0"
      },
      "source": [
        "## ___ANSWER :___"
      ]
    },
    {
      "cell_type": "markdown",
      "id": "2aadd6e1-0815-4ee2-9268-1aa17bffd94d",
      "metadata": {
        "id": "2aadd6e1-0815-4ee2-9268-1aa17bffd94d"
      },
      "source": [
        "Flask is a lightweight and flexible Python web framework that allows developers to easily build web applications. It is considered a \"micro-framework\" because it does not require particular tools or libraries and keeps the core simple and minimalistic, giving developers the flexibility to add more features as needed."
      ]
    },
    {
      "cell_type": "markdown",
      "id": "001c98b0-3e11-4c7d-acb8-9df069fe61c5",
      "metadata": {
        "id": "001c98b0-3e11-4c7d-acb8-9df069fe61c5"
      },
      "source": [
        "___Here are some advantages of using Flask framework:___"
      ]
    },
    {
      "cell_type": "markdown",
      "id": "f5ba5d9a-9f2d-4793-82d9-0f3d2015495d",
      "metadata": {
        "id": "f5ba5d9a-9f2d-4793-82d9-0f3d2015495d"
      },
      "source": [
        "__1. Easy to get started:__ Flask is very easy to set up and use. With just a few lines of code, you can create a simple web application.\n",
        "\n",
        "__2. Flexible:__ Flask is very flexible and modular. You can easily add extensions to extend the functionality of your application.\n",
        "\n",
        "__3. Lightweight:__ Flask is a lightweight framework and does not come with a lot of pre-built features or tools, which makes it easy to learn and use.\n",
        "\n",
        "__4. Modular:__ Flask is built on a modular design, which means that you can use only the parts of the framework that you need.\n",
        "\n",
        "__5. Python-based:__ Flask is based on Python, which is a very popular and easy-to-learn programming language. This makes Flask a good choice for developers who already know Python.\n",
        "\n",
        "__6. Good documentation:__ Flask has a well-documented API and extensive documentation, which makes it easy to learn and use."
      ]
    },
    {
      "cell_type": "code",
      "execution_count": null,
      "id": "4d53af82-d870-4427-ac7c-ebeb96d690b6",
      "metadata": {
        "id": "4d53af82-d870-4427-ac7c-ebeb96d690b6"
      },
      "outputs": [],
      "source": []
    },
    {
      "cell_type": "markdown",
      "id": "6afd9f7f-145c-4c1f-b335-269b82068ffe",
      "metadata": {
        "id": "6afd9f7f-145c-4c1f-b335-269b82068ffe"
      },
      "source": [
        "# ____Q2. Create a simple Flask application to display ‘Hello World!!’. Attach the screenshot of the output in Jupyter Notebook.___"
      ]
    },
    {
      "cell_type": "markdown",
      "id": "064dbae7-71c9-4686-824d-bd1f604d2ba3",
      "metadata": {
        "id": "064dbae7-71c9-4686-824d-bd1f604d2ba3"
      },
      "source": [
        "## ___ANSWER :___"
      ]
    },
    {
      "cell_type": "code",
      "execution_count": null,
      "id": "f2726d89-8019-4e1b-929a-0dd325077273",
      "metadata": {
        "id": "f2726d89-8019-4e1b-929a-0dd325077273"
      },
      "outputs": [],
      "source": [
        "from flask import Flask\n",
        "\n",
        "app = Flask(__name__)\n",
        "\n",
        "\n",
        "@app.route('/')\n",
        "\n",
        "def welcome():\n",
        "    return \"<h1> Hello World !!</h1>\"\n",
        "\n",
        "if __name__ == \"__main__\":\n",
        "    app.run(host='0.0.0.0')"
      ]
    },
    {
      "cell_type": "markdown",
      "id": "0479a8e7-c662-467c-bc47-7f1ac5f43c4f",
      "metadata": {
        "id": "0479a8e7-c662-467c-bc47-7f1ac5f43c4f"
      },
      "source": [
        "![hello world.png](attachment:dc22ae16-4ba6-4d8d-9d17-c1f39237fe25.png)"
      ]
    },
    {
      "cell_type": "code",
      "execution_count": null,
      "id": "11cd12b1-c4f9-4668-a66f-6c7cb942e772",
      "metadata": {
        "id": "11cd12b1-c4f9-4668-a66f-6c7cb942e772"
      },
      "outputs": [],
      "source": []
    },
    {
      "cell_type": "markdown",
      "id": "42fbe269-8fe5-4ccd-8486-45c9f5c5bc5e",
      "metadata": {
        "id": "42fbe269-8fe5-4ccd-8486-45c9f5c5bc5e"
      },
      "source": [
        "# ___Q3. What is App routing in Flask? Why do we use app routes?___"
      ]
    },
    {
      "cell_type": "markdown",
      "id": "537afffe-e687-4e6c-afdb-3f798f2c9f8d",
      "metadata": {
        "id": "537afffe-e687-4e6c-afdb-3f798f2c9f8d"
      },
      "source": [
        "## ___ANSWER :___"
      ]
    },
    {
      "cell_type": "markdown",
      "id": "b395dd02-0dd4-4351-bc17-a585f5c3887f",
      "metadata": {
        "id": "b395dd02-0dd4-4351-bc17-a585f5c3887f"
      },
      "source": [
        "In Flask, app routing refers to the process of mapping URLs (Uniform Resource Locators) to specific functions in your application. When a user visits a URL, Flask uses the app routing mechanism to determine which function should handle the request and generate the appropriate response."
      ]
    },
    {
      "cell_type": "markdown",
      "id": "ed5ed48f-6653-457f-8649-1fcb984be5aa",
      "metadata": {
        "id": "ed5ed48f-6653-457f-8649-1fcb984be5aa"
      },
      "source": [
        "App routes in Flask are used to define the different endpoints of a web application. An endpoint is a specific URL that the user can visit, such as \"/home\" or \"/about\". App routes allow you to specify the URL patterns for your application, along with the functions that should handle each endpoint.\n",
        "\n",
        "App routing is an important feature of Flask because it allows you to create a RESTful API with multiple endpoints that can handle different types of requests. It also makes it easy to organize your code and separate concerns, as you can define different functions to handle different endpoints or HTTP methods.\n",
        "Hence, app routing is a crucial aspect of bulding web application in Flask , and undestanding how it works is essential for developing robust and scalable application."
      ]
    },
    {
      "cell_type": "code",
      "execution_count": null,
      "id": "d7ed9f69-e8ef-4b26-9ec8-82c6506d954d",
      "metadata": {
        "id": "d7ed9f69-e8ef-4b26-9ec8-82c6506d954d"
      },
      "outputs": [],
      "source": []
    },
    {
      "cell_type": "code",
      "execution_count": null,
      "id": "e5d09ab2-1f65-4f36-816b-3e0a55fb5386",
      "metadata": {
        "id": "e5d09ab2-1f65-4f36-816b-3e0a55fb5386"
      },
      "outputs": [],
      "source": []
    },
    {
      "cell_type": "code",
      "execution_count": null,
      "id": "2a329173-8998-43e7-b6b8-7d2995bcd021",
      "metadata": {
        "id": "2a329173-8998-43e7-b6b8-7d2995bcd021"
      },
      "outputs": [],
      "source": []
    },
    {
      "cell_type": "markdown",
      "id": "2d88a5ac-82ab-4505-8260-ffc6849f0b98",
      "metadata": {
        "id": "2d88a5ac-82ab-4505-8260-ffc6849f0b98"
      },
      "source": [
        "# ___Q4. Create a “/welcome” route to display the welcome message “Welcome to ABC Corporation” and a “/”___"
      ]
    },
    {
      "cell_type": "markdown",
      "id": "5294f204-1c13-4d7e-bd30-7f6512338b5e",
      "metadata": {
        "id": "5294f204-1c13-4d7e-bd30-7f6512338b5e"
      },
      "source": [
        "## ___route to show the following details:___"
      ]
    },
    {
      "cell_type": "markdown",
      "id": "42afde15-b041-4dd7-8e22-0f29c88facc3",
      "metadata": {
        "id": "42afde15-b041-4dd7-8e22-0f29c88facc3"
      },
      "source": [
        "## ___Company Name: ABC Corporation___"
      ]
    },
    {
      "cell_type": "markdown",
      "id": "22e9a7ea-cd3c-474d-9ada-06c457e663ed",
      "metadata": {
        "id": "22e9a7ea-cd3c-474d-9ada-06c457e663ed"
      },
      "source": [
        "## ___Location: India___"
      ]
    },
    {
      "cell_type": "markdown",
      "id": "628b9ed4-4d29-457e-95bc-9b2d6c4d2a67",
      "metadata": {
        "id": "628b9ed4-4d29-457e-95bc-9b2d6c4d2a67"
      },
      "source": [
        "## ___Contact Detail: 999-999-9999___"
      ]
    },
    {
      "cell_type": "markdown",
      "id": "5d47e8d8-940c-48bc-9a09-162a3aac2d53",
      "metadata": {
        "id": "5d47e8d8-940c-48bc-9a09-162a3aac2d53"
      },
      "source": [
        "### ___Attach the screenshot of the output in Jupyter Notebook.___"
      ]
    },
    {
      "cell_type": "markdown",
      "id": "c5cf0d00-9deb-40ae-ac88-2367e4bac5fa",
      "metadata": {
        "id": "c5cf0d00-9deb-40ae-ac88-2367e4bac5fa"
      },
      "source": [
        "## ___ANSWER :___"
      ]
    },
    {
      "cell_type": "code",
      "execution_count": null,
      "id": "f60c8915-25e6-483c-a5e7-2377d32e7b8a",
      "metadata": {
        "id": "f60c8915-25e6-483c-a5e7-2377d32e7b8a"
      },
      "outputs": [],
      "source": [
        "from flask import Flask\n",
        "\n",
        "app = Flask(__name__)\n",
        "\n",
        "@app.route('/welcome')\n",
        "def wlecome():\n",
        "    return \"<h1>Welcome to ABC Corporation</h1>\"\n",
        "\n",
        "@app.route('/')\n",
        "def details():\n",
        "    return \"<h1>Company Name : ABC Corporation <br> Location : India <br> Contact Detail : 999-999-999</h1>\"\n",
        "\n",
        "\n",
        "if __name__ == \"__main__\":\n",
        "    app.run(host='0.0.0.0')"
      ]
    },
    {
      "cell_type": "markdown",
      "id": "6090b38c-416a-4937-aa34-65fd5f59563a",
      "metadata": {
        "id": "6090b38c-416a-4937-aa34-65fd5f59563a"
      },
      "source": [
        "![flask api.png](attachment:8aefa1b9-d415-4428-a860-aab8777de9b6.png)"
      ]
    },
    {
      "cell_type": "code",
      "execution_count": null,
      "id": "c011c64e-6625-4965-9d61-a1c8b14fa250",
      "metadata": {
        "id": "c011c64e-6625-4965-9d61-a1c8b14fa250"
      },
      "outputs": [],
      "source": []
    },
    {
      "cell_type": "code",
      "execution_count": null,
      "id": "bc11974e-2e02-4bb9-8bd3-de0dcb6b0e4a",
      "metadata": {
        "id": "bc11974e-2e02-4bb9-8bd3-de0dcb6b0e4a"
      },
      "outputs": [],
      "source": []
    },
    {
      "cell_type": "code",
      "execution_count": null,
      "id": "55f2434e-6737-4161-8710-a168e51fb221",
      "metadata": {
        "id": "55f2434e-6737-4161-8710-a168e51fb221"
      },
      "outputs": [],
      "source": []
    },
    {
      "cell_type": "code",
      "execution_count": null,
      "id": "f64d9393-3c1f-45cc-99eb-cac6ee8171e9",
      "metadata": {
        "id": "f64d9393-3c1f-45cc-99eb-cac6ee8171e9"
      },
      "outputs": [],
      "source": []
    },
    {
      "cell_type": "markdown",
      "id": "a3ea9a37-8821-419e-a4af-36a43b7287fd",
      "metadata": {
        "id": "a3ea9a37-8821-419e-a4af-36a43b7287fd"
      },
      "source": [
        "# ___Q5. What function is used in Flask for URL Building? Write a Python code to demonstrate the working of the url_for() function.___"
      ]
    },
    {
      "cell_type": "markdown",
      "id": "eeffd37e-d550-4528-a22d-d7bd9d0064ae",
      "metadata": {
        "id": "eeffd37e-d550-4528-a22d-d7bd9d0064ae"
      },
      "source": [
        "## ___ANSWER :___"
      ]
    },
    {
      "cell_type": "markdown",
      "id": "33b964c4-a6bc-453d-9190-48ce67151eeb",
      "metadata": {
        "id": "33b964c4-a6bc-453d-9190-48ce67151eeb"
      },
      "source": [
        "In Flask, the __url_for()__ function is used for URL building. This function generates a URL for the given endpoint and can also handle dynamic URL components."
      ]
    },
    {
      "cell_type": "markdown",
      "id": "df9c7871-7bf3-43cd-bf42-21fde26c0b57",
      "metadata": {
        "id": "df9c7871-7bf3-43cd-bf42-21fde26c0b57"
      },
      "source": [
        "Here's an example Python code to demonstrate the working of the __url_for()__ function:"
      ]
    },
    {
      "cell_type": "code",
      "execution_count": null,
      "id": "f4f5f8c7-573d-4d17-91df-1165202a004f",
      "metadata": {
        "id": "f4f5f8c7-573d-4d17-91df-1165202a004f"
      },
      "outputs": [],
      "source": [
        "from flask import Flask , url_for\n",
        "\n",
        "\n",
        "app = Flask(__name__)\n",
        "\n",
        "@app.route('/')\n",
        "def home():\n",
        "    return 'Welcome to the home page'\n",
        "\n",
        "@app.route('/about')\n",
        "def about():\n",
        "    return \"This the about page\"\n",
        "\n",
        "@app.route('/user/<username>')\n",
        "def user_profile(username):\n",
        "    return f\"This is the profile page for {username}.\"\n",
        "\n",
        "if __name__ == \"__main__\":\n",
        "    with app.test_request_context():\n",
        "        print(url_for('home'))\n",
        "        print(url_for('about'))\n",
        "        print(url_for('user_profile',username = 'Niladri'))"
      ]
    },
    {
      "cell_type": "markdown",
      "id": "e980ea8a-26a7-49ed-a021-f84306aa3168",
      "metadata": {
        "id": "e980ea8a-26a7-49ed-a021-f84306aa3168"
      },
      "source": [
        "![url for.png](attachment:00dd10d5-3469-4bf1-9172-7121ec8db14d.png)"
      ]
    },
    {
      "cell_type": "markdown",
      "id": "2ad42f37-92cb-4041-9941-635b7f0c60a1",
      "metadata": {
        "id": "2ad42f37-92cb-4041-9941-635b7f0c60a1"
      },
      "source": [
        "In this example, we define three app routes: one for the home page (/), one for the about page (/about), and one for a user profile page (/user/<username>). We then use the url_for() function to generate URLs for these endpoints.\n",
        "\n",
        "When we call url_for('home'), the function returns /, which is the URL for the home page. Similarly, url_for('about') returns /about, and url_for('user_profile', username='Niladri') returns /user/John, where \"John\" is a dynamic component of the URL."
      ]
    },
    {
      "cell_type": "code",
      "execution_count": null,
      "id": "d2fb5b04-4568-4adb-a293-7cf1aba29b42",
      "metadata": {
        "id": "d2fb5b04-4568-4adb-a293-7cf1aba29b42"
      },
      "outputs": [],
      "source": []
    },
    {
      "cell_type": "code",
      "execution_count": null,
      "id": "760e9554-3cb6-4c72-92e9-11a280277189",
      "metadata": {
        "id": "760e9554-3cb6-4c72-92e9-11a280277189"
      },
      "outputs": [],
      "source": []
    }
  ],
  "metadata": {
    "kernelspec": {
      "display_name": "Python 3 (ipykernel)",
      "language": "python",
      "name": "python3"
    },
    "language_info": {
      "codemirror_mode": {
        "name": "ipython",
        "version": 3
      },
      "file_extension": ".py",
      "mimetype": "text/x-python",
      "name": "python",
      "nbconvert_exporter": "python",
      "pygments_lexer": "ipython3",
      "version": "3.10.8"
    },
    "colab": {
      "provenance": [],
      "include_colab_link": true
    }
  },
  "nbformat": 4,
  "nbformat_minor": 5
}