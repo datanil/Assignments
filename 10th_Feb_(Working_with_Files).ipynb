{
  "cells": [
    {
      "cell_type": "markdown",
      "metadata": {
        "id": "view-in-github",
        "colab_type": "text"
      },
      "source": [
        "<a href=\"https://colab.research.google.com/github/datanil/Assignments/blob/main/10th_Feb_(Working_with_Files).ipynb\" target=\"_parent\"><img src=\"https://colab.research.google.com/assets/colab-badge.svg\" alt=\"Open In Colab\"/></a>"
      ]
    },
    {
      "cell_type": "markdown",
      "id": "f245e5c5-df21-40f1-8f51-20cd39c358f4",
      "metadata": {
        "id": "f245e5c5-df21-40f1-8f51-20cd39c358f4"
      },
      "source": [
        "Q1. Which function is used to open a file? What are the different modes of opening a file? Explain each mode\n",
        "of file opening."
      ]
    },
    {
      "cell_type": "markdown",
      "id": "d72998fa-eedd-4f05-9172-ba1d8bb10994",
      "metadata": {
        "id": "d72998fa-eedd-4f05-9172-ba1d8bb10994"
      },
      "source": [
        "__ANSWER :__"
      ]
    },
    {
      "cell_type": "markdown",
      "id": "7340e001-3cc6-4d47-9b1b-d7b8e009d55e",
      "metadata": {
        "id": "7340e001-3cc6-4d47-9b1b-d7b8e009d55e"
      },
      "source": [
        "__open()__ is used to open a file ."
      ]
    },
    {
      "cell_type": "markdown",
      "id": "a6a4f0ee-e8a7-4076-a4cc-67f234dea8e4",
      "metadata": {
        "id": "a6a4f0ee-e8a7-4076-a4cc-67f234dea8e4"
      },
      "source": [
        "__The different modes for opening the the files are ---->__\n",
        "\n",
        "i.  __\"r\"__ : Read  --> Default value. Opens a file for reading , error if the file does not      exist.\n",
        "\n",
        "ii. __\"a\"__ : Append --> Opens a file for appending , creates the file if it does not exists.\n",
        "\n",
        "iii. __\"w\"__ : Write --> Opens a file for writing , creates the file if it does not exists.\n",
        "\n",
        "iv. __\"x\"__ : Create -->  Creates a specified file , returns an error if the file exists."
      ]
    },
    {
      "cell_type": "markdown",
      "id": "a0460218-5aec-46c6-a910-b923817544ac",
      "metadata": {
        "id": "a0460218-5aec-46c6-a910-b923817544ac"
      },
      "source": [
        "__Explanation:__\n",
        "    "
      ]
    },
    {
      "cell_type": "code",
      "execution_count": null,
      "id": "c9baea3a-15b9-4130-baf5-c1b85e69e18f",
      "metadata": {
        "id": "c9baea3a-15b9-4130-baf5-c1b85e69e18f",
        "outputId": "b530fa47-4b6a-4844-9bfc-27c8664115e9"
      },
      "outputs": [
        {
          "name": "stdout",
          "output_type": "stream",
          "text": [
            "I want to become a Data Scientist\n"
          ]
        }
      ],
      "source": [
        "with open(\"data_science.txt\" , 'r') as f: #this specifies to read a file only\n",
        "    print(f.read()) # f.read() will help to read the file"
      ]
    },
    {
      "cell_type": "code",
      "execution_count": null,
      "id": "23189630-9e60-46e0-bb8a-b143ec4bc8b0",
      "metadata": {
        "id": "23189630-9e60-46e0-bb8a-b143ec4bc8b0"
      },
      "outputs": [],
      "source": [
        "with open(\"subject.txt\" , 'w') as f: #this will create a file to write\n",
        "    f.write(\"Data Science\")"
      ]
    },
    {
      "cell_type": "code",
      "execution_count": null,
      "id": "acda046b-f3ce-4260-ac6d-7d3954873ded",
      "metadata": {
        "id": "acda046b-f3ce-4260-ac6d-7d3954873ded",
        "outputId": "b4fc9750-7c0e-4b6f-e77a-280cadb28f18"
      },
      "outputs": [
        {
          "name": "stdout",
          "output_type": "stream",
          "text": [
            "Data Science\n"
          ]
        }
      ],
      "source": [
        "with open(\"subject.txt\", 'r') as f:\n",
        "    print(f.read())"
      ]
    },
    {
      "cell_type": "code",
      "execution_count": null,
      "id": "c00efc40-bde9-4248-9d09-42e794f2c736",
      "metadata": {
        "id": "c00efc40-bde9-4248-9d09-42e794f2c736"
      },
      "outputs": [],
      "source": [
        "with open(\"subject.txt\"  , 'a') as f: #this will do the function of append\n",
        "    f.write(\"\\nWeb Developer\")"
      ]
    },
    {
      "cell_type": "code",
      "execution_count": null,
      "id": "6ed3cf04-7619-4062-adb3-bc8377cc7e2b",
      "metadata": {
        "id": "6ed3cf04-7619-4062-adb3-bc8377cc7e2b",
        "outputId": "edb1d973-d070-4486-ee5f-845041cffc15"
      },
      "outputs": [
        {
          "name": "stdout",
          "output_type": "stream",
          "text": [
            "Data Science\n",
            "Web Developer\n"
          ]
        }
      ],
      "source": [
        "with open(\"subject.txt\" , 'r')as f:\n",
        "    print(f.read())"
      ]
    },
    {
      "cell_type": "code",
      "execution_count": null,
      "id": "2e98c68d-13f1-4e2f-96d4-faaa60b76359",
      "metadata": {
        "id": "2e98c68d-13f1-4e2f-96d4-faaa60b76359"
      },
      "outputs": [],
      "source": [
        "f = open (\"new_file.txt\" , 'x') # it creates a new file if not exsisted."
      ]
    },
    {
      "cell_type": "markdown",
      "id": "9c0759b1-04fc-481d-be7f-7e24c3c2d740",
      "metadata": {
        "id": "9c0759b1-04fc-481d-be7f-7e24c3c2d740"
      },
      "source": [
        "Q2. Why close() function is used? Why is it important to close a file?"
      ]
    },
    {
      "cell_type": "markdown",
      "id": "e2384503-b802-4f7e-a56c-324819023344",
      "metadata": {
        "id": "e2384503-b802-4f7e-a56c-324819023344"
      },
      "source": [
        "__ANSWER :__"
      ]
    },
    {
      "cell_type": "markdown",
      "id": "2956446b-b0f6-410e-a292-2d450cfdda64",
      "metadata": {
        "id": "2956446b-b0f6-410e-a292-2d450cfdda64"
      },
      "source": [
        "close() function is used to close an open file."
      ]
    },
    {
      "cell_type": "markdown",
      "id": "ddabb451-0b41-47ea-a1c1-bb93beaf4c47",
      "metadata": {
        "id": "ddabb451-0b41-47ea-a1c1-bb93beaf4c47"
      },
      "source": [
        "We should always close a file while using an open file . As in some cases due to buffereing , changes made to a file may not show until we close the file."
      ]
    },
    {
      "cell_type": "markdown",
      "id": "b6a5e772-1a7c-40a8-9c29-c726cc65cc94",
      "metadata": {
        "id": "b6a5e772-1a7c-40a8-9c29-c726cc65cc94"
      },
      "source": [
        "Q3. Write a python program to create a text file. Write ‘I want to become a Data Scientist’ in that file. Then\n",
        "close the file. Open this file and read the content of the file."
      ]
    },
    {
      "cell_type": "markdown",
      "id": "8942e543-456d-4720-b568-5a0648495dd7",
      "metadata": {
        "id": "8942e543-456d-4720-b568-5a0648495dd7"
      },
      "source": [
        "__ANSWER :__"
      ]
    },
    {
      "cell_type": "code",
      "execution_count": null,
      "id": "88d2c858-3815-412d-98ba-50c4a7015d77",
      "metadata": {
        "id": "88d2c858-3815-412d-98ba-50c4a7015d77"
      },
      "outputs": [],
      "source": [
        "with open(\"data_science.txt\" , \"w\") as f:\n",
        "    f.write(\"I want to become a Data Scientist\")"
      ]
    },
    {
      "cell_type": "code",
      "execution_count": null,
      "id": "bf27055e-6d3b-43a7-ac25-759145895b3b",
      "metadata": {
        "id": "bf27055e-6d3b-43a7-ac25-759145895b3b",
        "outputId": "7ab44ee4-b05e-4622-a06f-a296718a60ed"
      },
      "outputs": [
        {
          "name": "stdout",
          "output_type": "stream",
          "text": [
            "I want to become a Data Scientist\n"
          ]
        }
      ],
      "source": [
        "with open(\"data_science.txt\" , \"r\") as f :\n",
        "    print(f.read())"
      ]
    },
    {
      "cell_type": "markdown",
      "id": "cb373c32-4d9f-4a83-8dcb-38c0ff31ce2a",
      "metadata": {
        "id": "cb373c32-4d9f-4a83-8dcb-38c0ff31ce2a"
      },
      "source": [
        "Q4. Explain the following with python code: read(), readline() and readlines()."
      ]
    },
    {
      "cell_type": "markdown",
      "id": "017be5e2-f0fb-4e1e-8fa1-0705e96c2955",
      "metadata": {
        "id": "017be5e2-f0fb-4e1e-8fa1-0705e96c2955"
      },
      "source": [
        "__ANSWER :__"
      ]
    },
    {
      "cell_type": "markdown",
      "id": "a0da2916-e47f-43e9-aa56-f39d2bbbc131",
      "metadata": {
        "id": "a0da2916-e47f-43e9-aa56-f39d2bbbc131"
      },
      "source": [
        "__read()__ : The read() returns the specified number of bytes from the file . Default is -1 which means the while file.\n",
        "\n",
        "__Syntax :__ file.read()"
      ]
    },
    {
      "cell_type": "markdown",
      "id": "b2cf3d3d-c01b-45c6-bdea-2367a8339785",
      "metadata": {
        "id": "b2cf3d3d-c01b-45c6-bdea-2367a8339785"
      },
      "source": [
        "__Example:__"
      ]
    },
    {
      "cell_type": "code",
      "execution_count": null,
      "id": "f2822726-e9dc-4353-a15b-5324c2b16f04",
      "metadata": {
        "id": "f2822726-e9dc-4353-a15b-5324c2b16f04",
        "outputId": "396f6496-828d-47cb-c178-adf630adf6c1"
      },
      "outputs": [
        {
          "name": "stdout",
          "output_type": "stream",
          "text": [
            "I want to become a Data Scientist\n"
          ]
        }
      ],
      "source": [
        "with open(\"data_science.txt\" , \"r\") as f:\n",
        "    print(f.read(-1))"
      ]
    },
    {
      "cell_type": "code",
      "execution_count": null,
      "id": "b0745dc3-395b-436d-a864-6806f8b74528",
      "metadata": {
        "id": "b0745dc3-395b-436d-a864-6806f8b74528",
        "outputId": "1ef0791d-9512-4022-8efb-38fc0f2d4903"
      },
      "outputs": [
        {
          "name": "stdout",
          "output_type": "stream",
          "text": [
            "I want to become a Data Scientist\n"
          ]
        }
      ],
      "source": [
        "with open(\"data_science.txt\" , 'r') as f:\n",
        "    print(f.read()) #this f.read() will return the whole file without using -1"
      ]
    },
    {
      "cell_type": "code",
      "execution_count": null,
      "id": "58a659bc-d505-426e-b53f-3d0cf60082d7",
      "metadata": {
        "id": "58a659bc-d505-426e-b53f-3d0cf60082d7",
        "outputId": "045bb465-5139-4c8f-bfd8-6dc86c175743"
      },
      "outputs": [
        {
          "name": "stdout",
          "output_type": "stream",
          "text": [
            "I want to \n"
          ]
        }
      ],
      "source": [
        "with open(\"data_science.txt\" , \"r\") as f:\n",
        "    print(f.read(10)) #f.read(postion) this will return upto a specied number of lines , here it started from the begining upto 10th position"
      ]
    },
    {
      "cell_type": "markdown",
      "id": "c69d7b34-4d1a-449c-bac7-19e8176610d8",
      "metadata": {
        "id": "c69d7b34-4d1a-449c-bac7-19e8176610d8"
      },
      "source": [
        "__readlines():__ This method returns a list containing each line in the file as a list of items.\n",
        "\n",
        "__syntax:__ file.readlines()"
      ]
    },
    {
      "cell_type": "code",
      "execution_count": null,
      "id": "0ffe9f86-7a75-442e-8674-5931f189dea0",
      "metadata": {
        "id": "0ffe9f86-7a75-442e-8674-5931f189dea0",
        "outputId": "1a570a84-4c1a-4ed6-90df-d5d9189b8cc6"
      },
      "outputs": [
        {
          "name": "stdout",
          "output_type": "stream",
          "text": [
            "['I want to become a Data Scientist']\n"
          ]
        }
      ],
      "source": [
        "with open(\"data_science.txt\" , 'r') as f:\n",
        "    print(f.readlines()) #f.readlines() will put the data under a list."
      ]
    },
    {
      "cell_type": "markdown",
      "id": "878a8f8c-6db4-4d86-80b8-07c11b708f65",
      "metadata": {
        "id": "878a8f8c-6db4-4d86-80b8-07c11b708f65"
      },
      "source": [
        "Q5. Explain why with statement is used with open(). What is the advantage of using with statement and\n",
        "open() together?"
      ]
    },
    {
      "cell_type": "markdown",
      "id": "42288e99-d224-4976-bbd2-918c93cd91a3",
      "metadata": {
        "id": "42288e99-d224-4976-bbd2-918c93cd91a3"
      },
      "source": [
        "__ANSWER :__"
      ]
    },
    {
      "cell_type": "markdown",
      "id": "0f111280-04d0-4f0f-ba56-b07c4f2504dc",
      "metadata": {
        "id": "0f111280-04d0-4f0f-ba56-b07c4f2504dc"
      },
      "source": [
        "Unlike open() where you have to close the file with the close() method , the wiht statement closes the file for us without teling it or calling it ."
      ]
    },
    {
      "cell_type": "markdown",
      "id": "3e5063c9-0875-4bbe-9d11-050bb28b7b82",
      "metadata": {
        "id": "3e5063c9-0875-4bbe-9d11-050bb28b7b82"
      },
      "source": [
        "__Advantages:__\n",
        "    \n",
        "Better syntax with less code and execeotion handling ,and no  requirement of close() method."
      ]
    },
    {
      "cell_type": "markdown",
      "id": "e1a09484-ab2b-498b-ad69-9a6f8bb1282f",
      "metadata": {
        "id": "e1a09484-ab2b-498b-ad69-9a6f8bb1282f"
      },
      "source": [
        "Q6. Explain the write() and writelines() functions. Give a suitable example."
      ]
    },
    {
      "cell_type": "markdown",
      "id": "f8ac08db-4614-4197-8888-c8faaa9d9743",
      "metadata": {
        "id": "f8ac08db-4614-4197-8888-c8faaa9d9743"
      },
      "source": [
        "__ANSWER :__"
      ]
    },
    {
      "cell_type": "markdown",
      "id": "2da34096-f36e-4095-99a8-e3ec8d79b03c",
      "metadata": {
        "id": "2da34096-f36e-4095-99a8-e3ec8d79b03c"
      },
      "source": [
        "__write():__ This method writes a specific text to the file. Where some specific text will be inserted on the file mode and stream position.\n",
        "\n",
        "It depends upon the file mode and string position -->\n",
        "\n",
        "__\"a\":__ The text will be inserted at the current file stream posititon , default at the end of the file i.e, it will do the work of append.\n",
        "\n",
        "__\"w\":__ The file will be empitied before the text will be inserted at the current file stream position i.e, open for writing, truncating the file first."
      ]
    },
    {
      "cell_type": "markdown",
      "id": "feb6d580-e746-4ca2-9d30-c30c607bc12b",
      "metadata": {
        "id": "feb6d580-e746-4ca2-9d30-c30c607bc12b"
      },
      "source": [
        "Example:"
      ]
    },
    {
      "cell_type": "code",
      "execution_count": null,
      "id": "db2a33cb-9e65-4d56-93dd-91eeff5d32de",
      "metadata": {
        "id": "db2a33cb-9e65-4d56-93dd-91eeff5d32de"
      },
      "outputs": [],
      "source": [
        "with open(\"greeting.txt\" , 'w') as f:\n",
        "    f.write(\" Hello , Good morning !\")"
      ]
    },
    {
      "cell_type": "code",
      "execution_count": null,
      "id": "5756f295-8e8f-450c-b389-384c5d5098b5",
      "metadata": {
        "id": "5756f295-8e8f-450c-b389-384c5d5098b5"
      },
      "outputs": [],
      "source": [
        "with open(\"greeting.txt\" , 'a') as f:\n",
        "    f.write(\" See you soon!\")"
      ]
    },
    {
      "cell_type": "code",
      "execution_count": null,
      "id": "1c218592-3f17-4cac-9643-dab24b0f4be1",
      "metadata": {
        "id": "1c218592-3f17-4cac-9643-dab24b0f4be1",
        "outputId": "a04942e1-203b-4bc2-c91e-3797fe8bd9f6"
      },
      "outputs": [
        {
          "name": "stdout",
          "output_type": "stream",
          "text": [
            " Hello , Good morning ! See you soon!\n"
          ]
        }
      ],
      "source": [
        "with open(\"greeting.txt\" , 'r') as f:\n",
        "    print(f.read())"
      ]
    },
    {
      "cell_type": "markdown",
      "id": "0b2b4a59-fbd6-432e-ace4-8a678703d973",
      "metadata": {
        "id": "0b2b4a59-fbd6-432e-ace4-8a678703d973"
      },
      "source": [
        "__writelines():__ The writelines() method writes the items of a list to the file.\n",
        "\n",
        "It depends upon the file mode and stream position.\n",
        "\n",
        "__\"a\"__: The texts will be inserted at the current file stream position , default at the end of the file i.e, it will  do the work of append.\n",
        "\n",
        "__\"w\"__: The file will be emptied and the text will be inserted at the current file stream  position i.e, open for writing and trancating the  file first"
      ]
    },
    {
      "cell_type": "markdown",
      "id": "3c07399b-19bc-43fc-adbd-5f61e22e3d10",
      "metadata": {
        "id": "3c07399b-19bc-43fc-adbd-5f61e22e3d10"
      },
      "source": [
        "__Example:__\n",
        "    "
      ]
    },
    {
      "cell_type": "code",
      "execution_count": null,
      "id": "e2e4f4c8-33d4-4a73-99c8-7d42add9e29f",
      "metadata": {
        "id": "e2e4f4c8-33d4-4a73-99c8-7d42add9e29f"
      },
      "outputs": [],
      "source": [
        "with open(\"web.txt\" , 'w') as f:\n",
        "    f.writelines([\" I am web developer\"])"
      ]
    },
    {
      "cell_type": "code",
      "execution_count": null,
      "id": "1befafd9-c86e-4c72-bc34-e738cea91e39",
      "metadata": {
        "id": "1befafd9-c86e-4c72-bc34-e738cea91e39"
      },
      "outputs": [],
      "source": [
        "with open(\"web.txt\" , 'a') as f:\n",
        "    f.writelines([\"\\nHello everyone !\"])"
      ]
    },
    {
      "cell_type": "code",
      "execution_count": null,
      "id": "6a673fe3-ab96-4bfe-9cfb-e5c93adc8a22",
      "metadata": {
        "id": "6a673fe3-ab96-4bfe-9cfb-e5c93adc8a22",
        "outputId": "8aa08b48-312f-4655-c275-6d57d19bb12f"
      },
      "outputs": [
        {
          "name": "stdout",
          "output_type": "stream",
          "text": [
            " I am web developer\n",
            "Hello everyone !\n"
          ]
        }
      ],
      "source": [
        "with open(\"web.txt\" , 'r') as f:\n",
        "    print(f.read())"
      ]
    },
    {
      "cell_type": "code",
      "execution_count": null,
      "id": "3c30fc1e-b120-49d1-882f-758458000ba9",
      "metadata": {
        "id": "3c30fc1e-b120-49d1-882f-758458000ba9"
      },
      "outputs": [],
      "source": []
    }
  ],
  "metadata": {
    "kernelspec": {
      "display_name": "Python 3 (ipykernel)",
      "language": "python",
      "name": "python3"
    },
    "language_info": {
      "codemirror_mode": {
        "name": "ipython",
        "version": 3
      },
      "file_extension": ".py",
      "mimetype": "text/x-python",
      "name": "python",
      "nbconvert_exporter": "python",
      "pygments_lexer": "ipython3",
      "version": "3.10.8"
    },
    "colab": {
      "provenance": [],
      "include_colab_link": true
    }
  },
  "nbformat": 4,
  "nbformat_minor": 5
}