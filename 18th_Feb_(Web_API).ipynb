{
  "cells": [
    {
      "cell_type": "markdown",
      "metadata": {
        "id": "view-in-github",
        "colab_type": "text"
      },
      "source": [
        "<a href=\"https://colab.research.google.com/github/datanil/Assignments/blob/main/18th_Feb_(Web_API).ipynb\" target=\"_parent\"><img src=\"https://colab.research.google.com/assets/colab-badge.svg\" alt=\"Open In Colab\"/></a>"
      ]
    },
    {
      "cell_type": "markdown",
      "id": "3e5ed06d-ee3f-4498-a2c2-69d2fc466530",
      "metadata": {
        "id": "3e5ed06d-ee3f-4498-a2c2-69d2fc466530"
      },
      "source": [
        "# ___Q1. What is an API? Give an example, where an API is used in real life.___"
      ]
    },
    {
      "cell_type": "markdown",
      "id": "eebdf641-8869-462f-9a90-288c9b3c5690",
      "metadata": {
        "id": "eebdf641-8869-462f-9a90-288c9b3c5690"
      },
      "source": [
        "## ___ANSWER :___"
      ]
    },
    {
      "cell_type": "markdown",
      "id": "eff592a0-434f-42e3-a3c1-3c9137ebb91d",
      "metadata": {
        "id": "eff592a0-434f-42e3-a3c1-3c9137ebb91d"
      },
      "source": [
        "__API__ stands for __\"Application Programming Interface.\"__ It is a set of protocols, routines, and tools that enable different software applications to communicate with each other. In simple terms, an API specifies how different components of software should interact with each other."
      ]
    },
    {
      "cell_type": "markdown",
      "id": "88a5ca67-2f55-4b24-8976-221e0a16f6aa",
      "metadata": {
        "id": "88a5ca67-2f55-4b24-8976-221e0a16f6aa"
      },
      "source": [
        "___Example :___"
      ]
    },
    {
      "cell_type": "markdown",
      "id": "4b4bf3f2-e7a5-473a-8983-9b5882166183",
      "metadata": {
        "id": "4b4bf3f2-e7a5-473a-8983-9b5882166183"
      },
      "source": [
        "Google Maps API allows developers to integrate Google Maps into their own applications. For instance, a website that needs to display a map of a location can use Google Maps API to generate that map and provide navigation functionalities."
      ]
    },
    {
      "cell_type": "markdown",
      "id": "70c2dc25-594e-4821-aec4-99528b4f9e6c",
      "metadata": {
        "id": "70c2dc25-594e-4821-aec4-99528b4f9e6c"
      },
      "source": [
        "## ___Q2. Give advantages and disadvantages of using API.___"
      ]
    },
    {
      "cell_type": "markdown",
      "id": "6ce63fb8-d032-4842-bd08-db1e315a4d7b",
      "metadata": {
        "id": "6ce63fb8-d032-4842-bd08-db1e315a4d7b"
      },
      "source": [
        "## ___ANSWER :___"
      ]
    },
    {
      "cell_type": "markdown",
      "id": "cc3002f8-39e3-4dc3-8b87-6997df8708f2",
      "metadata": {
        "id": "cc3002f8-39e3-4dc3-8b87-6997df8708f2"
      },
      "source": [
        "APIs offer numerous advantages, but they also come with some potential drawbacks. Here are some advantages and disadvantages of using APIs:\n",
        "\n",
        "___Advantages of using APIs:___\n",
        "\n",
        "__1. Increased efficiency:__ APIs can help simplify complex tasks and automate processes, making them more efficient and reliable.\n",
        "\n",
        "__2. Reusability:__ APIs can be used by multiple applications, which reduces the need to develop similar functionalities from scratch, saving time and resources.\n",
        "\n",
        "__3. Scalability:__ APIs can handle large volumes of requests and scale quickly to accommodate changes in traffic.\n",
        "\n",
        "__4. Flexibility:__ APIs allow developers to build applications that can work across different platforms and devices.\n",
        "\n",
        "__5. Improved functionality:__ By integrating with APIs, developers can add new functionalities and features to their applications.\n",
        "\n",
        "\n",
        "___Disadvantages of using APIs:___\n",
        "\n",
        "__1. Complexity:__ APIs can be complex to implement and require specialized knowledge and skills.\n",
        "\n",
        "__2. Security risks:__ APIs can be vulnerable to security threats such as hacking, denial-of-service attacks, and data breaches.\n",
        "\n",
        "__3. Dependence:__ When an application relies on an API, any changes or problems with the API can affect the application's functionality.\n",
        "\n",
        "__4. Compatibility issues:__ APIs may not be compatible with all programming languages or systems, which can limit their usefulness.\n",
        "\n",
        "__5. Limited control:__ When an application relies on an API, the developer has limited control over the API's functionality and updates."
      ]
    },
    {
      "cell_type": "markdown",
      "id": "8c08cf4c-f610-45fd-9e1a-cd8e22ff0690",
      "metadata": {
        "id": "8c08cf4c-f610-45fd-9e1a-cd8e22ff0690"
      },
      "source": [
        "# ___Q3. What is a Web API? Differentiate between API and Web API.___"
      ]
    },
    {
      "cell_type": "markdown",
      "id": "0c044924-c945-4a42-8bf1-3e519e84068e",
      "metadata": {
        "id": "0c044924-c945-4a42-8bf1-3e519e84068e"
      },
      "source": [
        "## ___ANSWER :___"
      ]
    },
    {
      "cell_type": "markdown",
      "id": "298745b8-8603-4844-9b60-05e41ffbc7ce",
      "metadata": {
        "id": "298745b8-8603-4844-9b60-05e41ffbc7ce"
      },
      "source": [
        "A Web API, also known as a Web Service, is a type of API that is designed specifically for use on the web. Web APIs enable communication between different web-based applications, allowing them to exchange data and functionality."
      ]
    },
    {
      "cell_type": "markdown",
      "id": "ed34bfb9-6076-4da1-bef3-36b0d30e91e1",
      "metadata": {
        "id": "ed34bfb9-6076-4da1-bef3-36b0d30e91e1"
      },
      "source": [
        "___The difference between API and Web API :___"
      ]
    },
    {
      "cell_type": "markdown",
      "id": "7e5ebccc-d1e0-4aec-9454-5ca26956ba9f",
      "metadata": {
        "id": "7e5ebccc-d1e0-4aec-9454-5ca26956ba9f"
      },
      "source": [
        "__1. CONTEXT :__  APIs can be used in any context, while Web APIs are specifically designed for web-based applications.\n",
        "\n",
        "__2. PROTOCOL :__ APIs can use different communication protocols such as TCP/IP, FTP, or SMTP, while Web APIs typically use web-based protocols such as HTTP and REST.\n",
        "\n",
        "__3. INTEGRATION :__ APIs can be integrated with any tyoe of application or services , while APIs are specifically designed to intergate with web-based applicatiobs or services.\n",
        "\n",
        "__4. RESOURCE ACCESS :__ APIs can provide access to a wide range of resources, while Web APIs typically provide access to web-based resources such as web pages, media files, and other web-based services.\n",
        "\n",
        "__5. SECURITY :__  Both APIs and Web APIs require security measures to prevent unauthorized access, but Web APIs may have additional security considerations due to their web-based nature and exposure to the public internet."
      ]
    },
    {
      "cell_type": "markdown",
      "id": "78877b4a-9c46-42d7-aaf9-511fc59f6ef9",
      "metadata": {
        "id": "78877b4a-9c46-42d7-aaf9-511fc59f6ef9"
      },
      "source": [
        "# ___Q4. Explain REST and SOAP Architecture. Mention shortcomings of SOAP.___"
      ]
    },
    {
      "cell_type": "markdown",
      "id": "350c55ee-0f4c-41eb-a4f4-199036559ff5",
      "metadata": {
        "id": "350c55ee-0f4c-41eb-a4f4-199036559ff5"
      },
      "source": [
        "## ___ANSWER :___"
      ]
    },
    {
      "cell_type": "markdown",
      "id": "53826809-8b99-4ffe-b217-91e454b42f34",
      "metadata": {
        "id": "53826809-8b99-4ffe-b217-91e454b42f34"
      },
      "source": [
        "__REST (Representational State Transfer)__ and __SOAP (Simple Object Access Protocol)__ are two architectural styles for designing web services."
      ]
    },
    {
      "cell_type": "markdown",
      "id": "7f6062b4-f27a-459a-a00a-7ec4914c4473",
      "metadata": {
        "id": "7f6062b4-f27a-459a-a00a-7ec4914c4473"
      },
      "source": [
        "__REST__ is an architectural style that is based on the HTTP protocol. RESTful web services use HTTP methods like ___GET, POST, PUT, and DELETE___ to interact with resources (e.g. web pages, images, data) on the web. RESTful APIs are lightweight, scalable, and easy to use. They are widely used in web and mobile applications.\n"
      ]
    },
    {
      "cell_type": "markdown",
      "id": "c44d5b05-3806-4ff3-bc81-2dc5bd57e12d",
      "metadata": {
        "id": "c44d5b05-3806-4ff3-bc81-2dc5bd57e12d"
      },
      "source": [
        "___RESTful services are based on the following principles :___\n",
        "\n",
        "__1. Client-server architecture :__  The client and server are separated allowing them to evolve independtly.\n",
        "\n",
        "__2. Stateless :__ Eaxh request sent to the server contains all the informatuon needed to complete the request. The sever does not maintain any client between requests.\n",
        "\n",
        "__3. Cacheable :__ Responses from the server be cached to improve performance.\n",
        "\n",
        "__4. Uniform interface :__ RESTful services use a uniform interface consisting of resources , HTTP verbs (GET,POST,PUT,DELETE) ad hypermedia links.\n",
        "\n",
        "__5. Layered system :__ RESTful services cane be composed of multiple layers , allowing for scalability , flexibility , and security."
      ]
    },
    {
      "cell_type": "markdown",
      "id": "37fe7583-2377-47ee-844b-85b3e0739993",
      "metadata": {
        "id": "37fe7583-2377-47ee-844b-85b3e0739993"
      },
      "source": [
        "__SOAP is an architecture__ is based on XML (eXtensible Markup Language) and uses a messaging protocol for web services. SOAP is a more formal protocol than REST and requires more overhead for the messaging protocol. It uses WSDL (Web Services Description Language) to describe the functionalities offered by a web service. SOAP is commonly used in enterprise environments where security and reliability are paramount."
      ]
    },
    {
      "cell_type": "markdown",
      "id": "f6a7bc39-1a0f-4ced-bbf1-a51c20dee39a",
      "metadata": {
        "id": "f6a7bc39-1a0f-4ced-bbf1-a51c20dee39a"
      },
      "source": [
        "___The shortcomings of SOAP include:___"
      ]
    },
    {
      "cell_type": "markdown",
      "id": "849f1003-9e6c-43f4-9ab3-4c41f65e8ade",
      "metadata": {
        "id": "849f1003-9e6c-43f4-9ab3-4c41f65e8ade"
      },
      "source": [
        "__Complexity :__ SOAP can be more complex to use than REST, requiring more overhead and configuration, and making it more difficult to implement.\n",
        "\n",
        "__Performance :__ SOAP messages can be larger than REST messages, leading to slower performance, especially over low-bandwidth networks.\n",
        "\n",
        "__Resource-intensive :__ SOAP requires more system resources, such as memory and CPU, to process and parse messages, making it less scalable.\n",
        "\n",
        "__Limited platform compatibility :__ SOAP is limited in its compatibility with different platforms and programming languages, making it less flexible than REST.\n",
        "\n",
        "__Lack of simplicity :__ SOAP requires a lot of boilerplate code to handle errors, making it less simple than REST.\n",
        "\n",
        "\n",
        "\n",
        "\n",
        "\n"
      ]
    },
    {
      "cell_type": "markdown",
      "id": "1ad34526-a046-4a5b-a4c0-9be130854288",
      "metadata": {
        "id": "1ad34526-a046-4a5b-a4c0-9be130854288"
      },
      "source": [
        "# ___Q5. Differentiate between REST and SOAP.___"
      ]
    },
    {
      "cell_type": "markdown",
      "id": "0b392c8a-0317-4edc-9881-b7827a07dda9",
      "metadata": {
        "id": "0b392c8a-0317-4edc-9881-b7827a07dda9"
      },
      "source": [
        "## ___ANSWER :___"
      ]
    },
    {
      "cell_type": "markdown",
      "id": "1342e97c-6148-4b03-9d4d-9183993a93bf",
      "metadata": {
        "id": "1342e97c-6148-4b03-9d4d-9183993a93bf"
      },
      "source": [
        "__REST (Representational State Transfer) and SOAP (Simple Object Access Protocol)__ are two different architectural styles for designing web services.\n",
        "\n",
        "___The differences between REST and SOAP are as follows :___"
      ]
    },
    {
      "cell_type": "markdown",
      "id": "bf244d3b-0126-4523-a65a-d5ed40d99739",
      "metadata": {
        "id": "bf244d3b-0126-4523-a65a-d5ed40d99739"
      },
      "source": [
        "___1. PROTOCOL :___  \n",
        "\n",
        "__REST__ is based on HTTP (Hypertext Transfer Protocol) and uses standard HTTP methods like GET, POST, PUT, and DELETE to interact with resources.\n",
        "\n",
        "__SOAP__ uses its own messaging protocol that sits on top of a variety of lower-level protocols such as HTTP, SMTP, or TCP/IP.\n",
        "\n",
        "___2. DATA FORMAT :___\n",
        "\n",
        "__REST__ typically uses lightweight data formats such as JSON (JavaScript Object Notation) or XML (eXtensible Markup Language) to send data between the client and server.\n",
        "\n",
        "__SOAP__ uses XML exclusively for message exchanges.\n",
        "\n",
        "___3. PERFORMANCE :___\n",
        "\n",
        "__REST__ is generally faster and more efficient than SOAP because it does not require as much overhead for message formatting and parsing.\n",
        "\n",
        "__SOAP__ messages can be larger and more complex than REST messages, leading to slower performance, especially over low-bandwidth networks.\n",
        "\n",
        "___4. SCALABILITY :___\n",
        "\n",
        "__REST__ is more scalable than SOAP because it uses lightweight messages that can be cached and reused, reducing the number of requests to the server.\n",
        "\n",
        "__SOAP__, on the other hand, requires more system resources to process and parse messages, making it less scalable.\n",
        "\n",
        "___5. FLEXIBILITY :___\n",
        "\n",
        "__REST__ is more flexible than SOAP because it is not bound to a specific messaging protocol or data format. It can work with any data format and can be used with any protocol that supports HTTP, including HTTPS and SPDY.\n",
        "\n",
        "__SOAP__ is more rigid because it is tightly coupled with XML and requires a specific messaging protocol."
      ]
    },
    {
      "cell_type": "code",
      "execution_count": null,
      "id": "a801fefc-2f5b-4c22-bb78-742f660e7e97",
      "metadata": {
        "id": "a801fefc-2f5b-4c22-bb78-742f660e7e97"
      },
      "outputs": [],
      "source": []
    }
  ],
  "metadata": {
    "kernelspec": {
      "display_name": "Python 3 (ipykernel)",
      "language": "python",
      "name": "python3"
    },
    "language_info": {
      "codemirror_mode": {
        "name": "ipython",
        "version": 3
      },
      "file_extension": ".py",
      "mimetype": "text/x-python",
      "name": "python",
      "nbconvert_exporter": "python",
      "pygments_lexer": "ipython3",
      "version": "3.10.8"
    },
    "colab": {
      "provenance": [],
      "include_colab_link": true
    }
  },
  "nbformat": 4,
  "nbformat_minor": 5
}